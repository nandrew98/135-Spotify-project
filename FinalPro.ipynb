{
 "cells": [
  {
   "cell_type": "markdown",
   "metadata": {},
   "source": [
    "## Data cleaning "
   ]
  },
  {
   "cell_type": "markdown",
   "metadata": {},
   "source": [
    "**Import Modules**"
   ]
  },
  {
   "cell_type": "code",
   "execution_count": 1,
   "metadata": {},
   "outputs": [],
   "source": [
    "from pyspark.sql.session import SparkSession\n",
    "from pyspark.sql import functions as F\n",
    "\n",
    "from pyspark.ml import Pipeline\n",
    "from pyspark.ml.regression import LinearRegression\n",
    "from pyspark.ml.linalg import DenseVector\n",
    "from pyspark.ml.linalg import Vectors\n",
    "from pyspark.ml.feature import VectorAssembler, StandardScaler, PCA, OneHotEncoder, StringIndexer\n",
    "from pyspark.ml.evaluation import RegressionEvaluator\n",
    "from pyspark.ml.tuning import ParamGridBuilder, CrossValidator\n",
    "\n",
    "from pyspark.sql.types import IntegerType\n",
    "from pyspark.sql.types import FloatType\n",
    "from pyspark.sql.functions import isnan, when, count, col"
   ]
  },
  {
   "cell_type": "code",
   "execution_count": 2,
   "metadata": {},
   "outputs": [],
   "source": [
    "# Data Manipulation\n",
    "import numpy as np \n",
    "import pandas as pd"
   ]
  },
  {
   "cell_type": "code",
   "execution_count": 3,
   "metadata": {},
   "outputs": [],
   "source": [
    "import os\n",
    "spark = SparkSession.builder.getOrCreate()\n",
    "sc = spark.sparkContext"
   ]
  },
  {
   "cell_type": "markdown",
   "metadata": {},
   "source": [
    "**Read csv file**"
   ]
  },
  {
   "cell_type": "code",
   "execution_count": 4,
   "metadata": {},
   "outputs": [],
   "source": [
    "filename = 'data.csv'\n",
    "df = spark.read.csv(filename, inferSchema=True, header = True)"
   ]
  },
  {
   "cell_type": "code",
   "execution_count": 5,
   "metadata": {},
   "outputs": [
    {
     "data": {
      "text/plain": [
       "pyspark.sql.dataframe.DataFrame"
      ]
     },
     "execution_count": 5,
     "metadata": {},
     "output_type": "execute_result"
    }
   ],
   "source": [
    "type(df)"
   ]
  },
  {
   "cell_type": "code",
   "execution_count": 6,
   "metadata": {},
   "outputs": [
    {
     "data": {
      "text/html": [
       "<div>\n",
       "<style scoped>\n",
       "    .dataframe tbody tr th:only-of-type {\n",
       "        vertical-align: middle;\n",
       "    }\n",
       "\n",
       "    .dataframe tbody tr th {\n",
       "        vertical-align: top;\n",
       "    }\n",
       "\n",
       "    .dataframe thead th {\n",
       "        text-align: right;\n",
       "    }\n",
       "</style>\n",
       "<table border=\"1\" class=\"dataframe\">\n",
       "  <thead>\n",
       "    <tr style=\"text-align: right;\">\n",
       "      <th></th>\n",
       "      <th>acousticness</th>\n",
       "      <th>artists</th>\n",
       "      <th>danceability</th>\n",
       "      <th>duration_ms</th>\n",
       "      <th>energy</th>\n",
       "      <th>explicit</th>\n",
       "      <th>id</th>\n",
       "      <th>instrumentalness</th>\n",
       "      <th>key</th>\n",
       "      <th>liveness</th>\n",
       "      <th>loudness</th>\n",
       "      <th>mode</th>\n",
       "      <th>name</th>\n",
       "      <th>popularity</th>\n",
       "      <th>release_date</th>\n",
       "      <th>speechiness</th>\n",
       "      <th>tempo</th>\n",
       "      <th>valence</th>\n",
       "      <th>year</th>\n",
       "    </tr>\n",
       "  </thead>\n",
       "  <tbody>\n",
       "    <tr>\n",
       "      <th>0</th>\n",
       "      <td>0.991000</td>\n",
       "      <td>['Mamie Smith']</td>\n",
       "      <td>0.598</td>\n",
       "      <td>168333</td>\n",
       "      <td>0.22399999999999998</td>\n",
       "      <td>0</td>\n",
       "      <td>0cS0A1fUEUd1EW3FcF8AEI</td>\n",
       "      <td>0.000522</td>\n",
       "      <td>5</td>\n",
       "      <td>0.379</td>\n",
       "      <td>-12.628</td>\n",
       "      <td>0</td>\n",
       "      <td>Keep A Song In Your Soul</td>\n",
       "      <td>12</td>\n",
       "      <td>1920</td>\n",
       "      <td>0.0936</td>\n",
       "      <td>149.976</td>\n",
       "      <td>0.634</td>\n",
       "      <td>1920</td>\n",
       "    </tr>\n",
       "    <tr>\n",
       "      <th>1</th>\n",
       "      <td>0.643000</td>\n",
       "      <td>\"[\"\"Screamin' Jay Hawkins\"\"]\"</td>\n",
       "      <td>0.852</td>\n",
       "      <td>150200</td>\n",
       "      <td>0.517</td>\n",
       "      <td>0</td>\n",
       "      <td>0hbkKFIJm7Z05H8Zl9w30f</td>\n",
       "      <td>0.0264</td>\n",
       "      <td>5</td>\n",
       "      <td>0.0809</td>\n",
       "      <td>-7.261</td>\n",
       "      <td>0</td>\n",
       "      <td>I Put A Spell On You</td>\n",
       "      <td>7</td>\n",
       "      <td>1920-01-05</td>\n",
       "      <td>0.0534</td>\n",
       "      <td>86.889</td>\n",
       "      <td>0.95</td>\n",
       "      <td>1920</td>\n",
       "    </tr>\n",
       "    <tr>\n",
       "      <th>2</th>\n",
       "      <td>0.993000</td>\n",
       "      <td>['Mamie Smith']</td>\n",
       "      <td>0.647</td>\n",
       "      <td>163827</td>\n",
       "      <td>0.18600000000000005</td>\n",
       "      <td>0</td>\n",
       "      <td>11m7laMUgmOKqI3oYzuhne</td>\n",
       "      <td>1.76e-05</td>\n",
       "      <td>0</td>\n",
       "      <td>0.519</td>\n",
       "      <td>-12.097999999999999</td>\n",
       "      <td>1</td>\n",
       "      <td>Golfing Papa</td>\n",
       "      <td>4</td>\n",
       "      <td>1920</td>\n",
       "      <td>0.174</td>\n",
       "      <td>97.6</td>\n",
       "      <td>0.6890000000000001</td>\n",
       "      <td>1920</td>\n",
       "    </tr>\n",
       "    <tr>\n",
       "      <th>3</th>\n",
       "      <td>0.000173</td>\n",
       "      <td>['Oscar Velazquez']</td>\n",
       "      <td>0.73</td>\n",
       "      <td>422087</td>\n",
       "      <td>0.7979999999999999</td>\n",
       "      <td>0</td>\n",
       "      <td>19Lc5SfJJ5O1oaxY0fpwfh</td>\n",
       "      <td>0.8009999999999999</td>\n",
       "      <td>2</td>\n",
       "      <td>0.128</td>\n",
       "      <td>-7.311</td>\n",
       "      <td>1</td>\n",
       "      <td>True House Music - Xavier Santos &amp; Carlos Gomi...</td>\n",
       "      <td>17</td>\n",
       "      <td>1920-01-01</td>\n",
       "      <td>0.0425</td>\n",
       "      <td>127.99700000000001</td>\n",
       "      <td>0.0422</td>\n",
       "      <td>1920</td>\n",
       "    </tr>\n",
       "    <tr>\n",
       "      <th>4</th>\n",
       "      <td>0.295000</td>\n",
       "      <td>['Mixe']</td>\n",
       "      <td>0.7040000000000001</td>\n",
       "      <td>165224</td>\n",
       "      <td>0.7070000000000001</td>\n",
       "      <td>1</td>\n",
       "      <td>2hJjbsLCytGsnAHfdsLejp</td>\n",
       "      <td>0.000246</td>\n",
       "      <td>10</td>\n",
       "      <td>0.402</td>\n",
       "      <td>-6.0360000000000005</td>\n",
       "      <td>0</td>\n",
       "      <td>Xuniverxe</td>\n",
       "      <td>2</td>\n",
       "      <td>1920-10-01</td>\n",
       "      <td>0.0768</td>\n",
       "      <td>122.07600000000001</td>\n",
       "      <td>0.299</td>\n",
       "      <td>1920</td>\n",
       "    </tr>\n",
       "    <tr>\n",
       "      <th>...</th>\n",
       "      <td>...</td>\n",
       "      <td>...</td>\n",
       "      <td>...</td>\n",
       "      <td>...</td>\n",
       "      <td>...</td>\n",
       "      <td>...</td>\n",
       "      <td>...</td>\n",
       "      <td>...</td>\n",
       "      <td>...</td>\n",
       "      <td>...</td>\n",
       "      <td>...</td>\n",
       "      <td>...</td>\n",
       "      <td>...</td>\n",
       "      <td>...</td>\n",
       "      <td>...</td>\n",
       "      <td>...</td>\n",
       "      <td>...</td>\n",
       "      <td>...</td>\n",
       "      <td>...</td>\n",
       "    </tr>\n",
       "    <tr>\n",
       "      <th>174384</th>\n",
       "      <td>0.009170</td>\n",
       "      <td>['DJ Combo', 'Sander-7', 'Tony T']</td>\n",
       "      <td>0.792</td>\n",
       "      <td>147615</td>\n",
       "      <td>0.866</td>\n",
       "      <td>0</td>\n",
       "      <td>46LhBf6TvYjZU2SMvGZAbn</td>\n",
       "      <td>5.99e-05</td>\n",
       "      <td>6</td>\n",
       "      <td>0.17800000000000002</td>\n",
       "      <td>-5.0889999999999995</td>\n",
       "      <td>0</td>\n",
       "      <td>The One</td>\n",
       "      <td>0</td>\n",
       "      <td>2020-12-25</td>\n",
       "      <td>0.0356</td>\n",
       "      <td>125.97200000000001</td>\n",
       "      <td>0.18600000000000005</td>\n",
       "      <td>2020</td>\n",
       "    </tr>\n",
       "    <tr>\n",
       "      <th>174385</th>\n",
       "      <td>0.795000</td>\n",
       "      <td>['Alessia Cara']</td>\n",
       "      <td>0.429</td>\n",
       "      <td>144720</td>\n",
       "      <td>0.21100000000000002</td>\n",
       "      <td>0</td>\n",
       "      <td>7tue2Wemjd0FZzRtDrQFZd</td>\n",
       "      <td>0.0</td>\n",
       "      <td>4</td>\n",
       "      <td>0.196</td>\n",
       "      <td>-11.665</td>\n",
       "      <td>1</td>\n",
       "      <td>A Little More</td>\n",
       "      <td>0</td>\n",
       "      <td>2021-01-22</td>\n",
       "      <td>0.036000000000000004</td>\n",
       "      <td>94.71</td>\n",
       "      <td>0.228</td>\n",
       "      <td>2021</td>\n",
       "    </tr>\n",
       "    <tr>\n",
       "      <th>174386</th>\n",
       "      <td>0.806000</td>\n",
       "      <td>['Roger Fly']</td>\n",
       "      <td>0.6709999999999999</td>\n",
       "      <td>218147</td>\n",
       "      <td>0.589</td>\n",
       "      <td>0</td>\n",
       "      <td>48Qj61hOdYmUCFJbpQ29Ob</td>\n",
       "      <td>0.92</td>\n",
       "      <td>4</td>\n",
       "      <td>0.113</td>\n",
       "      <td>-12.392999999999999</td>\n",
       "      <td>0</td>\n",
       "      <td>Together</td>\n",
       "      <td>0</td>\n",
       "      <td>2020-12-09</td>\n",
       "      <td>0.0282</td>\n",
       "      <td>108.05799999999999</td>\n",
       "      <td>0.7140000000000001</td>\n",
       "      <td>2020</td>\n",
       "    </tr>\n",
       "    <tr>\n",
       "      <th>174387</th>\n",
       "      <td>0.920000</td>\n",
       "      <td>['Taylor Swift']</td>\n",
       "      <td>0.462</td>\n",
       "      <td>244000</td>\n",
       "      <td>0.24</td>\n",
       "      <td>1</td>\n",
       "      <td>1gcyHQpBQ1lfXGdhZmWrHP</td>\n",
       "      <td>0.0</td>\n",
       "      <td>0</td>\n",
       "      <td>0.113</td>\n",
       "      <td>-12.077</td>\n",
       "      <td>1</td>\n",
       "      <td>champagne problems</td>\n",
       "      <td>69</td>\n",
       "      <td>2021-01-07</td>\n",
       "      <td>0.0377</td>\n",
       "      <td>171.31900000000005</td>\n",
       "      <td>0.32</td>\n",
       "      <td>2021</td>\n",
       "    </tr>\n",
       "    <tr>\n",
       "      <th>174388</th>\n",
       "      <td>0.239000</td>\n",
       "      <td>['Roger Fly']</td>\n",
       "      <td>0.677</td>\n",
       "      <td>197710</td>\n",
       "      <td>0.46</td>\n",
       "      <td>0</td>\n",
       "      <td>57tgYkWQTNHVFEt6xDKKZj</td>\n",
       "      <td>0.8909999999999999</td>\n",
       "      <td>7</td>\n",
       "      <td>0.215</td>\n",
       "      <td>-12.237</td>\n",
       "      <td>1</td>\n",
       "      <td>Improvisations</td>\n",
       "      <td>0</td>\n",
       "      <td>2020-12-09</td>\n",
       "      <td>0.0258</td>\n",
       "      <td>112.208</td>\n",
       "      <td>0.747</td>\n",
       "      <td>2020</td>\n",
       "    </tr>\n",
       "  </tbody>\n",
       "</table>\n",
       "<p>174389 rows × 19 columns</p>\n",
       "</div>"
      ],
      "text/plain": [
       "        acousticness                             artists        danceability  \\\n",
       "0           0.991000                     ['Mamie Smith']               0.598   \n",
       "1           0.643000       \"[\"\"Screamin' Jay Hawkins\"\"]\"               0.852   \n",
       "2           0.993000                     ['Mamie Smith']               0.647   \n",
       "3           0.000173                 ['Oscar Velazquez']                0.73   \n",
       "4           0.295000                            ['Mixe']  0.7040000000000001   \n",
       "...              ...                                 ...                 ...   \n",
       "174384      0.009170  ['DJ Combo', 'Sander-7', 'Tony T']               0.792   \n",
       "174385      0.795000                    ['Alessia Cara']               0.429   \n",
       "174386      0.806000                       ['Roger Fly']  0.6709999999999999   \n",
       "174387      0.920000                    ['Taylor Swift']               0.462   \n",
       "174388      0.239000                       ['Roger Fly']               0.677   \n",
       "\n",
       "       duration_ms               energy explicit                      id  \\\n",
       "0           168333  0.22399999999999998        0  0cS0A1fUEUd1EW3FcF8AEI   \n",
       "1           150200                0.517        0  0hbkKFIJm7Z05H8Zl9w30f   \n",
       "2           163827  0.18600000000000005        0  11m7laMUgmOKqI3oYzuhne   \n",
       "3           422087   0.7979999999999999        0  19Lc5SfJJ5O1oaxY0fpwfh   \n",
       "4           165224   0.7070000000000001        1  2hJjbsLCytGsnAHfdsLejp   \n",
       "...            ...                  ...      ...                     ...   \n",
       "174384      147615                0.866        0  46LhBf6TvYjZU2SMvGZAbn   \n",
       "174385      144720  0.21100000000000002        0  7tue2Wemjd0FZzRtDrQFZd   \n",
       "174386      218147                0.589        0  48Qj61hOdYmUCFJbpQ29Ob   \n",
       "174387      244000                 0.24        1  1gcyHQpBQ1lfXGdhZmWrHP   \n",
       "174388      197710                 0.46        0  57tgYkWQTNHVFEt6xDKKZj   \n",
       "\n",
       "          instrumentalness key             liveness             loudness mode  \\\n",
       "0                 0.000522   5                0.379              -12.628    0   \n",
       "1                   0.0264   5               0.0809               -7.261    0   \n",
       "2                 1.76e-05   0                0.519  -12.097999999999999    1   \n",
       "3       0.8009999999999999   2                0.128               -7.311    1   \n",
       "4                 0.000246  10                0.402  -6.0360000000000005    0   \n",
       "...                    ...  ..                  ...                  ...  ...   \n",
       "174384            5.99e-05   6  0.17800000000000002  -5.0889999999999995    0   \n",
       "174385                 0.0   4                0.196              -11.665    1   \n",
       "174386                0.92   4                0.113  -12.392999999999999    0   \n",
       "174387                 0.0   0                0.113              -12.077    1   \n",
       "174388  0.8909999999999999   7                0.215              -12.237    1   \n",
       "\n",
       "                                                     name popularity  \\\n",
       "0                                Keep A Song In Your Soul         12   \n",
       "1                                    I Put A Spell On You          7   \n",
       "2                                            Golfing Papa          4   \n",
       "3       True House Music - Xavier Santos & Carlos Gomi...         17   \n",
       "4                                               Xuniverxe          2   \n",
       "...                                                   ...        ...   \n",
       "174384                                            The One          0   \n",
       "174385                                      A Little More          0   \n",
       "174386                                           Together          0   \n",
       "174387                                 champagne problems         69   \n",
       "174388                                     Improvisations          0   \n",
       "\n",
       "       release_date           speechiness               tempo  \\\n",
       "0              1920                0.0936             149.976   \n",
       "1        1920-01-05                0.0534              86.889   \n",
       "2              1920                 0.174                97.6   \n",
       "3        1920-01-01                0.0425  127.99700000000001   \n",
       "4        1920-10-01                0.0768  122.07600000000001   \n",
       "...             ...                   ...                 ...   \n",
       "174384   2020-12-25                0.0356  125.97200000000001   \n",
       "174385   2021-01-22  0.036000000000000004               94.71   \n",
       "174386   2020-12-09                0.0282  108.05799999999999   \n",
       "174387   2021-01-07                0.0377  171.31900000000005   \n",
       "174388   2020-12-09                0.0258             112.208   \n",
       "\n",
       "                    valence  year  \n",
       "0                     0.634  1920  \n",
       "1                      0.95  1920  \n",
       "2        0.6890000000000001  1920  \n",
       "3                    0.0422  1920  \n",
       "4                     0.299  1920  \n",
       "...                     ...   ...  \n",
       "174384  0.18600000000000005  2020  \n",
       "174385                0.228  2021  \n",
       "174386   0.7140000000000001  2020  \n",
       "174387                 0.32  2021  \n",
       "174388                0.747  2020  \n",
       "\n",
       "[174389 rows x 19 columns]"
      ]
     },
     "execution_count": 6,
     "metadata": {},
     "output_type": "execute_result"
    }
   ],
   "source": [
    "df.toPandas()"
   ]
  },
  {
   "cell_type": "code",
   "execution_count": 7,
   "metadata": {},
   "outputs": [
    {
     "data": {
      "text/html": [
       "<div>\n",
       "<style scoped>\n",
       "    .dataframe tbody tr th:only-of-type {\n",
       "        vertical-align: middle;\n",
       "    }\n",
       "\n",
       "    .dataframe tbody tr th {\n",
       "        vertical-align: top;\n",
       "    }\n",
       "\n",
       "    .dataframe thead th {\n",
       "        text-align: right;\n",
       "    }\n",
       "</style>\n",
       "<table border=\"1\" class=\"dataframe\">\n",
       "  <thead>\n",
       "    <tr style=\"text-align: right;\">\n",
       "      <th></th>\n",
       "      <th>summary</th>\n",
       "      <th>acousticness</th>\n",
       "      <th>artists</th>\n",
       "      <th>danceability</th>\n",
       "      <th>duration_ms</th>\n",
       "      <th>energy</th>\n",
       "      <th>explicit</th>\n",
       "      <th>id</th>\n",
       "      <th>instrumentalness</th>\n",
       "      <th>key</th>\n",
       "      <th>liveness</th>\n",
       "      <th>loudness</th>\n",
       "      <th>mode</th>\n",
       "      <th>name</th>\n",
       "      <th>popularity</th>\n",
       "      <th>release_date</th>\n",
       "      <th>speechiness</th>\n",
       "      <th>tempo</th>\n",
       "      <th>valence</th>\n",
       "      <th>year</th>\n",
       "    </tr>\n",
       "  </thead>\n",
       "  <tbody>\n",
       "    <tr>\n",
       "      <th>0</th>\n",
       "      <td>count</td>\n",
       "      <td>174389</td>\n",
       "      <td>174389</td>\n",
       "      <td>174389</td>\n",
       "      <td>174389</td>\n",
       "      <td>174389</td>\n",
       "      <td>174389</td>\n",
       "      <td>174389</td>\n",
       "      <td>174389</td>\n",
       "      <td>174389</td>\n",
       "      <td>174389</td>\n",
       "      <td>174389</td>\n",
       "      <td>174389</td>\n",
       "      <td>174389</td>\n",
       "      <td>174389</td>\n",
       "      <td>174389</td>\n",
       "      <td>174389</td>\n",
       "      <td>174389</td>\n",
       "      <td>174389</td>\n",
       "      <td>174389</td>\n",
       "    </tr>\n",
       "    <tr>\n",
       "      <th>1</th>\n",
       "      <td>mean</td>\n",
       "      <td>0.49922848176599677</td>\n",
       "      <td>None</td>\n",
       "      <td>0.5370523995558104</td>\n",
       "      <td>232284.03395898826</td>\n",
       "      <td>518.2371626470293</td>\n",
       "      <td>174.1416269679832</td>\n",
       "      <td>14927.623620614037</td>\n",
       "      <td>32.94695299805832</td>\n",
       "      <td>21.388088201474527</td>\n",
       "      <td>1.66301173445764</td>\n",
       "      <td>-11.698115351441007</td>\n",
       "      <td>5.675269737753432</td>\n",
       "      <td>Infinity</td>\n",
       "      <td>25.786782620242132</td>\n",
       "      <td>1934.6745386555776</td>\n",
       "      <td>4.983288235465753</td>\n",
       "      <td>118.34591427078196</td>\n",
       "      <td>2.0089549379621943</td>\n",
       "      <td>1963.043676547758</td>\n",
       "    </tr>\n",
       "    <tr>\n",
       "      <th>2</th>\n",
       "      <td>stddev</td>\n",
       "      <td>0.3799358418737294</td>\n",
       "      <td>None</td>\n",
       "      <td>0.17583673837421163</td>\n",
       "      <td>148621.53735035623</td>\n",
       "      <td>13208.06780918476</td>\n",
       "      <td>7675.583758722449</td>\n",
       "      <td>67101.99688124635</td>\n",
       "      <td>2935.172877189685</td>\n",
       "      <td>2243.6529763824574</td>\n",
       "      <td>601.9192341606113</td>\n",
       "      <td>5.724540360638434</td>\n",
       "      <td>1728.9408688035012</td>\n",
       "      <td>NaN</td>\n",
       "      <td>21.87570035131848</td>\n",
       "      <td>1380.569156399337</td>\n",
       "      <td>97.29810079523408</td>\n",
       "      <td>66.39255207990006</td>\n",
       "      <td>44.693918091783374</td>\n",
       "      <td>167.80279172869677</td>\n",
       "    </tr>\n",
       "    <tr>\n",
       "      <th>3</th>\n",
       "      <td>min</td>\n",
       "      <td>0.0</td>\n",
       "      <td>\"[\"\"'In The Heights' Original Broadway Company\"\"</td>\n",
       "      <td>\"\"Kamehameha Schools Children's Chorus\"\"]\"</td>\n",
       "      <td>\"\"Boys' Choir Of Ipswich School Preparatory D...</td>\n",
       "      <td>\"\"Lidija Kaz'mina\"\"</td>\n",
       "      <td>\"\"Bobby D'Ambrosio\"\"]\"</td>\n",
       "      <td>\"\"Orchestra Sinfonica dell'EIAR di Torino\"\"]\"</td>\n",
       "      <td>'Benjamin Schrader'</td>\n",
       "      <td>'J. Robert Spencer'</td>\n",
       "      <td>'Jason Michael Snow']\"</td>\n",
       "      <td>'David Baxter']\"</td>\n",
       "      <td>'Peter Gregus'</td>\n",
       "      <td>'Richard Hester']\"</td>\n",
       "      <td>1944\"</td>\n",
       "      <td>\"\"L'amour est un oiseau rebelle\"\" (Carmen</td>\n",
       "      <td>\"\"Venezianisches Gondellied\"\" (arr. A. Segovia)\"</td>\n",
       "      <td>Abdallo]\"</td>\n",
       "      <td>Alcade</td>\n",
       "      <td>Alcade</td>\n",
       "    </tr>\n",
       "    <tr>\n",
       "      <th>4</th>\n",
       "      <td>max</td>\n",
       "      <td>0.996</td>\n",
       "      <td>['조정현']</td>\n",
       "      <td>0.988</td>\n",
       "      <td>99997</td>\n",
       "      <td>99093</td>\n",
       "      <td>900000</td>\n",
       "      <td>95160</td>\n",
       "      <td>9e-06</td>\n",
       "      <td>95361</td>\n",
       "      <td>9.53e-06</td>\n",
       "      <td>9</td>\n",
       "      <td>9</td>\n",
       "      <td>텅 빈 마음 Empty Heart</td>\n",
       "      <td>You Turned The Tables On Me</td>\n",
       "      <td>Want Love - Club Mix</td>\n",
       "      <td>You Did It</td>\n",
       "      <td>When Your Lover Has Gone</td>\n",
       "      <td>What A Woman</td>\n",
       "      <td>Incredible Phat (The Coldest Night of the Year...</td>\n",
       "    </tr>\n",
       "  </tbody>\n",
       "</table>\n",
       "</div>"
      ],
      "text/plain": [
       "  summary         acousticness  \\\n",
       "0   count               174389   \n",
       "1    mean  0.49922848176599677   \n",
       "2  stddev   0.3799358418737294   \n",
       "3     min                  0.0   \n",
       "4     max                0.996   \n",
       "\n",
       "                                            artists  \\\n",
       "0                                            174389   \n",
       "1                                              None   \n",
       "2                                              None   \n",
       "3  \"[\"\"'In The Heights' Original Broadway Company\"\"   \n",
       "4                                           ['조정현']   \n",
       "\n",
       "                                  danceability  \\\n",
       "0                                       174389   \n",
       "1                           0.5370523995558104   \n",
       "2                          0.17583673837421163   \n",
       "3   \"\"Kamehameha Schools Children's Chorus\"\"]\"   \n",
       "4                                        0.988   \n",
       "\n",
       "                                         duration_ms                energy  \\\n",
       "0                                             174389                174389   \n",
       "1                                 232284.03395898826     518.2371626470293   \n",
       "2                                 148621.53735035623     13208.06780918476   \n",
       "3   \"\"Boys' Choir Of Ipswich School Preparatory D...   \"\"Lidija Kaz'mina\"\"   \n",
       "4                                              99997                 99093   \n",
       "\n",
       "                  explicit                                              id  \\\n",
       "0                   174389                                          174389   \n",
       "1        174.1416269679832                              14927.623620614037   \n",
       "2        7675.583758722449                               67101.99688124635   \n",
       "3   \"\"Bobby D'Ambrosio\"\"]\"   \"\"Orchestra Sinfonica dell'EIAR di Torino\"\"]\"   \n",
       "4                   900000                                           95160   \n",
       "\n",
       "       instrumentalness                   key                 liveness  \\\n",
       "0                174389                174389                   174389   \n",
       "1     32.94695299805832    21.388088201474527         1.66301173445764   \n",
       "2     2935.172877189685    2243.6529763824574        601.9192341606113   \n",
       "3   'Benjamin Schrader'   'J. Robert Spencer'   'Jason Michael Snow']\"   \n",
       "4                 9e-06                 95361                 9.53e-06   \n",
       "\n",
       "              loudness                mode                 name  \\\n",
       "0               174389              174389               174389   \n",
       "1  -11.698115351441007   5.675269737753432             Infinity   \n",
       "2    5.724540360638434  1728.9408688035012                  NaN   \n",
       "3     'David Baxter']\"      'Peter Gregus'   'Richard Hester']\"   \n",
       "4                    9                   9   텅 빈 마음 Empty Heart   \n",
       "\n",
       "                    popularity                                release_date  \\\n",
       "0                       174389                                      174389   \n",
       "1           25.786782620242132                          1934.6745386555776   \n",
       "2            21.87570035131848                           1380.569156399337   \n",
       "3                        1944\"   \"\"L'amour est un oiseau rebelle\"\" (Carmen   \n",
       "4  You Turned The Tables On Me                        Want Love - Club Mix   \n",
       "\n",
       "                                         speechiness  \\\n",
       "0                                             174389   \n",
       "1                                  4.983288235465753   \n",
       "2                                  97.29810079523408   \n",
       "3   \"\"Venezianisches Gondellied\"\" (arr. A. Segovia)\"   \n",
       "4                                         You Did It   \n",
       "\n",
       "                      tempo             valence  \\\n",
       "0                    174389              174389   \n",
       "1        118.34591427078196  2.0089549379621943   \n",
       "2         66.39255207990006  44.693918091783374   \n",
       "3                 Abdallo]\"              Alcade   \n",
       "4  When Your Lover Has Gone        What A Woman   \n",
       "\n",
       "                                                year  \n",
       "0                                             174389  \n",
       "1                                  1963.043676547758  \n",
       "2                                 167.80279172869677  \n",
       "3                                             Alcade  \n",
       "4  Incredible Phat (The Coldest Night of the Year...  "
      ]
     },
     "execution_count": 7,
     "metadata": {},
     "output_type": "execute_result"
    }
   ],
   "source": [
    "df.describe().toPandas()"
   ]
  },
  {
   "cell_type": "markdown",
   "metadata": {},
   "source": [
    "**Drop Variables**"
   ]
  },
  {
   "cell_type": "code",
   "execution_count": 8,
   "metadata": {},
   "outputs": [],
   "source": [
    "# Variables id, name, release_date are not related to our question.\n",
    "# Thus, droping all three.\n",
    "df = df.drop(\"id\", \"name\", \"release_date\",\"key\",\"explicit\",\"mode\")"
   ]
  },
  {
   "cell_type": "markdown",
   "metadata": {},
   "source": [
    "**Convert Data Type**"
   ]
  },
  {
   "cell_type": "code",
   "execution_count": 9,
   "metadata": {},
   "outputs": [],
   "source": [
    "floats = [\"acousticness\", \"danceability\", \"energy\", \"instrumentalness\", \"liveness\", \"loudness\",\n",
    "         \"speechiness\", \"tempo\", \"valence\"]\n",
    "for i in floats:\n",
    "        df = df.withColumn(i, df[i].cast(FloatType()))\n",
    "\n",
    "ints = [\"duration_ms\", \"popularity\", \"year\"]\n",
    "for i in ints:\n",
    "    df = df.withColumn(i, df[i].cast(IntegerType()))"
   ]
  },
  {
   "cell_type": "code",
   "execution_count": 10,
   "metadata": {},
   "outputs": [
    {
     "name": "stdout",
     "output_type": "stream",
     "text": [
      "+------------+--------------------+------------+-----------+------+----------------+--------+--------+----------+-----------+-------+-------+----+\n",
      "|acousticness|             artists|danceability|duration_ms|energy|instrumentalness|liveness|loudness|popularity|speechiness|  tempo|valence|year|\n",
      "+------------+--------------------+------------+-----------+------+----------------+--------+--------+----------+-----------+-------+-------+----+\n",
      "|       0.991|     ['Mamie Smith']|       0.598|     168333| 0.224|         5.22E-4|   0.379| -12.628|        12|     0.0936|149.976|  0.634|1920|\n",
      "|       0.643|\"[\"\"Screamin' Jay...|       0.852|     150200| 0.517|          0.0264|  0.0809|  -7.261|         7|     0.0534| 86.889|   0.95|1920|\n",
      "|       0.993|     ['Mamie Smith']|       0.647|     163827| 0.186|         1.76E-5|   0.519| -12.098|         4|      0.174|   97.6|  0.689|1920|\n",
      "|     1.73E-4| ['Oscar Velazquez']|        0.73|     422087| 0.798|           0.801|   0.128|  -7.311|        17|     0.0425|127.997| 0.0422|1920|\n",
      "|       0.295|            ['Mixe']|       0.704|     165224| 0.707|         2.46E-4|   0.402|  -6.036|         2|     0.0768|122.076|  0.299|1920|\n",
      "+------------+--------------------+------------+-----------+------+----------------+--------+--------+----------+-----------+-------+-------+----+\n",
      "only showing top 5 rows\n",
      "\n"
     ]
    }
   ],
   "source": [
    "# With Correct Variable Type\n",
    "df.createOrReplaceTempView(\"df\")\n",
    "spark.sql(\"select * from df\").show(5)"
   ]
  },
  {
   "cell_type": "code",
   "execution_count": 11,
   "metadata": {},
   "outputs": [
    {
     "name": "stdout",
     "output_type": "stream",
     "text": [
      "root\n",
      " |-- acousticness: float (nullable = true)\n",
      " |-- artists: string (nullable = true)\n",
      " |-- danceability: float (nullable = true)\n",
      " |-- duration_ms: integer (nullable = true)\n",
      " |-- energy: float (nullable = true)\n",
      " |-- instrumentalness: float (nullable = true)\n",
      " |-- liveness: float (nullable = true)\n",
      " |-- loudness: float (nullable = true)\n",
      " |-- popularity: integer (nullable = true)\n",
      " |-- speechiness: float (nullable = true)\n",
      " |-- tempo: float (nullable = true)\n",
      " |-- valence: float (nullable = true)\n",
      " |-- year: integer (nullable = true)\n",
      "\n"
     ]
    }
   ],
   "source": [
    "df.printSchema()"
   ]
  },
  {
   "cell_type": "markdown",
   "metadata": {},
   "source": [
    "**Duplicates & Nulls**"
   ]
  },
  {
   "cell_type": "code",
   "execution_count": 12,
   "metadata": {},
   "outputs": [
    {
     "name": "stdout",
     "output_type": "stream",
     "text": [
      "Rows = 174389\n",
      "Distinct Rows = 170929\n"
     ]
    }
   ],
   "source": [
    "# Count rows and unique rows\n",
    "print('Rows = {}'.format(df.count()))\n",
    "print('Distinct Rows = {}'.format(df.distinct().count()))"
   ]
  },
  {
   "cell_type": "code",
   "execution_count": 13,
   "metadata": {},
   "outputs": [
    {
     "name": "stdout",
     "output_type": "stream",
     "text": [
      "The number of rows with duplicate data removed = 170929\n"
     ]
    }
   ],
   "source": [
    "# Check\n",
    "# Drop all duplicates \n",
    "df = df.dropDuplicates()\n",
    "print('The number of rows with duplicate data removed = {}'.format(df.count()))"
   ]
  },
  {
   "cell_type": "code",
   "execution_count": 14,
   "metadata": {
    "scrolled": true
   },
   "outputs": [
    {
     "name": "stdout",
     "output_type": "stream",
     "text": [
      "+------------+-------+------------+-----------+------+----------------+--------+--------+----------+-----------+-----+-------+----+\n",
      "|acousticness|artists|danceability|duration_ms|energy|instrumentalness|liveness|loudness|popularity|speechiness|tempo|valence|year|\n",
      "+------------+-------+------------+-----------+------+----------------+--------+--------+----------+-----------+-----+-------+----+\n",
      "|           0|      0|           0|          0|     0|               0|       0|       0|         0|          0|    0|      0|   0|\n",
      "+------------+-------+------------+-----------+------+----------------+--------+--------+----------+-----------+-----+-------+----+\n",
      "\n"
     ]
    }
   ],
   "source": [
    "# Check for NULL\n",
    "df.select([count(when(isnan(c), c)).alias(c) for c in df.columns]).show()"
   ]
  },
  {
   "cell_type": "code",
   "execution_count": 15,
   "metadata": {},
   "outputs": [],
   "source": [
    "df = df.dropna()"
   ]
  },
  {
   "cell_type": "code",
   "execution_count": 16,
   "metadata": {},
   "outputs": [],
   "source": [
    "df = df.where((df.popularity > 0))"
   ]
  },
  {
   "cell_type": "markdown",
   "metadata": {},
   "source": [
    "**Numeric Variables & Categorical Variables**"
   ]
  },
  {
   "cell_type": "code",
   "execution_count": 17,
   "metadata": {},
   "outputs": [],
   "source": [
    "num_cols = []\n",
    "cat_cols = []\n",
    "\n",
    "for s in df.schema:\n",
    "    data_type = str(s.dataType)\n",
    "    if data_type == \"StringType\":\n",
    "        cat_cols.append(s.name)\n",
    "    \n",
    "    #if data_type == \"FloatType\" or data_type == \"IntType\" or data_type ==\"String\":\n",
    "    else:\n",
    "        num_cols.append(s.name)"
   ]
  },
  {
   "cell_type": "code",
   "execution_count": 18,
   "metadata": {},
   "outputs": [
    {
     "name": "stdout",
     "output_type": "stream",
     "text": [
      "['acousticness', 'danceability', 'duration_ms', 'energy', 'instrumentalness', 'liveness', 'loudness', 'popularity', 'speechiness', 'tempo', 'valence', 'year']\n",
      "['artists']\n"
     ]
    }
   ],
   "source": [
    "print(num_cols)\n",
    "print(cat_cols)"
   ]
  },
  {
   "cell_type": "code",
   "execution_count": 19,
   "metadata": {},
   "outputs": [
    {
     "name": "stdout",
     "output_type": "stream",
     "text": [
      "Correlation to popularity for  acousticness -0.3705703416027241\n",
      "Correlation to popularity for  danceability 0.18216015320012835\n",
      "Correlation to popularity for  duration_ms 0.04189584884824749\n",
      "Correlation to popularity for  energy 0.28165138917120447\n",
      "Correlation to popularity for  instrumentalness -0.23654918610712633\n",
      "Correlation to popularity for  liveness -0.09382430441193311\n",
      "Correlation to popularity for  loudness 0.325542988444963\n",
      "Correlation to popularity for  popularity 1.0\n",
      "Correlation to popularity for  speechiness -0.05484896484086443\n",
      "Correlation to popularity for  tempo 0.06158663146470615\n",
      "Correlation to popularity for  valence 0.03496577750456546\n",
      "Correlation to popularity for  year 0.56541999233624\n"
     ]
    }
   ],
   "source": [
    "# Correlation\n",
    "import six\n",
    "for i in df.columns:\n",
    "    if not(isinstance(df.select(i).take(1)[0][0], six.string_types)):\n",
    "        print( \"Correlation to popularity for \", i, df.stat.corr('popularity',i))"
   ]
  },
  {
   "cell_type": "markdown",
   "metadata": {},
   "source": [
    "## EDA"
   ]
  },
  {
   "cell_type": "code",
   "execution_count": 20,
   "metadata": {},
   "outputs": [
    {
     "data": {
      "text/html": [
       "<div>\n",
       "<style scoped>\n",
       "    .dataframe tbody tr th:only-of-type {\n",
       "        vertical-align: middle;\n",
       "    }\n",
       "\n",
       "    .dataframe tbody tr th {\n",
       "        vertical-align: top;\n",
       "    }\n",
       "\n",
       "    .dataframe thead th {\n",
       "        text-align: right;\n",
       "    }\n",
       "</style>\n",
       "<table border=\"1\" class=\"dataframe\">\n",
       "  <thead>\n",
       "    <tr style=\"text-align: right;\">\n",
       "      <th></th>\n",
       "      <th>acousticness</th>\n",
       "      <th>artists</th>\n",
       "      <th>danceability</th>\n",
       "      <th>duration_ms</th>\n",
       "      <th>energy</th>\n",
       "      <th>instrumentalness</th>\n",
       "      <th>liveness</th>\n",
       "      <th>loudness</th>\n",
       "      <th>popularity</th>\n",
       "      <th>speechiness</th>\n",
       "      <th>tempo</th>\n",
       "      <th>valence</th>\n",
       "      <th>year</th>\n",
       "    </tr>\n",
       "  </thead>\n",
       "  <tbody>\n",
       "    <tr>\n",
       "      <th>0</th>\n",
       "      <td>0.995</td>\n",
       "      <td>['Louis Armstrong &amp; His Hot Five']</td>\n",
       "      <td>0.644</td>\n",
       "      <td>151960</td>\n",
       "      <td>0.1230</td>\n",
       "      <td>0.858</td>\n",
       "      <td>0.2180</td>\n",
       "      <td>-18.648001</td>\n",
       "      <td>4</td>\n",
       "      <td>0.3940</td>\n",
       "      <td>189.669998</td>\n",
       "      <td>0.7870</td>\n",
       "      <td>1925</td>\n",
       "    </tr>\n",
       "    <tr>\n",
       "      <th>1</th>\n",
       "      <td>0.942</td>\n",
       "      <td>['Jelly Roll Morton']</td>\n",
       "      <td>0.711</td>\n",
       "      <td>174427</td>\n",
       "      <td>0.6350</td>\n",
       "      <td>0.882</td>\n",
       "      <td>0.0744</td>\n",
       "      <td>-5.458000</td>\n",
       "      <td>1</td>\n",
       "      <td>0.0479</td>\n",
       "      <td>104.181000</td>\n",
       "      <td>0.7440</td>\n",
       "      <td>1925</td>\n",
       "    </tr>\n",
       "    <tr>\n",
       "      <th>2</th>\n",
       "      <td>0.996</td>\n",
       "      <td>['Louis Armstrong &amp; His Hot Five']</td>\n",
       "      <td>0.676</td>\n",
       "      <td>193387</td>\n",
       "      <td>0.0337</td>\n",
       "      <td>0.740</td>\n",
       "      <td>0.1140</td>\n",
       "      <td>-19.827000</td>\n",
       "      <td>6</td>\n",
       "      <td>0.0540</td>\n",
       "      <td>114.371002</td>\n",
       "      <td>0.5510</td>\n",
       "      <td>1926</td>\n",
       "    </tr>\n",
       "    <tr>\n",
       "      <th>3</th>\n",
       "      <td>0.984</td>\n",
       "      <td>['Benny Goodman']</td>\n",
       "      <td>0.223</td>\n",
       "      <td>170133</td>\n",
       "      <td>0.3320</td>\n",
       "      <td>0.853</td>\n",
       "      <td>0.9460</td>\n",
       "      <td>-9.581000</td>\n",
       "      <td>9</td>\n",
       "      <td>0.0430</td>\n",
       "      <td>62.153000</td>\n",
       "      <td>0.0383</td>\n",
       "      <td>1928</td>\n",
       "    </tr>\n",
       "    <tr>\n",
       "      <th>4</th>\n",
       "      <td>0.994</td>\n",
       "      <td>['Jack Teagarden', 'Ben Pollack &amp; His Orchestra']</td>\n",
       "      <td>0.866</td>\n",
       "      <td>178453</td>\n",
       "      <td>0.3730</td>\n",
       "      <td>0.108</td>\n",
       "      <td>0.1270</td>\n",
       "      <td>-15.287000</td>\n",
       "      <td>5</td>\n",
       "      <td>0.2000</td>\n",
       "      <td>112.742996</td>\n",
       "      <td>0.9500</td>\n",
       "      <td>1930</td>\n",
       "    </tr>\n",
       "  </tbody>\n",
       "</table>\n",
       "</div>"
      ],
      "text/plain": [
       "   acousticness                                            artists  \\\n",
       "0         0.995                 ['Louis Armstrong & His Hot Five']   \n",
       "1         0.942                              ['Jelly Roll Morton']   \n",
       "2         0.996                 ['Louis Armstrong & His Hot Five']   \n",
       "3         0.984                                  ['Benny Goodman']   \n",
       "4         0.994  ['Jack Teagarden', 'Ben Pollack & His Orchestra']   \n",
       "\n",
       "   danceability  duration_ms  energy  instrumentalness  liveness   loudness  \\\n",
       "0         0.644       151960  0.1230             0.858    0.2180 -18.648001   \n",
       "1         0.711       174427  0.6350             0.882    0.0744  -5.458000   \n",
       "2         0.676       193387  0.0337             0.740    0.1140 -19.827000   \n",
       "3         0.223       170133  0.3320             0.853    0.9460  -9.581000   \n",
       "4         0.866       178453  0.3730             0.108    0.1270 -15.287000   \n",
       "\n",
       "   popularity  speechiness       tempo  valence  year  \n",
       "0           4       0.3940  189.669998   0.7870  1925  \n",
       "1           1       0.0479  104.181000   0.7440  1925  \n",
       "2           6       0.0540  114.371002   0.5510  1926  \n",
       "3           9       0.0430   62.153000   0.0383  1928  \n",
       "4           5       0.2000  112.742996   0.9500  1930  "
      ]
     },
     "execution_count": 20,
     "metadata": {},
     "output_type": "execute_result"
    }
   ],
   "source": [
    "df_pandas = df.toPandas()\n",
    "df_pandas.head()"
   ]
  },
  {
   "cell_type": "markdown",
   "metadata": {},
   "source": [
    "### Examining Different Metrics Over the Years"
   ]
  },
  {
   "cell_type": "code",
   "execution_count": 21,
   "metadata": {},
   "outputs": [
    {
     "data": {
      "text/html": [
       "<div>\n",
       "<style scoped>\n",
       "    .dataframe tbody tr th:only-of-type {\n",
       "        vertical-align: middle;\n",
       "    }\n",
       "\n",
       "    .dataframe tbody tr th {\n",
       "        vertical-align: top;\n",
       "    }\n",
       "\n",
       "    .dataframe thead th {\n",
       "        text-align: right;\n",
       "    }\n",
       "</style>\n",
       "<table border=\"1\" class=\"dataframe\">\n",
       "  <thead>\n",
       "    <tr style=\"text-align: right;\">\n",
       "      <th></th>\n",
       "      <th>danceability</th>\n",
       "      <th>instrumentalness</th>\n",
       "      <th>loudness</th>\n",
       "      <th>tempo</th>\n",
       "    </tr>\n",
       "    <tr>\n",
       "      <th>year</th>\n",
       "      <th></th>\n",
       "      <th></th>\n",
       "      <th></th>\n",
       "      <th></th>\n",
       "    </tr>\n",
       "  </thead>\n",
       "  <tbody>\n",
       "    <tr>\n",
       "      <th>1920</th>\n",
       "      <td>0.512324</td>\n",
       "      <td>0.343355</td>\n",
       "      <td>-13.530107</td>\n",
       "      <td>119.555107</td>\n",
       "    </tr>\n",
       "    <tr>\n",
       "      <th>1921</th>\n",
       "      <td>0.413743</td>\n",
       "      <td>0.423914</td>\n",
       "      <td>-19.369400</td>\n",
       "      <td>99.706802</td>\n",
       "    </tr>\n",
       "    <tr>\n",
       "      <th>1922</th>\n",
       "      <td>0.532500</td>\n",
       "      <td>0.372108</td>\n",
       "      <td>-13.671500</td>\n",
       "      <td>122.212997</td>\n",
       "    </tr>\n",
       "    <tr>\n",
       "      <th>1923</th>\n",
       "      <td>0.624920</td>\n",
       "      <td>0.299002</td>\n",
       "      <td>-12.645070</td>\n",
       "      <td>116.264473</td>\n",
       "    </tr>\n",
       "    <tr>\n",
       "      <th>1924</th>\n",
       "      <td>0.633205</td>\n",
       "      <td>0.355251</td>\n",
       "      <td>-11.815000</td>\n",
       "      <td>120.127861</td>\n",
       "    </tr>\n",
       "  </tbody>\n",
       "</table>\n",
       "</div>"
      ],
      "text/plain": [
       "      danceability  instrumentalness   loudness       tempo\n",
       "year                                                       \n",
       "1920      0.512324          0.343355 -13.530107  119.555107\n",
       "1921      0.413743          0.423914 -19.369400   99.706802\n",
       "1922      0.532500          0.372108 -13.671500  122.212997\n",
       "1923      0.624920          0.299002 -12.645070  116.264473\n",
       "1924      0.633205          0.355251 -11.815000  120.127861"
      ]
     },
     "execution_count": 21,
     "metadata": {},
     "output_type": "execute_result"
    }
   ],
   "source": [
    "df_agg = df_pandas.groupby('year').agg({'danceability':'mean', 'instrumentalness':'mean', 'loudness':'mean', 'tempo':'mean'})\n",
    "df_agg.head()"
   ]
  },
  {
   "cell_type": "code",
   "execution_count": 22,
   "metadata": {},
   "outputs": [
    {
     "data": {
      "image/png": "[encoded data removed]",
      "text/plain": [
       "<Figure size 432x288 with 4 Axes>"
      ]
     },
     "metadata": {
      "needs_background": "light"
     },
     "output_type": "display_data"
    }
   ],
   "source": [
    "import seaborn as sns\n",
    "import matplotlib.pyplot as plt\n",
    "\n",
    "fig, axs = plt.subplots(2, 2)\n",
    "axs[0, 0].plot(df_agg.index, df_agg['danceability'])\n",
    "axs[0, 0].set_title('Danceability vs Year')\n",
    "axs[0, 1].plot(df_agg.index, df_agg['instrumentalness'], 'tab:orange')\n",
    "axs[0, 1].set_title('Instrumentalness vs Year')\n",
    "axs[1, 0].plot(df_agg.index, df_agg['loudness'], 'tab:green')\n",
    "axs[1, 0].set_title('Loudness vs Year')\n",
    "axs[1, 1].plot(df_agg.index, df_agg['tempo'], 'tab:red')\n",
    "axs[1, 1].set_title('Tempo vs Year')\n",
    "\n",
    "for ax in axs.flat:\n",
    "    ax.set(xlabel='Year', ylabel='Measure')\n",
    "\n",
    "# Hide x labels and tick labels for top plots and y ticks for right plots.\n",
    "for ax in axs.flat:\n",
    "    ax.label_outer()"
   ]
  },
  {
   "cell_type": "markdown",
   "metadata": {},
   "source": [
    "### Exploring Distribution of Popularity"
   ]
  },
  {
   "cell_type": "code",
   "execution_count": 31,
   "metadata": {},
   "outputs": [
    {
     "data": {
      "image/png": "[encoded data removed]",
      "text/plain": [
       "<Figure size 432x288 with 1 Axes>"
      ]
     },
     "metadata": {
      "needs_background": "light"
     },
     "output_type": "display_data"
    }
   ],
   "source": [
    "sample_df = df.select(['popularity']).sample(False, 0.5, 42)\n",
    "sample_df = sample_df.toPandas()\n",
    "\n",
    "sns.distplot(sample_df)\n",
    "plt.xlabel('popularity') \n",
    "plt.show()"
   ]
  },
  {
   "cell_type": "code",
   "execution_count": 24,
   "metadata": {},
   "outputs": [
    {
     "data": {
      "image/png": "[encoded data removed]",
      "text/plain": [
       "<Figure size 446.625x360 with 1 Axes>"
      ]
     },
     "metadata": {
      "needs_background": "light"
     },
     "output_type": "display_data"
    }
   ],
   "source": [
    "sns.displot(sample_df, kde=True)\n",
    "plt.xlabel('popularity') \n",
    "plt.show()"
   ]
  },
  {
   "cell_type": "markdown",
   "metadata": {},
   "source": [
    "## Linear Regression Model"
   ]
  },
  {
   "cell_type": "markdown",
   "metadata": {},
   "source": [
    "**SCALING**"
   ]
  },
  {
   "cell_type": "code",
   "execution_count": 32,
   "metadata": {},
   "outputs": [],
   "source": [
    "import pyspark.sql.functions as func\n",
    "# Scale popularity\n",
    "df1 = df.withColumn('popularity_final',\n",
    "                   func.round(df['popularity']/100, 2)) \\\n",
    "        .withColumn('duration_min',\n",
    "                   func.round(df['duration_ms']/60000, 2))\\\n",
    "        .withColumn('instrumentalness_final',\n",
    "                   func.round(df['instrumentalness'] *1000, 2))"
   ]
  },
  {
   "cell_type": "markdown",
   "metadata": {},
   "source": [
    "**SELECT AND STANDARDIZE FEATURES**"
   ]
  },
  {
   "cell_type": "code",
   "execution_count": 33,
   "metadata": {},
   "outputs": [
    {
     "name": "stdout",
     "output_type": "stream",
     "text": [
      "+----------------+------------+------------+------------+------+----------------------+--------+--------+-----------+------+-------+----+\n",
      "|popularity_final|acousticness|danceability|duration_min|energy|instrumentalness_final|liveness|loudness|speechiness| tempo|valence|year|\n",
      "+----------------+------------+------------+------------+------+----------------------+--------+--------+-----------+------+-------+----+\n",
      "|            0.04|       0.995|       0.644|        2.53| 0.123|                 858.0|   0.218| -18.648|      0.394|189.67|  0.787|1925|\n",
      "+----------------+------------+------------+------------+------+----------------------+--------+--------+-----------+------+-------+----+\n",
      "only showing top 1 row\n",
      "\n"
     ]
    }
   ],
   "source": [
    "vars_to_keep = ['popularity_final',\n",
    "                'acousticness',\n",
    "                'danceability',\n",
    "                'duration_min', \n",
    "                'energy',\n",
    "                'instrumentalness_final',\n",
    "                'liveness',\n",
    "                'loudness',\n",
    "                'speechiness',\n",
    "                'tempo',\n",
    "                'valence',\n",
    "                'year']\n",
    "\n",
    "# subset the dataframe on these predictors\n",
    "df1 = df1.select(vars_to_keep)\n",
    "df1.show(1)"
   ]
  },
  {
   "cell_type": "code",
   "execution_count": 34,
   "metadata": {},
   "outputs": [],
   "source": [
    "# Popularity_final V.S. Features\n",
    "features= ['acousticness',\n",
    "           'danceability',\n",
    "           'duration_min',\n",
    "           'energy', \n",
    "           'instrumentalness_final',\n",
    "           'liveness',\n",
    "           'loudness', \n",
    "           'speechiness',\n",
    "           'tempo',\n",
    "           'valence',\n",
    "           'year']\n",
    "\n",
    "assembler = VectorAssembler(\n",
    "    inputCols = features, \n",
    "    outputCol = \"features\") \n",
    "df1 = assembler.transform(df1)"
   ]
  },
  {
   "cell_type": "code",
   "execution_count": 35,
   "metadata": {},
   "outputs": [
    {
     "name": "stdout",
     "output_type": "stream",
     "text": [
      "+-----+--------------------+\n",
      "|label|            features|\n",
      "+-----+--------------------+\n",
      "| 0.04|[0.99500000476837...|\n",
      "| 0.01|[0.94199997186660...|\n",
      "| 0.06|[0.99599999189376...|\n",
      "| 0.09|[0.98400002717971...|\n",
      "| 0.05|[0.99400001764297...|\n",
      "+-----+--------------------+\n",
      "only showing top 5 rows\n",
      "\n"
     ]
    }
   ],
   "source": [
    "df1 = df1.select([\"popularity_final\",'features']) \\\n",
    "       .withColumnRenamed(\"popularity_final\", 'label')\n",
    "df1.show(5)"
   ]
  },
  {
   "cell_type": "code",
   "execution_count": 36,
   "metadata": {},
   "outputs": [],
   "source": [
    "## Feature scaling\n",
    "# Initialize the `standardScaler`\n",
    "standardScaler = StandardScaler(inputCol=\"features\", outputCol=\"features_scaled\", \n",
    "                                withStd=True, withMean=False)\n",
    "\n",
    "# Fit the DataFrame to the scaler; this computes the mean, standard deviation of each feature\n",
    "scaler = standardScaler.fit(df1)\n",
    "\n",
    "# Transform the data in `df2` with the scaler\n",
    "scaled_df = scaler.transform(df1)"
   ]
  },
  {
   "cell_type": "code",
   "execution_count": 37,
   "metadata": {},
   "outputs": [],
   "source": [
    "# Split data into train set (80%), test set (20%) \n",
    "seed = 314\n",
    "train_test = [0.8, 0.2]\n",
    "train_data, test_data = scaled_df.randomSplit(train_test, seed)"
   ]
  },
  {
   "cell_type": "code",
   "execution_count": 38,
   "metadata": {},
   "outputs": [
    {
     "name": "stdout",
     "output_type": "stream",
     "text": [
      "+-----+--------------------+--------------------+\n",
      "|label|            features|     features_scaled|\n",
      "+-----+--------------------+--------------------+\n",
      "| 0.01|[0.00431999983265...|[0.01201343090100...|\n",
      "| 0.01|[0.00543999997898...|[0.01512802462513...|\n",
      "| 0.01|[0.00832999963313...|[0.02316478677648...|\n",
      "+-----+--------------------+--------------------+\n",
      "only showing top 3 rows\n",
      "\n"
     ]
    }
   ],
   "source": [
    "train_data.show(3)"
   ]
  },
  {
   "cell_type": "code",
   "execution_count": 39,
   "metadata": {},
   "outputs": [],
   "source": [
    "train_df1 = train_data"
   ]
  },
  {
   "cell_type": "code",
   "execution_count": 40,
   "metadata": {},
   "outputs": [
    {
     "name": "stdout",
     "output_type": "stream",
     "text": [
      "Coefficients: [-0.05159956618065999,0.04517695621950297,0.002623510793655334,-0.07041051941910124,-9.71051377583575e-05,-0.08995598421907014,0.002688573933288119,-0.07498987688119269,-4.892637128381571e-05,-0.001634603263675106,0.004346324887787889]\n",
      "Intercept: -8.175286547394288\n"
     ]
    }
   ],
   "source": [
    "lr = LinearRegression(featuresCol = 'features', labelCol='label',\n",
    "                      maxIter=10, regParam=0.0, elasticNetParam=0 )\n",
    "model = lr.fit(train_df1)\n",
    "prediction = model.transform(test_data)\n",
    "\n",
    "print(\"Coefficients: \" + str(model.coefficients))\n",
    "print(\"Intercept: \" + str(model.intercept))"
   ]
  },
  {
   "cell_type": "code",
   "execution_count": 41,
   "metadata": {},
   "outputs": [
    {
     "name": "stdout",
     "output_type": "stream",
     "text": [
      "RMSE: 0.150262\n",
      "r2: 0.372098\n"
     ]
    }
   ],
   "source": [
    "trainingSummary = model.summary\n",
    "print(\"RMSE: %f\" % trainingSummary.rootMeanSquaredError)\n",
    "print(\"r2: %f\" % trainingSummary.r2)"
   ]
  },
  {
   "cell_type": "code",
   "execution_count": 42,
   "metadata": {},
   "outputs": [
    {
     "data": {
      "text/html": [
       "<div>\n",
       "<style scoped>\n",
       "    .dataframe tbody tr th:only-of-type {\n",
       "        vertical-align: middle;\n",
       "    }\n",
       "\n",
       "    .dataframe tbody tr th {\n",
       "        vertical-align: top;\n",
       "    }\n",
       "\n",
       "    .dataframe thead th {\n",
       "        text-align: right;\n",
       "    }\n",
       "</style>\n",
       "<table border=\"1\" class=\"dataframe\">\n",
       "  <thead>\n",
       "    <tr style=\"text-align: right;\">\n",
       "      <th></th>\n",
       "      <th>summary</th>\n",
       "      <th>label</th>\n",
       "    </tr>\n",
       "  </thead>\n",
       "  <tbody>\n",
       "    <tr>\n",
       "      <th>0</th>\n",
       "      <td>count</td>\n",
       "      <td>105482</td>\n",
       "    </tr>\n",
       "    <tr>\n",
       "      <th>1</th>\n",
       "      <td>mean</td>\n",
       "      <td>0.33773591702849765</td>\n",
       "    </tr>\n",
       "    <tr>\n",
       "      <th>2</th>\n",
       "      <td>stddev</td>\n",
       "      <td>0.18962863965467502</td>\n",
       "    </tr>\n",
       "    <tr>\n",
       "      <th>3</th>\n",
       "      <td>min</td>\n",
       "      <td>0.01</td>\n",
       "    </tr>\n",
       "    <tr>\n",
       "      <th>4</th>\n",
       "      <td>max</td>\n",
       "      <td>1.0</td>\n",
       "    </tr>\n",
       "  </tbody>\n",
       "</table>\n",
       "</div>"
      ],
      "text/plain": [
       "  summary                label\n",
       "0   count               105482\n",
       "1    mean  0.33773591702849765\n",
       "2  stddev  0.18962863965467502\n",
       "3     min                 0.01\n",
       "4     max                  1.0"
      ]
     },
     "execution_count": 42,
     "metadata": {},
     "output_type": "execute_result"
    }
   ],
   "source": [
    "train_data.describe().toPandas()"
   ]
  },
  {
   "cell_type": "code",
   "execution_count": 43,
   "metadata": {},
   "outputs": [
    {
     "name": "stdout",
     "output_type": "stream",
     "text": [
      "+-------------------+-----+--------------------+\n",
      "|         prediction|label|            features|\n",
      "+-------------------+-----+--------------------+\n",
      "| 0.4857078979875382| 0.01|[0.03579999879002...|\n",
      "|0.03922009153621353| 0.01|[0.53600001335144...|\n",
      "|0.02090757405821897| 0.01|[0.94199997186660...|\n",
      "|0.19152939607657515| 0.02|[0.83099997043609...|\n",
      "| 0.1735809864472344| 0.02|[0.93999999761581...|\n",
      "+-------------------+-----+--------------------+\n",
      "only showing top 5 rows\n",
      "\n"
     ]
    }
   ],
   "source": [
    "prediction = model.transform(test_data)\n",
    "prediction.select(\"prediction\",\"label\",\"features\").show(5)"
   ]
  },
  {
   "cell_type": "code",
   "execution_count": 44,
   "metadata": {},
   "outputs": [
    {
     "name": "stdout",
     "output_type": "stream",
     "text": [
      "R Squared (R2) on test data = 0.369774\n"
     ]
    }
   ],
   "source": [
    "lr_evaluator = RegressionEvaluator(predictionCol=\"prediction\", \\\n",
    "                 labelCol=\"label\",metricName=\"r2\")\n",
    "print(\"R Squared (R2) on test data = %g\" % lr_evaluator.evaluate(prediction))"
   ]
  },
  {
   "cell_type": "code",
   "execution_count": 45,
   "metadata": {},
   "outputs": [
    {
     "name": "stdout",
     "output_type": "stream",
     "text": [
      "numIterations: 1\n",
      "objectiveHistory: [0.0]\n",
      "+--------------------+\n",
      "|           residuals|\n",
      "+--------------------+\n",
      "| -0.4136112799876359|\n",
      "|-0.45904168430537573|\n",
      "|-0.48268302904308924|\n",
      "|-0.04063393142501127|\n",
      "|-0.17263851720503331|\n",
      "| -0.2195522717889895|\n",
      "| -0.2144060470231055|\n",
      "|-0.01664467682864...|\n",
      "| -0.1911742419140443|\n",
      "|-0.12134235379400928|\n",
      "|-0.00239288297323...|\n",
      "| -0.2025596126501943|\n",
      "|-0.10473984051743358|\n",
      "| 0.01176296162517886|\n",
      "| -0.4664046225048568|\n",
      "|-0.40937989355435667|\n",
      "| -0.4590695085132359|\n",
      "|-0.47611057276309543|\n",
      "|-0.35033648342606005|\n",
      "|  -0.347910666290868|\n",
      "+--------------------+\n",
      "only showing top 20 rows\n",
      "\n"
     ]
    }
   ],
   "source": [
    "print(\"numIterations: %d\" % trainingSummary.totalIterations)\n",
    "print(\"objectiveHistory: %s\" % str(trainingSummary.objectiveHistory))\n",
    "trainingSummary.residuals.show()"
   ]
  },
  {
   "cell_type": "markdown",
   "metadata": {},
   "source": [
    "## Random Forest"
   ]
  },
  {
   "cell_type": "code",
   "execution_count": 46,
   "metadata": {},
   "outputs": [],
   "source": [
    "# IMPORT\n",
    "import numpy\n",
    "from numpy import allclose\n",
    "from pyspark.ml.linalg import Vectors\n",
    "from pyspark.ml.feature import StringIndexer\n",
    "from pyspark.ml.classification import RandomForestClassifier"
   ]
  },
  {
   "cell_type": "code",
   "execution_count": 47,
   "metadata": {},
   "outputs": [],
   "source": [
    "# PREPARE DATA\n",
    "stringIndexer = StringIndexer(inputCol=\"label\", outputCol=\"indexed\")\n",
    "si_model = stringIndexer.fit(df1)\n",
    "td = si_model.transform(df1)"
   ]
  },
  {
   "cell_type": "code",
   "execution_count": 48,
   "metadata": {},
   "outputs": [],
   "source": [
    "# BUILD THE MODEL\n",
    "rf = RandomForestClassifier(numTrees=11, maxDepth=2, labelCol=\"indexed\", seed=314)\n",
    "model = rf.fit(td)"
   ]
  },
  {
   "cell_type": "code",
   "execution_count": 49,
   "metadata": {},
   "outputs": [
    {
     "name": "stdout",
     "output_type": "stream",
     "text": [
      "(11,[0,3,4,6,10],[0.157634636943027,0.1339869192495287,0.009086296198294668,0.08243205274290422,0.6168600948662454])\n"
     ]
    }
   ],
   "source": [
    "# FEATURE IMPORTANCES\n",
    "print(model.featureImportances)"
   ]
  },
  {
   "cell_type": "markdown",
   "metadata": {},
   "source": [
    "///////////////////////////////////////////////////////////////////////////////////////////////////////////////////////////////////////////////////////////////////////"
   ]
  },
  {
   "cell_type": "code",
   "execution_count": 50,
   "metadata": {},
   "outputs": [],
   "source": [
    "from pyspark.ml import Pipeline\n",
    "from pyspark.ml.regression import RandomForestRegressor\n",
    "from pyspark.ml.feature import VectorIndexer\n",
    "from pyspark.ml.evaluation import RegressionEvaluator\n",
    "from pyspark.mllib.util import MLUtils"
   ]
  },
  {
   "cell_type": "code",
   "execution_count": 51,
   "metadata": {},
   "outputs": [
    {
     "name": "stdout",
     "output_type": "stream",
     "text": [
      "+------------------+-----+--------------------+\n",
      "|        prediction|label|            features|\n",
      "+------------------+-----+--------------------+\n",
      "|0.2351986637528467| 0.01|[0.57599997520446...|\n",
      "|0.1452164163052471| 0.01|[0.98799997568130...|\n",
      "|0.3361403060621463| 0.02|[0.00418000016361...|\n",
      "|0.5054291416073906| 0.02|[0.42199999094009...|\n",
      "|0.1610515219357835| 0.04|[0.74599999189376...|\n",
      "+------------------+-----+--------------------+\n",
      "only showing top 5 rows\n",
      "\n",
      "Root Mean Squared Error (RMSE) on test data = 0.140613\n",
      "R Squared (R2) on test data = 0.451537\n",
      "RandomForestRegressionModel: uid=RandomForestRegressor_5eb6872ee524, numTrees=20, numFeatures=11\n"
     ]
    }
   ],
   "source": [
    "# Automatically identify categorical features, and index them.\n",
    "# Set maxCategories so features with > 4 distinct values are treated as continuous.\n",
    "featureIndexer = VectorIndexer(inputCol=\"features\", outputCol=\"indexedFeatures\", maxCategories=4).fit(df1)\n",
    "\n",
    "# Split the data into training and test sets (20% held out for testing)\n",
    "(trainingData, testData) = df1.randomSplit([0.8, 0.2])\n",
    "\n",
    "# Train a RandomForest model.\n",
    "rf = RandomForestRegressor(featuresCol=\"indexedFeatures\")\n",
    "\n",
    "# Chain indexer and forest in a Pipeline\n",
    "pipeline = Pipeline(stages=[featureIndexer, rf])\n",
    "\n",
    "# Train model.  This also runs the indexer.\n",
    "model = pipeline.fit(trainingData)\n",
    "\n",
    "# Make predictions.\n",
    "predictions = model.transform(testData)\n",
    "\n",
    "# Select example rows to display.\n",
    "predictions.select(\"prediction\", \"label\", \"features\").show(5)\n",
    "\n",
    "# Select (prediction, true label) and compute test error\n",
    "evaluator = RegressionEvaluator(\n",
    "    labelCol=\"label\", predictionCol=\"prediction\", metricName=\"rmse\")\n",
    "rmse = evaluator.evaluate(predictions)\n",
    "print (\"Root Mean Squared Error (RMSE) on test data = %g\" % rmse)\n",
    "\n",
    "\n",
    "r2_evaluator = RegressionEvaluator(predictionCol=\"prediction\", \\\n",
    "                 labelCol=\"label\",metricName=\"r2\")\n",
    "print(\"R Squared (R2) on test data = %g\" % r2_evaluator.evaluate(predictions))\n",
    "\n",
    "rfModel = model.stages[1]\n",
    "print (rfModel) # summary only"
   ]
  },
  {
   "cell_type": "markdown",
   "metadata": {},
   "source": [
    "## Decision Tree"
   ]
  },
  {
   "cell_type": "code",
   "execution_count": 52,
   "metadata": {},
   "outputs": [
    {
     "name": "stdout",
     "output_type": "stream",
     "text": [
      "Root Mean Squared Error (RMSE) on test data = 0.139498\n"
     ]
    }
   ],
   "source": [
    "from pyspark.ml.regression import DecisionTreeRegressor\n",
    "dt = DecisionTreeRegressor(featuresCol ='features', labelCol = 'label')\n",
    "model = dt.fit(train_data)\n",
    "prediction = model.transform(test_data)\n",
    "evaluator = RegressionEvaluator(\n",
    "    labelCol=\"label\", predictionCol=\"prediction\", metricName=\"rmse\")\n",
    "rmse = evaluator.evaluate(prediction)\n",
    "print(\"Root Mean Squared Error (RMSE) on test data = %g\" % rmse)"
   ]
  },
  {
   "cell_type": "code",
   "execution_count": 53,
   "metadata": {},
   "outputs": [
    {
     "data": {
      "text/plain": [
       "SparseVector(11, {0: 0.0159, 2: 0.0188, 4: 0.0881, 5: 0.0065, 6: 0.0169, 7: 0.0005, 10: 0.8533})"
      ]
     },
     "execution_count": 53,
     "metadata": {},
     "output_type": "execute_result"
    }
   ],
   "source": [
    "model.featureImportances"
   ]
  },
  {
   "cell_type": "code",
   "execution_count": 54,
   "metadata": {},
   "outputs": [
    {
     "data": {
      "text/plain": [
       "[Row(label=0.04, features=DenseVector([0.995, 0.644, 2.53, 0.123, 858.0, 0.218, -18.648, 0.394, 189.67, 0.787, 1925.0]))]"
      ]
     },
     "execution_count": 54,
     "metadata": {},
     "output_type": "execute_result"
    }
   ],
   "source": [
    "df1.take(1)"
   ]
  },
  {
   "cell_type": "markdown",
   "metadata": {},
   "source": [
    "///////////////////////////////////////////////////////////////////////////////////////////////////////////////////////////////////////////////////////////////////////"
   ]
  },
  {
   "cell_type": "code",
   "execution_count": 55,
   "metadata": {},
   "outputs": [],
   "source": [
    "featureIndexer = VectorIndexer(inputCol = \"features\", outputCol = \"indexedFeatures\").fit(df1)\n",
    "\n",
    "(trainingData, testData) = df1.randomSplit([0.8, 0.2])\n",
    "\n",
    "dt = DecisionTreeRegressor(featuresCol ='features', labelCol = 'label')\n",
    "\n",
    "pipeline = Pipeline(stages =[featureIndexer, dt])\n",
    "\n",
    "model = pipeline.fit(trainingData)\n",
    "\n",
    "predictions = model.transform(testData)"
   ]
  },
  {
   "cell_type": "code",
   "execution_count": 56,
   "metadata": {},
   "outputs": [
    {
     "name": "stdout",
     "output_type": "stream",
     "text": [
      "+-------------------+-----+--------------------+\n",
      "|         prediction|label|            features|\n",
      "+-------------------+-----+--------------------+\n",
      "|0.08058719560094266| 0.01|[0.85199999809265...|\n",
      "|0.08058719560094266| 0.01|[0.97399997711181...|\n",
      "|0.10684787018255577| 0.01|[0.97899997234344...|\n",
      "| 0.5120192856689716| 0.02|[0.22200000286102...|\n",
      "| 0.5120192856689716| 0.02|[0.42199999094009...|\n",
      "|0.45201884768617845| 0.02|[0.81199997663497...|\n",
      "|0.08058719560094266| 0.03|[0.97299998998641...|\n",
      "|0.17025593299208938| 0.04|[2.11999995372025...|\n",
      "|0.10684787018255577| 0.04|[0.54400002956390...|\n",
      "|0.12919354838709676| 0.04|[0.64700001478195...|\n",
      "+-------------------+-----+--------------------+\n",
      "only showing top 10 rows\n",
      "\n",
      "Root Mean Squared Error (RMSE) on test data = 0.140137\n",
      "R Squared (R2) on test data = 0.452059\n",
      "DecisionTreeRegressionModel: uid=DecisionTreeRegressor_ec2e09ca84ef, depth=5, numNodes=63, numFeatures=11\n"
     ]
    }
   ],
   "source": [
    "predictions.select(\"prediction\", \"label\", \"features\").show(10)\n",
    "\n",
    "# Select (prediction, true label) and compute test error\n",
    "evaluator = RegressionEvaluator(\n",
    "    labelCol=\"label\", predictionCol=\"prediction\", metricName=\"rmse\")\n",
    "rmse = evaluator.evaluate(predictions)\n",
    "print(\"Root Mean Squared Error (RMSE) on test data = %g\" % rmse)\n",
    "\n",
    "r2_evaluator = RegressionEvaluator(predictionCol=\"prediction\", \\\n",
    "                 labelCol=\"label\",metricName=\"r2\")\n",
    "print(\"R Squared (R2) on test data = %g\" % r2_evaluator.evaluate(predictions))\n",
    "\n",
    "treeModel = model.stages[1]\n",
    "# summary only\n",
    "print(treeModel)"
   ]
  },
  {
   "cell_type": "markdown",
   "metadata": {},
   "source": [
    "## Gradient-boosted Tree Regression"
   ]
  },
  {
   "cell_type": "code",
   "execution_count": 63,
   "metadata": {},
   "outputs": [
    {
     "name": "stdout",
     "output_type": "stream",
     "text": [
      "+--------------------+-----+--------------------+\n",
      "|          prediction|label|            features|\n",
      "+--------------------+-----+--------------------+\n",
      "|  0.4629138125971539| 0.01|[0.03579999879002...|\n",
      "|0.027197605208568558| 0.01|[0.53600001335144...|\n",
      "| 0.09261595311082287| 0.01|[0.94199997186660...|\n",
      "| 0.11043474182985684| 0.02|[0.83099997043609...|\n",
      "| 0.10252228622600336| 0.02|[0.93999999761581...|\n",
      "+--------------------+-----+--------------------+\n",
      "only showing top 5 rows\n",
      "\n"
     ]
    }
   ],
   "source": [
    "from pyspark.ml.regression import GBTRegressor\n",
    "gbt = GBTRegressor(featuresCol = 'features', labelCol = 'label', maxIter=10,\n",
    "                   maxDepth=5, )\n",
    "gbt_model = gbt.fit(train_data)\n",
    "gbt_predictions = gbt_model.transform(test_data)\n",
    "gbt_predictions.select('prediction', 'label', 'features').show(5)"
   ]
  },
  {
   "cell_type": "code",
   "execution_count": 64,
   "metadata": {},
   "outputs": [
    {
     "name": "stdout",
     "output_type": "stream",
     "text": [
      "Root Mean Squared Error (RMSE) on test data = 0.133273\n"
     ]
    }
   ],
   "source": [
    "gbt_evaluator = RegressionEvaluator(\n",
    "    labelCol=\"label\", predictionCol=\"prediction\", metricName=\"rmse\")\n",
    "rmse = gbt_evaluator.evaluate(gbt_predictions)\n",
    "print(\"Root Mean Squared Error (RMSE) on test data = %g\" % rmse)"
   ]
  },
  {
   "cell_type": "markdown",
   "metadata": {},
   "source": [
    "///////////////////////////////////////////////////////////////////////////////////////////////////////////////////////////////////////////////////////////////////////"
   ]
  },
  {
   "cell_type": "code",
   "execution_count": 65,
   "metadata": {},
   "outputs": [],
   "source": [
    "featureIndexer = VectorIndexer(inputCol = \"features\", outputCol = \"indexedFeatures\").fit(df1)\n",
    "\n",
    "(trainingData, testData) = df1.randomSplit([0.8, 0.2])\n",
    "\n",
    "gbt = GBTRegressor(featuresCol = 'features', labelCol = 'label', maxIter=10, maxDepth = 10)\n",
    "\n",
    "pipeline = Pipeline(stages =[featureIndexer, gbt])\n",
    "\n",
    "model = pipeline.fit(trainingData)\n",
    "\n",
    "predictions = model.transform(testData)"
   ]
  },
  {
   "cell_type": "code",
   "execution_count": 66,
   "metadata": {},
   "outputs": [
    {
     "name": "stdout",
     "output_type": "stream",
     "text": [
      "+--------------------+-----+--------------------+\n",
      "|          prediction|label|            features|\n",
      "+--------------------+-----+--------------------+\n",
      "| 0.10531503812853413| 0.01|[0.00431999983265...|\n",
      "|  0.4536541317610295| 0.01|[0.00832999963313...|\n",
      "|  0.1725014328161872| 0.01|[0.79799997806549...|\n",
      "|  0.5357159883881433| 0.02|[0.42199999094009...|\n",
      "|-0.05809302409012788| 0.02|[0.85500001907348...|\n",
      "| 0.08479023368293434| 0.02|[0.93999999761581...|\n",
      "|  0.1096837652872323| 0.03|[0.80400002002716...|\n",
      "| 0.14814595830483185| 0.04|[0.83600002527236...|\n",
      "| 0.08688367126909961| 0.04|[0.98500001430511...|\n",
      "| 0.06523003323308384| 0.04|[0.99500000476837...|\n",
      "+--------------------+-----+--------------------+\n",
      "only showing top 10 rows\n",
      "\n",
      "Root Mean Squared Error (RMSE) on test data = 0.129835\n",
      "R Squared (R2) on test data = 0.534421\n"
     ]
    }
   ],
   "source": [
    "predictions.select(\"prediction\", \"label\", \"features\").show(10)\n",
    "\n",
    "# Select (prediction, true label) and compute test error\n",
    "evaluator = RegressionEvaluator(\n",
    "    labelCol=\"label\", predictionCol=\"prediction\", metricName=\"rmse\")\n",
    "rmse = evaluator.evaluate(predictions)\n",
    "print(\"Root Mean Squared Error (RMSE) on test data = %g\" % rmse)\n",
    "\n",
    "r2_evaluator = RegressionEvaluator(predictionCol=\"prediction\", \\\n",
    "                 labelCol=\"label\",metricName=\"r2\")\n",
    "print(\"R Squared (R2) on test data = %g\" % r2_evaluator.evaluate(predictions))"
   ]
  }
 ],
 "metadata": {
  "kernelspec": {
   "display_name": "Python 3",
   "language": "python",
   "name": "python3"
  },
  "language_info": {
   "codemirror_mode": {
    "name": "ipython",
    "version": 3
   },
   "file_extension": ".py",
   "mimetype": "text/x-python",
   "name": "python",
   "nbconvert_exporter": "python",
   "pygments_lexer": "ipython3",
   "version": "3.7.3"
  }
 },
 "nbformat": 4,
 "nbformat_minor": 4
}
