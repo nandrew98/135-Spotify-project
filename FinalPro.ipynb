{
 "cells": [
  {
   "cell_type": "markdown",
   "metadata": {},
   "source": [
    "## Data cleaning "
   ]
  },
  {
   "cell_type": "markdown",
   "metadata": {},
   "source": [
    "**Import Modules**"
   ]
  },
  {
   "cell_type": "code",
   "execution_count": 96,
   "metadata": {},
   "outputs": [],
   "source": [
    "from pyspark.sql.session import SparkSession\n",
    "from pyspark.sql import functions as F\n",
    "\n",
    "from pyspark.ml import Pipeline\n",
    "from pyspark.ml.regression import LinearRegression\n",
    "from pyspark.ml.feature import VectorAssembler, StandardScaler, PCA, OneHotEncoder, StringIndexer\n",
    "from pyspark.ml.evaluation import RegressionEvaluator\n",
    "from pyspark.ml.tuning import ParamGridBuilder, CrossValidator\n",
    "\n",
    "from pyspark.sql.types import IntegerType\n",
    "from pyspark.sql.types import FloatType\n",
    "from pyspark.sql.functions import isnan, when, count, col"
   ]
  },
  {
   "cell_type": "code",
   "execution_count": 97,
   "metadata": {},
   "outputs": [],
   "source": [
    "import os\n",
    "\n",
    "# Data Manipulation\n",
    "import numpy as np \n",
    "import pandas as pd"
   ]
  },
  {
   "cell_type": "code",
   "execution_count": 98,
   "metadata": {},
   "outputs": [],
   "source": [
    "spark = SparkSession.builder.getOrCreate()\n",
    "sc = spark.sparkContext"
   ]
  },
  {
   "cell_type": "markdown",
   "metadata": {},
   "source": [
    "**Read csv file**"
   ]
  },
  {
   "cell_type": "code",
   "execution_count": 99,
   "metadata": {},
   "outputs": [],
   "source": [
    "filename = 'data.csv'\n",
    "df = spark.read.csv(filename, inferSchema=True, header = True).limit(100)"
   ]
  },
  {
   "cell_type": "code",
   "execution_count": 100,
   "metadata": {},
   "outputs": [
    {
     "data": {
      "text/plain": [
       "pyspark.sql.dataframe.DataFrame"
      ]
     },
     "execution_count": 100,
     "metadata": {},
     "output_type": "execute_result"
    }
   ],
   "source": [
    "type(df)"
   ]
  },
  {
   "cell_type": "markdown",
   "metadata": {},
   "source": [
    "**Converting**"
   ]
  },
  {
   "cell_type": "code",
   "execution_count": 101,
   "metadata": {},
   "outputs": [],
   "source": [
    "floats = [\"acousticness\", \"danceability\", \"energy\", \"instrumentalness\", \"liveness\", \"loudness\",\n",
    "         \"speechiness\", \"tempo\", \"valence\"]\n",
    "for i in floats:\n",
    "        df = df.withColumn(i, df[i].cast(FloatType()))\n",
    "\n",
    "ints = [\"duration_ms\", \"explicit\", \"key\", \"mode\", \"popularity\", \"year\"]\n",
    "for i in ints:\n",
    "    df = df.withColumn(i, df[i].cast(IntegerType()))"
   ]
  },
  {
   "cell_type": "code",
   "execution_count": 102,
   "metadata": {},
   "outputs": [
    {
     "data": {
      "text/plain": [
       "DataFrame[acousticness: float, artists: string, danceability: float, duration_ms: int, energy: float, explicit: int, id: string, instrumentalness: float, key: int, liveness: float, loudness: float, mode: int, name: string, popularity: int, release_date: string, speechiness: float, tempo: float, valence: float, year: int]"
      ]
     },
     "execution_count": 102,
     "metadata": {},
     "output_type": "execute_result"
    }
   ],
   "source": [
    "# Check Process: whether it works\n",
    "df"
   ]
  },
  {
   "cell_type": "code",
   "execution_count": 103,
   "metadata": {},
   "outputs": [
    {
     "name": "stdout",
     "output_type": "stream",
     "text": [
      "+------------+--------------------+------------+-----------+------+--------+--------------------+----------------+---+--------+--------+----+--------------------+----------+------------+-----------+-------+-------+----+\n",
      "|acousticness|             artists|danceability|duration_ms|energy|explicit|                  id|instrumentalness|key|liveness|loudness|mode|                name|popularity|release_date|speechiness|  tempo|valence|year|\n",
      "+------------+--------------------+------------+-----------+------+--------+--------------------+----------------+---+--------+--------+----+--------------------+----------+------------+-----------+-------+-------+----+\n",
      "|       0.991|     ['Mamie Smith']|       0.598|     168333| 0.224|       0|0cS0A1fUEUd1EW3Fc...|         5.22E-4|  5|   0.379| -12.628|   0|Keep A Song In Yo...|        12|        1920|     0.0936|149.976|  0.634|1920|\n",
      "|       0.643|\"[\"\"Screamin' Jay...|       0.852|     150200| 0.517|       0|0hbkKFIJm7Z05H8Zl...|          0.0264|  5|  0.0809|  -7.261|   0|I Put A Spell On You|         7|  1920-01-05|     0.0534| 86.889|   0.95|1920|\n",
      "|       0.993|     ['Mamie Smith']|       0.647|     163827| 0.186|       0|11m7laMUgmOKqI3oY...|         1.76E-5|  0|   0.519| -12.098|   1|        Golfing Papa|         4|        1920|      0.174|   97.6|  0.689|1920|\n",
      "|     1.73E-4| ['Oscar Velazquez']|        0.73|     422087| 0.798|       0|19Lc5SfJJ5O1oaxY0...|           0.801|  2|   0.128|  -7.311|   1|True House Music ...|        17|  1920-01-01|     0.0425|127.997| 0.0422|1920|\n",
      "|       0.295|            ['Mixe']|       0.704|     165224| 0.707|       1|2hJjbsLCytGsnAHfd...|         2.46E-4| 10|   0.402|  -6.036|   0|           Xuniverxe|         2|  1920-10-01|     0.0768|122.076|  0.299|1920|\n",
      "+------------+--------------------+------------+-----------+------+--------+--------------------+----------------+---+--------+--------+----+--------------------+----------+------------+-----------+-------+-------+----+\n",
      "only showing top 5 rows\n",
      "\n"
     ]
    }
   ],
   "source": [
    "# After converting, create a New Dataset called df.\n",
    "df.createOrReplaceTempView(\"df\")\n",
    "spark.sql(\"select * from df\").show(5)"
   ]
  },
  {
   "cell_type": "code",
   "execution_count": 104,
   "metadata": {},
   "outputs": [
    {
     "name": "stdout",
     "output_type": "stream",
     "text": [
      "root\n",
      " |-- acousticness: float (nullable = true)\n",
      " |-- artists: string (nullable = true)\n",
      " |-- danceability: float (nullable = true)\n",
      " |-- duration_ms: integer (nullable = true)\n",
      " |-- energy: float (nullable = true)\n",
      " |-- explicit: integer (nullable = true)\n",
      " |-- id: string (nullable = true)\n",
      " |-- instrumentalness: float (nullable = true)\n",
      " |-- key: integer (nullable = true)\n",
      " |-- liveness: float (nullable = true)\n",
      " |-- loudness: float (nullable = true)\n",
      " |-- mode: integer (nullable = true)\n",
      " |-- name: string (nullable = true)\n",
      " |-- popularity: integer (nullable = true)\n",
      " |-- release_date: string (nullable = true)\n",
      " |-- speechiness: float (nullable = true)\n",
      " |-- tempo: float (nullable = true)\n",
      " |-- valence: float (nullable = true)\n",
      " |-- year: integer (nullable = true)\n",
      "\n"
     ]
    }
   ],
   "source": [
    "df.printSchema()"
   ]
  },
  {
   "cell_type": "markdown",
   "metadata": {},
   "source": [
    "**Drop Useless Variables & Reduce Duplicates**"
   ]
  },
  {
   "cell_type": "code",
   "execution_count": 105,
   "metadata": {},
   "outputs": [],
   "source": [
    "# Cleaning\n",
    "# Variables id, name, release_date are not related to our question.\n",
    "# Thus, droping all three.\n",
    "df_drop = df.drop(\"id\", \"name\", \"release_date\")"
   ]
  },
  {
   "cell_type": "code",
   "execution_count": 106,
   "metadata": {},
   "outputs": [
    {
     "name": "stdout",
     "output_type": "stream",
     "text": [
      "root\n",
      " |-- acousticness: float (nullable = true)\n",
      " |-- artists: string (nullable = true)\n",
      " |-- danceability: float (nullable = true)\n",
      " |-- duration_ms: integer (nullable = true)\n",
      " |-- energy: float (nullable = true)\n",
      " |-- explicit: integer (nullable = true)\n",
      " |-- instrumentalness: float (nullable = true)\n",
      " |-- key: integer (nullable = true)\n",
      " |-- liveness: float (nullable = true)\n",
      " |-- loudness: float (nullable = true)\n",
      " |-- mode: integer (nullable = true)\n",
      " |-- popularity: integer (nullable = true)\n",
      " |-- speechiness: float (nullable = true)\n",
      " |-- tempo: float (nullable = true)\n",
      " |-- valence: float (nullable = true)\n",
      " |-- year: integer (nullable = true)\n",
      "\n"
     ]
    }
   ],
   "source": [
    "# Artists is the only remaining categorical feature\n",
    "df_drop.printSchema()"
   ]
  },
  {
   "cell_type": "code",
   "execution_count": 107,
   "metadata": {},
   "outputs": [
    {
     "name": "stdout",
     "output_type": "stream",
     "text": [
      "Rows = 100\n",
      "Distinct Rows = 98\n",
      "The number of rows with duplicate data removed = 98\n"
     ]
    }
   ],
   "source": [
    "# Count rows and unique rows\n",
    "print('Rows = {}'.format(df_drop.count()))\n",
    "print('Distinct Rows = {}'.format(df_drop.distinct().count()))\n",
    "\n",
    "# Check\n",
    "# Drop all duplicates \n",
    "df1 = df_drop.dropDuplicates()\n",
    "print('The number of rows with duplicate data removed = {}'.format(df1.count()))"
   ]
  },
  {
   "cell_type": "markdown",
   "metadata": {},
   "source": [
    "**Check and Delete Null**"
   ]
  },
  {
   "cell_type": "code",
   "execution_count": 108,
   "metadata": {},
   "outputs": [
    {
     "name": "stdout",
     "output_type": "stream",
     "text": [
      "+------------+-------+------------+-----------+------+--------+----------------+---+--------+--------+----+----------+-----------+-----+-------+----+\n",
      "|acousticness|artists|danceability|duration_ms|energy|explicit|instrumentalness|key|liveness|loudness|mode|popularity|speechiness|tempo|valence|year|\n",
      "+------------+-------+------------+-----------+------+--------+----------------+---+--------+--------+----+----------+-----------+-----+-------+----+\n",
      "|           0|      0|           0|          0|     0|       0|               0|  0|       0|       0|   0|         0|          0|    0|      0|   0|\n",
      "+------------+-------+------------+-----------+------+--------+----------------+---+--------+--------+----+----------+-----------+-----+-------+----+\n",
      "\n"
     ]
    }
   ],
   "source": [
    "df1.select([count(when(isnan(c), c)).alias(c) for c in df1.columns]).show()"
   ]
  },
  {
   "cell_type": "code",
   "execution_count": 109,
   "metadata": {},
   "outputs": [
    {
     "name": "stdout",
     "output_type": "stream",
     "text": [
      "+------------+---------------+------------+-----------+------+--------+----------------+---+--------+--------+----+----------+-----------+-------+-------+----+\n",
      "|acousticness|        artists|danceability|duration_ms|energy|explicit|instrumentalness|key|liveness|loudness|mode|popularity|speechiness|  tempo|valence|year|\n",
      "+------------+---------------+------------+-----------+------+--------+----------------+---+--------+--------+----+----------+-----------+-------+-------+----+\n",
      "|       0.991|['Mamie Smith']|       0.598|     168333| 0.224|       0|         5.22E-4|  5|   0.379| -12.628|   0|        12|     0.0936|149.976|  0.634|1920|\n",
      "+------------+---------------+------------+-----------+------+--------+----------------+---+--------+--------+----+----------+-----------+-------+-------+----+\n",
      "only showing top 1 row\n",
      "\n"
     ]
    }
   ],
   "source": [
    "df1.na.drop().show(1)"
   ]
  },
  {
   "cell_type": "markdown",
   "metadata": {},
   "source": [
    "**Numeric Variables & Categorical Variables**"
   ]
  },
  {
   "cell_type": "code",
   "execution_count": 110,
   "metadata": {},
   "outputs": [],
   "source": [
    "num_cols = []\n",
    "cat_cols = []\n",
    "\n",
    "for s in df1.schema:\n",
    "    data_type = str(s.dataType)\n",
    "    if data_type == \"StringType\":\n",
    "        cat_cols.append(s.name)\n",
    "    \n",
    "    #if data_type == \"FloatType\" or data_type == \"IntType\" or data_type ==\"String\":\n",
    "    else:\n",
    "        num_cols.append(s.name)"
   ]
  },
  {
   "cell_type": "code",
   "execution_count": 111,
   "metadata": {},
   "outputs": [
    {
     "data": {
      "text/plain": [
       "['acousticness',\n",
       " 'danceability',\n",
       " 'duration_ms',\n",
       " 'energy',\n",
       " 'explicit',\n",
       " 'instrumentalness',\n",
       " 'key',\n",
       " 'liveness',\n",
       " 'loudness',\n",
       " 'mode',\n",
       " 'popularity',\n",
       " 'speechiness',\n",
       " 'tempo',\n",
       " 'valence',\n",
       " 'year']"
      ]
     },
     "execution_count": 111,
     "metadata": {},
     "output_type": "execute_result"
    }
   ],
   "source": [
    "num_cols"
   ]
  },
  {
   "cell_type": "code",
   "execution_count": 112,
   "metadata": {},
   "outputs": [
    {
     "data": {
      "text/plain": [
       "['artists']"
      ]
     },
     "execution_count": 112,
     "metadata": {},
     "output_type": "execute_result"
    }
   ],
   "source": [
    "cat_cols"
   ]
  },
  {
   "cell_type": "code",
   "execution_count": 113,
   "metadata": {},
   "outputs": [
    {
     "data": {
      "text/html": [
       "<div>\n",
       "<style scoped>\n",
       "    .dataframe tbody tr th:only-of-type {\n",
       "        vertical-align: middle;\n",
       "    }\n",
       "\n",
       "    .dataframe tbody tr th {\n",
       "        vertical-align: top;\n",
       "    }\n",
       "\n",
       "    .dataframe thead th {\n",
       "        text-align: right;\n",
       "    }\n",
       "</style>\n",
       "<table border=\"1\" class=\"dataframe\">\n",
       "  <thead>\n",
       "    <tr style=\"text-align: right;\">\n",
       "      <th></th>\n",
       "      <th>summary</th>\n",
       "      <th>acousticness</th>\n",
       "      <th>artists</th>\n",
       "      <th>danceability</th>\n",
       "      <th>duration_ms</th>\n",
       "      <th>energy</th>\n",
       "      <th>explicit</th>\n",
       "      <th>instrumentalness</th>\n",
       "      <th>key</th>\n",
       "      <th>liveness</th>\n",
       "      <th>loudness</th>\n",
       "      <th>mode</th>\n",
       "      <th>popularity</th>\n",
       "      <th>speechiness</th>\n",
       "      <th>tempo</th>\n",
       "      <th>valence</th>\n",
       "      <th>year</th>\n",
       "    </tr>\n",
       "  </thead>\n",
       "  <tbody>\n",
       "    <tr>\n",
       "      <th>0</th>\n",
       "      <td>count</td>\n",
       "      <td>98</td>\n",
       "      <td>98</td>\n",
       "      <td>98</td>\n",
       "      <td>98</td>\n",
       "      <td>98</td>\n",
       "      <td>98</td>\n",
       "      <td>98</td>\n",
       "      <td>98</td>\n",
       "      <td>98</td>\n",
       "      <td>98</td>\n",
       "      <td>98</td>\n",
       "      <td>98</td>\n",
       "      <td>98</td>\n",
       "      <td>98</td>\n",
       "      <td>98</td>\n",
       "      <td>98</td>\n",
       "    </tr>\n",
       "    <tr>\n",
       "      <th>1</th>\n",
       "      <td>mean</td>\n",
       "      <td>0.6006128165351806</td>\n",
       "      <td>None</td>\n",
       "      <td>0.5824744904375806</td>\n",
       "      <td>231907.24489795917</td>\n",
       "      <td>0.4449275505767033</td>\n",
       "      <td>0.14285714285714285</td>\n",
       "      <td>0.31306140813942374</td>\n",
       "      <td>5.142857142857143</td>\n",
       "      <td>0.21727959252893925</td>\n",
       "      <td>-12.392306128326727</td>\n",
       "      <td>0.6530612244897959</td>\n",
       "      <td>0.7653061224489796</td>\n",
       "      <td>0.09290408196726016</td>\n",
       "      <td>113.26907122865015</td>\n",
       "      <td>0.5380499978378719</td>\n",
       "      <td>1920.0</td>\n",
       "    </tr>\n",
       "    <tr>\n",
       "      <th>2</th>\n",
       "      <td>stddev</td>\n",
       "      <td>0.41954522589353777</td>\n",
       "      <td>None</td>\n",
       "      <td>0.1749440912956772</td>\n",
       "      <td>100351.28096245402</td>\n",
       "      <td>0.22824666237275687</td>\n",
       "      <td>0.35172622905632944</td>\n",
       "      <td>0.3907475863752577</td>\n",
       "      <td>3.560956665158118</td>\n",
       "      <td>0.14870300774369233</td>\n",
       "      <td>5.304858143688915</td>\n",
       "      <td>0.47844336976134183</td>\n",
       "      <td>2.5758634641097196</td>\n",
       "      <td>0.11392275857497776</td>\n",
       "      <td>27.316508375543872</td>\n",
       "      <td>0.24590656279759582</td>\n",
       "      <td>0.0</td>\n",
       "    </tr>\n",
       "    <tr>\n",
       "      <th>3</th>\n",
       "      <td>min</td>\n",
       "      <td>1.16E-5</td>\n",
       "      <td>\"[\"\"Screamin' Jay Hawkins\"\"]\"</td>\n",
       "      <td>0.0735</td>\n",
       "      <td>77477</td>\n",
       "      <td>0.0148</td>\n",
       "      <td>0</td>\n",
       "      <td>0.0</td>\n",
       "      <td>0</td>\n",
       "      <td>0.0494</td>\n",
       "      <td>-33.187</td>\n",
       "      <td>0</td>\n",
       "      <td>0</td>\n",
       "      <td>0.0253</td>\n",
       "      <td>59.544</td>\n",
       "      <td>0.0224</td>\n",
       "      <td>1920</td>\n",
       "    </tr>\n",
       "    <tr>\n",
       "      <th>4</th>\n",
       "      <td>max</td>\n",
       "      <td>0.996</td>\n",
       "      <td>['Ánna Khrisáfi']</td>\n",
       "      <td>0.936</td>\n",
       "      <td>774360</td>\n",
       "      <td>0.998</td>\n",
       "      <td>1</td>\n",
       "      <td>0.983</td>\n",
       "      <td>11</td>\n",
       "      <td>0.805</td>\n",
       "      <td>-4.107</td>\n",
       "      <td>1</td>\n",
       "      <td>17</td>\n",
       "      <td>0.845</td>\n",
       "      <td>183.958</td>\n",
       "      <td>0.95</td>\n",
       "      <td>1920</td>\n",
       "    </tr>\n",
       "  </tbody>\n",
       "</table>\n",
       "</div>"
      ],
      "text/plain": [
       "  summary         acousticness                        artists  \\\n",
       "0   count                   98                             98   \n",
       "1    mean   0.6006128165351806                           None   \n",
       "2  stddev  0.41954522589353777                           None   \n",
       "3     min              1.16E-5  \"[\"\"Screamin' Jay Hawkins\"\"]\"   \n",
       "4     max                0.996              ['Ánna Khrisáfi']   \n",
       "\n",
       "         danceability         duration_ms               energy  \\\n",
       "0                  98                  98                   98   \n",
       "1  0.5824744904375806  231907.24489795917   0.4449275505767033   \n",
       "2  0.1749440912956772  100351.28096245402  0.22824666237275687   \n",
       "3              0.0735               77477               0.0148   \n",
       "4               0.936              774360                0.998   \n",
       "\n",
       "              explicit     instrumentalness                key  \\\n",
       "0                   98                   98                 98   \n",
       "1  0.14285714285714285  0.31306140813942374  5.142857142857143   \n",
       "2  0.35172622905632944   0.3907475863752577  3.560956665158118   \n",
       "3                    0                  0.0                  0   \n",
       "4                    1                0.983                 11   \n",
       "\n",
       "              liveness             loudness                 mode  \\\n",
       "0                   98                   98                   98   \n",
       "1  0.21727959252893925  -12.392306128326727   0.6530612244897959   \n",
       "2  0.14870300774369233    5.304858143688915  0.47844336976134183   \n",
       "3               0.0494              -33.187                    0   \n",
       "4                0.805               -4.107                    1   \n",
       "\n",
       "           popularity          speechiness               tempo  \\\n",
       "0                  98                   98                  98   \n",
       "1  0.7653061224489796  0.09290408196726016  113.26907122865015   \n",
       "2  2.5758634641097196  0.11392275857497776  27.316508375543872   \n",
       "3                   0               0.0253              59.544   \n",
       "4                  17                0.845             183.958   \n",
       "\n",
       "               valence    year  \n",
       "0                   98      98  \n",
       "1   0.5380499978378719  1920.0  \n",
       "2  0.24590656279759582     0.0  \n",
       "3               0.0224    1920  \n",
       "4                 0.95    1920  "
      ]
     },
     "execution_count": 113,
     "metadata": {},
     "output_type": "execute_result"
    }
   ],
   "source": [
    "df1.describe().toPandas()"
   ]
  },
  {
   "cell_type": "markdown",
   "metadata": {},
   "source": [
    "## Linear Regression Model"
   ]
  },
  {
   "cell_type": "markdown",
   "metadata": {},
   "source": [
    "**SCALING**"
   ]
  },
  {
   "cell_type": "code",
   "execution_count": 114,
   "metadata": {},
   "outputs": [],
   "source": [
    "from pyspark.sql.functions import col\n",
    "import pyspark.sql.functions as func\n",
    "df1 = df1.withColumn('popularity_final',\n",
    "                     func.round(df1['popularity']/100, 2))"
   ]
  },
  {
   "cell_type": "markdown",
   "metadata": {},
   "source": [
    "**SELECT AND STANDARDIZE FEATURES**"
   ]
  },
  {
   "cell_type": "code",
   "execution_count": 115,
   "metadata": {},
   "outputs": [
    {
     "name": "stdout",
     "output_type": "stream",
     "text": [
      "+----------------+------------+------------+-----------+------+--------+----------------+---+--------+--------+----+-----------+-------+-------+----+\n",
      "|popularity_final|acousticness|danceability|duration_ms|energy|explicit|instrumentalness|key|liveness|loudness|mode|speechiness|  tempo|valence|year|\n",
      "+----------------+------------+------------+-----------+------+--------+----------------+---+--------+--------+----+-----------+-------+-------+----+\n",
      "|            0.12|       0.991|       0.598|     168333| 0.224|       0|         5.22E-4|  5|   0.379| -12.628|   0|     0.0936|149.976|  0.634|1920|\n",
      "+----------------+------------+------------+-----------+------+--------+----------------+---+--------+--------+----+-----------+-------+-------+----+\n",
      "only showing top 1 row\n",
      "\n"
     ]
    }
   ],
   "source": [
    "vars_to_keep = ['popularity_final','acousticness', 'danceability', 'duration_ms', 'energy', \n",
    "                'explicit', 'instrumentalness', 'key', 'liveness', 'loudness', \n",
    "                'mode', 'speechiness', 'tempo', 'valence', 'year']\n",
    "\n",
    "# subset the dataframe on these predictors\n",
    "df2 = df1.select(vars_to_keep)\n",
    "df2.show(1)"
   ]
  },
  {
   "cell_type": "code",
   "execution_count": 116,
   "metadata": {},
   "outputs": [],
   "source": [
    "from pyspark.ml.linalg import DenseVector\n",
    "from pyspark.ml.linalg import Vectors\n",
    "from pyspark.ml.feature import VectorAssembler\n",
    "from pyspark.ml.feature import StandardScaler"
   ]
  },
  {
   "cell_type": "code",
   "execution_count": 117,
   "metadata": {},
   "outputs": [],
   "source": [
    "feature_cols = ['acousticness','danceability', 'duration_ms', 'energy', \n",
    "                'explicit', 'instrumentalness', 'key', 'liveness', 'loudness', \n",
    "                'mode', 'speechiness', 'tempo', 'valence', 'year']\n",
    "\n",
    "assembler = VectorAssembler(\n",
    "    inputCols = feature_cols, \n",
    "    outputCol = \"features\") \n",
    "df2 = assembler.transform(df2)"
   ]
  },
  {
   "cell_type": "code",
   "execution_count": 118,
   "metadata": {},
   "outputs": [
    {
     "name": "stdout",
     "output_type": "stream",
     "text": [
      "+-----+--------------------+\n",
      "|label|            features|\n",
      "+-----+--------------------+\n",
      "| 0.12|[0.99099999666213...|\n",
      "| 0.07|[0.64300000667572...|\n",
      "| 0.04|[0.99299997091293...|\n",
      "| 0.17|[1.72999993083067...|\n",
      "| 0.02|[0.29499998688697...|\n",
      "+-----+--------------------+\n",
      "only showing top 5 rows\n",
      "\n"
     ]
    }
   ],
   "source": [
    "df2 = df2.select([\"popularity_final\",'features']) \\\n",
    "         .withColumnRenamed(\"popularity_final\", 'label')\n",
    "df2.show(5)"
   ]
  },
  {
   "cell_type": "code",
   "execution_count": 119,
   "metadata": {},
   "outputs": [],
   "source": [
    "## Feature scaling\n",
    "# Initialize the `standardScaler`\n",
    "standardScaler = StandardScaler(inputCol=\"features\", outputCol=\"features_scaled\", \n",
    "                                withStd=True, withMean=False)\n",
    "\n",
    "# Fit the DataFrame to the scaler; this computes the mean, standard deviation of each feature\n",
    "scaler = standardScaler.fit(df2)\n",
    "\n",
    "# Transform the data in `df2` with the scaler\n",
    "scaled_df2 = scaler.transform(df2)"
   ]
  },
  {
   "cell_type": "code",
   "execution_count": 120,
   "metadata": {},
   "outputs": [
    {
     "name": "stdout",
     "output_type": "stream",
     "text": [
      "+-----+--------------------+--------------------+\n",
      "|label|            features|     features_scaled|\n",
      "+-----+--------------------+--------------------+\n",
      "| 0.12|[0.99099999666213...|[2.36208145272427...|\n",
      "| 0.07|[0.64300000667572...|[1.53261190210488...|\n",
      "| 0.04|[0.99299997091293...|[2.36684845787022...|\n",
      "| 0.17|[1.72999993083067...|[4.12351237496781...|\n",
      "| 0.02|[0.29499998688697...|[0.70314228045068...|\n",
      "+-----+--------------------+--------------------+\n",
      "only showing top 5 rows\n",
      "\n"
     ]
    }
   ],
   "source": [
    "scaled_df2.show(5)"
   ]
  },
  {
   "cell_type": "code",
   "execution_count": 121,
   "metadata": {},
   "outputs": [],
   "source": [
    "# Split data into train set (80%), test set (20%) \n",
    "splits = scaled_df2.randomSplit([0.8, 0.2])\n",
    "train_df = splits[0]\n",
    "test_df = splits[1]"
   ]
  },
  {
   "cell_type": "code",
   "execution_count": 122,
   "metadata": {},
   "outputs": [
    {
     "name": "stdout",
     "output_type": "stream",
     "text": [
      "+-----+--------------------+--------------------+\n",
      "|label|            features|     features_scaled|\n",
      "+-----+--------------------+--------------------+\n",
      "|  0.0|[1.75000004674075...|[4.17118331644375...|\n",
      "|  0.0|[1.02999998489394...|[2.45503922181518...|\n",
      "|  0.0|[1.80999995791353...|[4.31419510032234...|\n",
      "|  0.0|[0.00478000007569...|[0.01139328916332...|\n",
      "|  0.0|[0.00675999978557...|[0.01611268432664...|\n",
      "+-----+--------------------+--------------------+\n",
      "only showing top 5 rows\n",
      "\n"
     ]
    }
   ],
   "source": [
    "train_df.show(5)"
   ]
  },
  {
   "cell_type": "code",
   "execution_count": 123,
   "metadata": {},
   "outputs": [
    {
     "name": "stdout",
     "output_type": "stream",
     "text": [
      "Coefficients: [0.0,0.0,0.0,0.0,0.0,0.0,0.0,0.0,0.0,0.0,0.0,0.0,0.0,0.0]\n",
      "Intercept: 0.005866666666666667\n"
     ]
    }
   ],
   "source": [
    "from pyspark.ml.regression import LinearRegression\n",
    "\n",
    "lr = LinearRegression(featuresCol = 'features', labelCol='label', maxIter=10, regParam=0.3, elasticNetParam=0.8)\n",
    "lr_model = lr.fit(train_df)\n",
    "print(\"Coefficients: \" + str(lr_model.coefficients))\n",
    "print(\"Intercept: \" + str(lr_model.intercept))"
   ]
  },
  {
   "cell_type": "code",
   "execution_count": 124,
   "metadata": {},
   "outputs": [
    {
     "name": "stdout",
     "output_type": "stream",
     "text": [
      "RMSE: 0.019602\n",
      "r2: 0.000000\n"
     ]
    }
   ],
   "source": [
    "trainingSummary = lr_model.summary\n",
    "print(\"RMSE: %f\" % trainingSummary.rootMeanSquaredError)\n",
    "print(\"r2: %f\" % trainingSummary.r2)"
   ]
  },
  {
   "cell_type": "code",
   "execution_count": 29,
   "metadata": {},
   "outputs": [],
   "source": [
    "from pyspark.sql.functions import col\n",
    "from pyspark.ml.feature import VectorAssembler\n",
    "from pyspark.ml.regression import LinearRegression\n",
    "\n",
    "import pyspark.sql.functions as func"
   ]
  },
  {
   "cell_type": "code",
   "execution_count": 125,
   "metadata": {},
   "outputs": [
    {
     "name": "stdout",
     "output_type": "stream",
     "text": [
      "RMSE error value:  1.2605050107201896\n"
     ]
    }
   ],
   "source": [
    "feature_cols = ['acousticness', 'danceability', 'duration_ms', 'energy', \n",
    "                'explicit', 'instrumentalness', 'key', 'liveness', 'loudness', \n",
    "                'mode', 'speechiness', 'tempo', 'valence', 'year']\n",
    "\n",
    "assembler = VectorAssembler(inputCols=feature_cols, outputCol=\"features\", handleInvalid=\"skip\")\n",
    "\n",
    "# Scaling feature columns using Standard Scaler\n",
    "\n",
    "scaler = StandardScaler(inputCol=\"features\", outputCol=\"features_scaled\") \n",
    "\n",
    "# Reducing number of features to 5 using PCA\n",
    "\n",
    "pca = PCA(inputCol=\"features_scaled\", outputCol=\"features_pca\", k=5)\n",
    "\n",
    "# Initializing a Linear Regression Model\n",
    "\n",
    "regression = LinearRegression(featuresCol=\"features_pca\", labelCol=\"popularity\")\n",
    "\n",
    "# Creating Pipeline model to run all the stages together\n",
    "\n",
    "pipeline = Pipeline(stages = [assembler, scaler, pca, regression])\n",
    "\n",
    "# Lets train the model with 80% od the data\n",
    "\n",
    "train, test = df.randomSplit([0.8, 0.2])\n",
    "\n",
    "model = pipeline.fit(train)\n",
    "\n",
    "# Lets get predictions from the model created\n",
    "\n",
    "predictions = model.transform(test)\n",
    "\n",
    "# Let us check the accuracy of the model\n",
    "\n",
    "evaluator = RegressionEvaluator() \\\n",
    "                 .setPredictionCol(\"prediction\") \\\n",
    "                 .setLabelCol(\"popularity\") \\\n",
    "                 .setMetricName(\"rmse\")\n",
    "\n",
    "print(\"RMSE error value: \", evaluator.evaluate(predictions))"
   ]
  },
  {
   "cell_type": "code",
   "execution_count": null,
   "metadata": {},
   "outputs": [],
   "source": []
  }
 ],
 "metadata": {
  "kernelspec": {
   "display_name": "Python 3",
   "language": "python",
   "name": "python3"
  },
  "language_info": {
   "codemirror_mode": {
    "name": "ipython",
    "version": 3
   },
   "file_extension": ".py",
   "mimetype": "text/x-python",
   "name": "python",
   "nbconvert_exporter": "python",
   "pygments_lexer": "ipython3",
   "version": "3.7.3"
  }
 },
 "nbformat": 4,
 "nbformat_minor": 4
}
