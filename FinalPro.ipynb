{
 "cells": [
  {
   "cell_type": "markdown",
   "metadata": {},
   "source": [
    "## Data cleaning "
   ]
  },
  {
   "cell_type": "markdown",
   "metadata": {},
   "source": [
    "**Import Modules**"
   ]
  },
  {
   "cell_type": "code",
   "execution_count": 214,
   "metadata": {},
   "outputs": [],
   "source": [
    "from pyspark.sql.session import SparkSession\n",
    "from pyspark.sql import functions as F\n",
    "\n",
    "from pyspark.ml import Pipeline\n",
    "from pyspark.ml.regression import LinearRegression\n",
    "from pyspark.ml.linalg import DenseVector\n",
    "from pyspark.ml.linalg import Vectors\n",
    "from pyspark.ml.feature import VectorAssembler, StandardScaler, PCA, OneHotEncoder, StringIndexer\n",
    "from pyspark.ml.evaluation import RegressionEvaluator\n",
    "from pyspark.ml.tuning import ParamGridBuilder, CrossValidator\n",
    "\n",
    "from pyspark.sql.types import IntegerType\n",
    "from pyspark.sql.types import FloatType\n",
    "from pyspark.sql.functions import isnan, when, count, col"
   ]
  },
  {
   "cell_type": "code",
   "execution_count": 215,
   "metadata": {},
   "outputs": [],
   "source": [
    "# Data Manipulation\n",
    "import numpy as np \n",
    "import pandas as pd"
   ]
  },
  {
   "cell_type": "code",
   "execution_count": 216,
   "metadata": {},
   "outputs": [],
   "source": [
    "import os\n",
    "spark = SparkSession.builder.getOrCreate()\n",
    "sc = spark.sparkContext"
   ]
  },
  {
   "cell_type": "markdown",
   "metadata": {},
   "source": [
    "**Read csv file**"
   ]
  },
  {
   "cell_type": "code",
   "execution_count": 217,
   "metadata": {},
   "outputs": [],
   "source": [
    "filename = 'data.csv'\n",
    "df = spark.read.csv(filename, inferSchema=True, header = True).limit(500)"
   ]
  },
  {
   "cell_type": "code",
   "execution_count": 79,
   "metadata": {},
   "outputs": [
    {
     "data": {
      "text/plain": [
       "pyspark.sql.dataframe.DataFrame"
      ]
     },
     "execution_count": 79,
     "metadata": {},
     "output_type": "execute_result"
    }
   ],
   "source": [
    "type(df)"
   ]
  },
  {
   "cell_type": "code",
   "execution_count": 80,
   "metadata": {},
   "outputs": [
    {
     "data": {
      "text/html": [
       "<div>\n",
       "<style scoped>\n",
       "    .dataframe tbody tr th:only-of-type {\n",
       "        vertical-align: middle;\n",
       "    }\n",
       "\n",
       "    .dataframe tbody tr th {\n",
       "        vertical-align: top;\n",
       "    }\n",
       "\n",
       "    .dataframe thead th {\n",
       "        text-align: right;\n",
       "    }\n",
       "</style>\n",
       "<table border=\"1\" class=\"dataframe\">\n",
       "  <thead>\n",
       "    <tr style=\"text-align: right;\">\n",
       "      <th></th>\n",
       "      <th>acousticness</th>\n",
       "      <th>artists</th>\n",
       "      <th>danceability</th>\n",
       "      <th>duration_ms</th>\n",
       "      <th>energy</th>\n",
       "      <th>explicit</th>\n",
       "      <th>id</th>\n",
       "      <th>instrumentalness</th>\n",
       "      <th>key</th>\n",
       "      <th>liveness</th>\n",
       "      <th>loudness</th>\n",
       "      <th>mode</th>\n",
       "      <th>name</th>\n",
       "      <th>popularity</th>\n",
       "      <th>release_date</th>\n",
       "      <th>speechiness</th>\n",
       "      <th>tempo</th>\n",
       "      <th>valence</th>\n",
       "      <th>year</th>\n",
       "    </tr>\n",
       "  </thead>\n",
       "  <tbody>\n",
       "    <tr>\n",
       "      <th>0</th>\n",
       "      <td>0.991000</td>\n",
       "      <td>['Mamie Smith']</td>\n",
       "      <td>0.598</td>\n",
       "      <td>168333</td>\n",
       "      <td>0.22399999999999998</td>\n",
       "      <td>0</td>\n",
       "      <td>0cS0A1fUEUd1EW3FcF8AEI</td>\n",
       "      <td>0.000522</td>\n",
       "      <td>5</td>\n",
       "      <td>0.379</td>\n",
       "      <td>-12.628</td>\n",
       "      <td>0</td>\n",
       "      <td>Keep A Song In Your Soul</td>\n",
       "      <td>12</td>\n",
       "      <td>1920</td>\n",
       "      <td>0.0936</td>\n",
       "      <td>149.976</td>\n",
       "      <td>0.634</td>\n",
       "      <td>1920</td>\n",
       "    </tr>\n",
       "    <tr>\n",
       "      <th>1</th>\n",
       "      <td>0.643000</td>\n",
       "      <td>\"[\"\"Screamin' Jay Hawkins\"\"]\"</td>\n",
       "      <td>0.852</td>\n",
       "      <td>150200</td>\n",
       "      <td>0.517</td>\n",
       "      <td>0</td>\n",
       "      <td>0hbkKFIJm7Z05H8Zl9w30f</td>\n",
       "      <td>0.0264</td>\n",
       "      <td>5</td>\n",
       "      <td>0.0809</td>\n",
       "      <td>-7.261</td>\n",
       "      <td>0</td>\n",
       "      <td>I Put A Spell On You</td>\n",
       "      <td>7</td>\n",
       "      <td>1920-01-05</td>\n",
       "      <td>0.0534</td>\n",
       "      <td>86.889</td>\n",
       "      <td>0.95</td>\n",
       "      <td>1920</td>\n",
       "    </tr>\n",
       "    <tr>\n",
       "      <th>2</th>\n",
       "      <td>0.993000</td>\n",
       "      <td>['Mamie Smith']</td>\n",
       "      <td>0.647</td>\n",
       "      <td>163827</td>\n",
       "      <td>0.18600000000000005</td>\n",
       "      <td>0</td>\n",
       "      <td>11m7laMUgmOKqI3oYzuhne</td>\n",
       "      <td>1.76e-05</td>\n",
       "      <td>0</td>\n",
       "      <td>0.519</td>\n",
       "      <td>-12.097999999999999</td>\n",
       "      <td>1</td>\n",
       "      <td>Golfing Papa</td>\n",
       "      <td>4</td>\n",
       "      <td>1920</td>\n",
       "      <td>0.174</td>\n",
       "      <td>97.6</td>\n",
       "      <td>0.6890000000000001</td>\n",
       "      <td>1920</td>\n",
       "    </tr>\n",
       "    <tr>\n",
       "      <th>3</th>\n",
       "      <td>0.000173</td>\n",
       "      <td>['Oscar Velazquez']</td>\n",
       "      <td>0.73</td>\n",
       "      <td>422087</td>\n",
       "      <td>0.7979999999999999</td>\n",
       "      <td>0</td>\n",
       "      <td>19Lc5SfJJ5O1oaxY0fpwfh</td>\n",
       "      <td>0.8009999999999999</td>\n",
       "      <td>2</td>\n",
       "      <td>0.128</td>\n",
       "      <td>-7.311</td>\n",
       "      <td>1</td>\n",
       "      <td>True House Music - Xavier Santos &amp; Carlos Gomi...</td>\n",
       "      <td>17</td>\n",
       "      <td>1920-01-01</td>\n",
       "      <td>0.0425</td>\n",
       "      <td>127.99700000000001</td>\n",
       "      <td>0.0422</td>\n",
       "      <td>1920</td>\n",
       "    </tr>\n",
       "    <tr>\n",
       "      <th>4</th>\n",
       "      <td>0.295000</td>\n",
       "      <td>['Mixe']</td>\n",
       "      <td>0.7040000000000001</td>\n",
       "      <td>165224</td>\n",
       "      <td>0.7070000000000001</td>\n",
       "      <td>1</td>\n",
       "      <td>2hJjbsLCytGsnAHfdsLejp</td>\n",
       "      <td>0.000246</td>\n",
       "      <td>10</td>\n",
       "      <td>0.402</td>\n",
       "      <td>-6.0360000000000005</td>\n",
       "      <td>0</td>\n",
       "      <td>Xuniverxe</td>\n",
       "      <td>2</td>\n",
       "      <td>1920-10-01</td>\n",
       "      <td>0.0768</td>\n",
       "      <td>122.07600000000001</td>\n",
       "      <td>0.299</td>\n",
       "      <td>1920</td>\n",
       "    </tr>\n",
       "    <tr>\n",
       "      <th>...</th>\n",
       "      <td>...</td>\n",
       "      <td>...</td>\n",
       "      <td>...</td>\n",
       "      <td>...</td>\n",
       "      <td>...</td>\n",
       "      <td>...</td>\n",
       "      <td>...</td>\n",
       "      <td>...</td>\n",
       "      <td>...</td>\n",
       "      <td>...</td>\n",
       "      <td>...</td>\n",
       "      <td>...</td>\n",
       "      <td>...</td>\n",
       "      <td>...</td>\n",
       "      <td>...</td>\n",
       "      <td>...</td>\n",
       "      <td>...</td>\n",
       "      <td>...</td>\n",
       "      <td>...</td>\n",
       "    </tr>\n",
       "    <tr>\n",
       "      <th>495</th>\n",
       "      <td>0.996000</td>\n",
       "      <td>\"[\"\"King Oliver's Creole Jazz Band\"\"]\"</td>\n",
       "      <td>0.546</td>\n",
       "      <td>170827</td>\n",
       "      <td>0.18899999999999997</td>\n",
       "      <td>0</td>\n",
       "      <td>3rauXVLOOM5BlxWqUcDpkg</td>\n",
       "      <td>0.9079999999999999</td>\n",
       "      <td>0</td>\n",
       "      <td>0.33899999999999997</td>\n",
       "      <td>-15.984000000000002</td>\n",
       "      <td>1</td>\n",
       "      <td>Chimes Blues</td>\n",
       "      <td>13</td>\n",
       "      <td>1923</td>\n",
       "      <td>0.0581</td>\n",
       "      <td>80.318</td>\n",
       "      <td>0.5539999999999999</td>\n",
       "      <td>1923</td>\n",
       "    </tr>\n",
       "    <tr>\n",
       "      <th>496</th>\n",
       "      <td>0.960000</td>\n",
       "      <td>['Louis Armstrong']</td>\n",
       "      <td>0.5710000000000001</td>\n",
       "      <td>182707</td>\n",
       "      <td>0.26899999999999996</td>\n",
       "      <td>0</td>\n",
       "      <td>5WlMyDvyQedom0kQ3MCTow</td>\n",
       "      <td>0.0129</td>\n",
       "      <td>4</td>\n",
       "      <td>0.121</td>\n",
       "      <td>-11.728</td>\n",
       "      <td>0</td>\n",
       "      <td>Lazy River</td>\n",
       "      <td>13</td>\n",
       "      <td>1923</td>\n",
       "      <td>0.067</td>\n",
       "      <td>101.845</td>\n",
       "      <td>0.49</td>\n",
       "      <td>1923</td>\n",
       "    </tr>\n",
       "    <tr>\n",
       "      <th>497</th>\n",
       "      <td>0.989000</td>\n",
       "      <td>['Louis Armstrong &amp; His Hot Five']</td>\n",
       "      <td>0.586</td>\n",
       "      <td>168533</td>\n",
       "      <td>0.113</td>\n",
       "      <td>0</td>\n",
       "      <td>08XPnovoMlLsFB3LDGq0rX</td>\n",
       "      <td>0.276</td>\n",
       "      <td>10</td>\n",
       "      <td>0.18100000000000002</td>\n",
       "      <td>-12.210999999999999</td>\n",
       "      <td>1</td>\n",
       "      <td>Muggles</td>\n",
       "      <td>12</td>\n",
       "      <td>1923</td>\n",
       "      <td>0.0607</td>\n",
       "      <td>85.235</td>\n",
       "      <td>0.484</td>\n",
       "      <td>1923</td>\n",
       "    </tr>\n",
       "    <tr>\n",
       "      <th>498</th>\n",
       "      <td>0.985000</td>\n",
       "      <td>['Louis Armstrong']</td>\n",
       "      <td>0.544</td>\n",
       "      <td>195000</td>\n",
       "      <td>0.18100000000000002</td>\n",
       "      <td>0</td>\n",
       "      <td>3U6L5KW48YOsksN9Qvlydl</td>\n",
       "      <td>0.0256</td>\n",
       "      <td>5</td>\n",
       "      <td>0.401</td>\n",
       "      <td>-11.729000000000001</td>\n",
       "      <td>1</td>\n",
       "      <td>I've Got The World On A String</td>\n",
       "      <td>11</td>\n",
       "      <td>1923</td>\n",
       "      <td>0.0387</td>\n",
       "      <td>129.803</td>\n",
       "      <td>0.41100000000000003</td>\n",
       "      <td>1923</td>\n",
       "    </tr>\n",
       "    <tr>\n",
       "      <th>499</th>\n",
       "      <td>0.994000</td>\n",
       "      <td>\"[\"\"King Oliver's Creole Jazz Band\"\"]\"</td>\n",
       "      <td>0.359</td>\n",
       "      <td>187227</td>\n",
       "      <td>0.35700000000000004</td>\n",
       "      <td>0</td>\n",
       "      <td>5SvyP1ZeJX1jA7AOZD08NA</td>\n",
       "      <td>0.8190000000000001</td>\n",
       "      <td>3</td>\n",
       "      <td>0.29</td>\n",
       "      <td>-11.81</td>\n",
       "      <td>1</td>\n",
       "      <td>Tears</td>\n",
       "      <td>10</td>\n",
       "      <td>1923</td>\n",
       "      <td>0.0511</td>\n",
       "      <td>205.053</td>\n",
       "      <td>0.753</td>\n",
       "      <td>1923</td>\n",
       "    </tr>\n",
       "  </tbody>\n",
       "</table>\n",
       "<p>500 rows × 19 columns</p>\n",
       "</div>"
      ],
      "text/plain": [
       "     acousticness                                 artists        danceability  \\\n",
       "0        0.991000                         ['Mamie Smith']               0.598   \n",
       "1        0.643000           \"[\"\"Screamin' Jay Hawkins\"\"]\"               0.852   \n",
       "2        0.993000                         ['Mamie Smith']               0.647   \n",
       "3        0.000173                     ['Oscar Velazquez']                0.73   \n",
       "4        0.295000                                ['Mixe']  0.7040000000000001   \n",
       "..            ...                                     ...                 ...   \n",
       "495      0.996000  \"[\"\"King Oliver's Creole Jazz Band\"\"]\"               0.546   \n",
       "496      0.960000                     ['Louis Armstrong']  0.5710000000000001   \n",
       "497      0.989000      ['Louis Armstrong & His Hot Five']               0.586   \n",
       "498      0.985000                     ['Louis Armstrong']               0.544   \n",
       "499      0.994000  \"[\"\"King Oliver's Creole Jazz Band\"\"]\"               0.359   \n",
       "\n",
       "    duration_ms               energy explicit                      id  \\\n",
       "0        168333  0.22399999999999998        0  0cS0A1fUEUd1EW3FcF8AEI   \n",
       "1        150200                0.517        0  0hbkKFIJm7Z05H8Zl9w30f   \n",
       "2        163827  0.18600000000000005        0  11m7laMUgmOKqI3oYzuhne   \n",
       "3        422087   0.7979999999999999        0  19Lc5SfJJ5O1oaxY0fpwfh   \n",
       "4        165224   0.7070000000000001        1  2hJjbsLCytGsnAHfdsLejp   \n",
       "..          ...                  ...      ...                     ...   \n",
       "495      170827  0.18899999999999997        0  3rauXVLOOM5BlxWqUcDpkg   \n",
       "496      182707  0.26899999999999996        0  5WlMyDvyQedom0kQ3MCTow   \n",
       "497      168533                0.113        0  08XPnovoMlLsFB3LDGq0rX   \n",
       "498      195000  0.18100000000000002        0  3U6L5KW48YOsksN9Qvlydl   \n",
       "499      187227  0.35700000000000004        0  5SvyP1ZeJX1jA7AOZD08NA   \n",
       "\n",
       "       instrumentalness key             liveness             loudness mode  \\\n",
       "0              0.000522   5                0.379              -12.628    0   \n",
       "1                0.0264   5               0.0809               -7.261    0   \n",
       "2              1.76e-05   0                0.519  -12.097999999999999    1   \n",
       "3    0.8009999999999999   2                0.128               -7.311    1   \n",
       "4              0.000246  10                0.402  -6.0360000000000005    0   \n",
       "..                  ...  ..                  ...                  ...  ...   \n",
       "495  0.9079999999999999   0  0.33899999999999997  -15.984000000000002    1   \n",
       "496              0.0129   4                0.121              -11.728    0   \n",
       "497               0.276  10  0.18100000000000002  -12.210999999999999    1   \n",
       "498              0.0256   5                0.401  -11.729000000000001    1   \n",
       "499  0.8190000000000001   3                 0.29               -11.81    1   \n",
       "\n",
       "                                                  name popularity  \\\n",
       "0                             Keep A Song In Your Soul         12   \n",
       "1                                 I Put A Spell On You          7   \n",
       "2                                         Golfing Papa          4   \n",
       "3    True House Music - Xavier Santos & Carlos Gomi...         17   \n",
       "4                                            Xuniverxe          2   \n",
       "..                                                 ...        ...   \n",
       "495                                       Chimes Blues         13   \n",
       "496                                         Lazy River         13   \n",
       "497                                            Muggles         12   \n",
       "498                     I've Got The World On A String         11   \n",
       "499                                              Tears         10   \n",
       "\n",
       "    release_date speechiness               tempo              valence  year  \n",
       "0           1920      0.0936             149.976                0.634  1920  \n",
       "1     1920-01-05      0.0534              86.889                 0.95  1920  \n",
       "2           1920       0.174                97.6   0.6890000000000001  1920  \n",
       "3     1920-01-01      0.0425  127.99700000000001               0.0422  1920  \n",
       "4     1920-10-01      0.0768  122.07600000000001                0.299  1920  \n",
       "..           ...         ...                 ...                  ...   ...  \n",
       "495         1923      0.0581              80.318   0.5539999999999999  1923  \n",
       "496         1923       0.067             101.845                 0.49  1923  \n",
       "497         1923      0.0607              85.235                0.484  1923  \n",
       "498         1923      0.0387             129.803  0.41100000000000003  1923  \n",
       "499         1923      0.0511             205.053                0.753  1923  \n",
       "\n",
       "[500 rows x 19 columns]"
      ]
     },
     "execution_count": 80,
     "metadata": {},
     "output_type": "execute_result"
    }
   ],
   "source": [
    "df.toPandas()"
   ]
  },
  {
   "cell_type": "code",
   "execution_count": 81,
   "metadata": {},
   "outputs": [
    {
     "data": {
      "text/html": [
       "<div>\n",
       "<style scoped>\n",
       "    .dataframe tbody tr th:only-of-type {\n",
       "        vertical-align: middle;\n",
       "    }\n",
       "\n",
       "    .dataframe tbody tr th {\n",
       "        vertical-align: top;\n",
       "    }\n",
       "\n",
       "    .dataframe thead th {\n",
       "        text-align: right;\n",
       "    }\n",
       "</style>\n",
       "<table border=\"1\" class=\"dataframe\">\n",
       "  <thead>\n",
       "    <tr style=\"text-align: right;\">\n",
       "      <th></th>\n",
       "      <th>summary</th>\n",
       "      <th>acousticness</th>\n",
       "      <th>artists</th>\n",
       "      <th>danceability</th>\n",
       "      <th>duration_ms</th>\n",
       "      <th>energy</th>\n",
       "      <th>explicit</th>\n",
       "      <th>id</th>\n",
       "      <th>instrumentalness</th>\n",
       "      <th>key</th>\n",
       "      <th>liveness</th>\n",
       "      <th>loudness</th>\n",
       "      <th>mode</th>\n",
       "      <th>name</th>\n",
       "      <th>popularity</th>\n",
       "      <th>release_date</th>\n",
       "      <th>speechiness</th>\n",
       "      <th>tempo</th>\n",
       "      <th>valence</th>\n",
       "      <th>year</th>\n",
       "    </tr>\n",
       "  </thead>\n",
       "  <tbody>\n",
       "    <tr>\n",
       "      <th>0</th>\n",
       "      <td>count</td>\n",
       "      <td>500</td>\n",
       "      <td>500</td>\n",
       "      <td>500</td>\n",
       "      <td>500</td>\n",
       "      <td>500</td>\n",
       "      <td>500</td>\n",
       "      <td>500</td>\n",
       "      <td>500</td>\n",
       "      <td>500</td>\n",
       "      <td>500</td>\n",
       "      <td>500</td>\n",
       "      <td>500</td>\n",
       "      <td>500</td>\n",
       "      <td>500</td>\n",
       "      <td>500</td>\n",
       "      <td>500</td>\n",
       "      <td>500</td>\n",
       "      <td>500</td>\n",
       "      <td>500</td>\n",
       "    </tr>\n",
       "    <tr>\n",
       "      <th>1</th>\n",
       "      <td>mean</td>\n",
       "      <td>0.7707071247999999</td>\n",
       "      <td>None</td>\n",
       "      <td>0.5233922000000003</td>\n",
       "      <td>210010.694</td>\n",
       "      <td>0.31063791999999996</td>\n",
       "      <td>0.086</td>\n",
       "      <td>None</td>\n",
       "      <td>0.29107759220000007</td>\n",
       "      <td>5.004</td>\n",
       "      <td>0.22283239999999996</td>\n",
       "      <td>-15.740400000000003</td>\n",
       "      <td>0.664</td>\n",
       "      <td>1920.0</td>\n",
       "      <td>1.358</td>\n",
       "      <td>1921.0128205128206</td>\n",
       "      <td>0.17639960000000007</td>\n",
       "      <td>105.36336399999995</td>\n",
       "      <td>0.49105679999999974</td>\n",
       "      <td>1920.934</td>\n",
       "    </tr>\n",
       "    <tr>\n",
       "      <th>2</th>\n",
       "      <td>stddev</td>\n",
       "      <td>0.33307158863478276</td>\n",
       "      <td>None</td>\n",
       "      <td>0.1761360270905372</td>\n",
       "      <td>114170.93882383639</td>\n",
       "      <td>0.2020866202405148</td>\n",
       "      <td>0.28064483434777887</td>\n",
       "      <td>None</td>\n",
       "      <td>0.38510302253029416</td>\n",
       "      <td>3.4687242750314407</td>\n",
       "      <td>0.15440224005404649</td>\n",
       "      <td>6.317065108352638</td>\n",
       "      <td>0.4728119099646378</td>\n",
       "      <td>NaN</td>\n",
       "      <td>5.016389571061773</td>\n",
       "      <td>0.8957734291186612</td>\n",
       "      <td>0.27614925874615714</td>\n",
       "      <td>30.15162617853181</td>\n",
       "      <td>0.24448554332628977</td>\n",
       "      <td>0.9073536141784609</td>\n",
       "    </tr>\n",
       "    <tr>\n",
       "      <th>3</th>\n",
       "      <td>min</td>\n",
       "      <td>1.1599999999999999E-5</td>\n",
       "      <td>\"[\"\"King Oliver's Creole Jazz Band\"\"]\"</td>\n",
       "      <td>0.0663</td>\n",
       "      <td>100600</td>\n",
       "      <td>0.00399</td>\n",
       "      <td>0</td>\n",
       "      <td>021ht4sdgPcrDgSk7JTbKY</td>\n",
       "      <td>0.0</td>\n",
       "      <td>0</td>\n",
       "      <td>0.0402</td>\n",
       "      <td>-0.8</td>\n",
       "      <td>0</td>\n",
       "      <td>\"\"\"U\"\" Need Some Lovin' Blues\"</td>\n",
       "      <td>0</td>\n",
       "      <td>1920</td>\n",
       "      <td>0.0253</td>\n",
       "      <td>100.01100000000001</td>\n",
       "      <td>0.0224</td>\n",
       "      <td>1920</td>\n",
       "    </tr>\n",
       "    <tr>\n",
       "      <th>4</th>\n",
       "      <td>max</td>\n",
       "      <td>0.996</td>\n",
       "      <td>['محمد الإدريسي']</td>\n",
       "      <td>0.9359999999999999</td>\n",
       "      <td>99900</td>\n",
       "      <td>0.998</td>\n",
       "      <td>1</td>\n",
       "      <td>7zph0VMbYl7KoqReyowKiv</td>\n",
       "      <td>7.53e-06</td>\n",
       "      <td>9</td>\n",
       "      <td>0.966</td>\n",
       "      <td>-9.935</td>\n",
       "      <td>1</td>\n",
       "      <td>لما بدا يتثنى</td>\n",
       "      <td>9</td>\n",
       "      <td>1923</td>\n",
       "      <td>0.9670000000000001</td>\n",
       "      <td>99.98899999999999</td>\n",
       "      <td>0.9690000000000001</td>\n",
       "      <td>1923</td>\n",
       "    </tr>\n",
       "  </tbody>\n",
       "</table>\n",
       "</div>"
      ],
      "text/plain": [
       "  summary           acousticness                                 artists  \\\n",
       "0   count                    500                                     500   \n",
       "1    mean     0.7707071247999999                                    None   \n",
       "2  stddev    0.33307158863478276                                    None   \n",
       "3     min  1.1599999999999999E-5  \"[\"\"King Oliver's Creole Jazz Band\"\"]\"   \n",
       "4     max                  0.996                       ['محمد الإدريسي']   \n",
       "\n",
       "         danceability         duration_ms               energy  \\\n",
       "0                 500                 500                  500   \n",
       "1  0.5233922000000003          210010.694  0.31063791999999996   \n",
       "2  0.1761360270905372  114170.93882383639   0.2020866202405148   \n",
       "3              0.0663              100600              0.00399   \n",
       "4  0.9359999999999999               99900                0.998   \n",
       "\n",
       "              explicit                      id     instrumentalness  \\\n",
       "0                  500                     500                  500   \n",
       "1                0.086                    None  0.29107759220000007   \n",
       "2  0.28064483434777887                    None  0.38510302253029416   \n",
       "3                    0  021ht4sdgPcrDgSk7JTbKY                  0.0   \n",
       "4                    1  7zph0VMbYl7KoqReyowKiv             7.53e-06   \n",
       "\n",
       "                  key             liveness             loudness  \\\n",
       "0                 500                  500                  500   \n",
       "1               5.004  0.22283239999999996  -15.740400000000003   \n",
       "2  3.4687242750314407  0.15440224005404649    6.317065108352638   \n",
       "3                   0               0.0402                 -0.8   \n",
       "4                   9                0.966               -9.935   \n",
       "\n",
       "                 mode                            name         popularity  \\\n",
       "0                 500                             500                500   \n",
       "1               0.664                          1920.0              1.358   \n",
       "2  0.4728119099646378                             NaN  5.016389571061773   \n",
       "3                   0  \"\"\"U\"\" Need Some Lovin' Blues\"                  0   \n",
       "4                   1                   لما بدا يتثنى                  9   \n",
       "\n",
       "         release_date          speechiness               tempo  \\\n",
       "0                 500                  500                 500   \n",
       "1  1921.0128205128206  0.17639960000000007  105.36336399999995   \n",
       "2  0.8957734291186612  0.27614925874615714   30.15162617853181   \n",
       "3                1920               0.0253  100.01100000000001   \n",
       "4                1923   0.9670000000000001   99.98899999999999   \n",
       "\n",
       "               valence                year  \n",
       "0                  500                 500  \n",
       "1  0.49105679999999974            1920.934  \n",
       "2  0.24448554332628977  0.9073536141784609  \n",
       "3               0.0224                1920  \n",
       "4   0.9690000000000001                1923  "
      ]
     },
     "execution_count": 81,
     "metadata": {},
     "output_type": "execute_result"
    }
   ],
   "source": [
    "df.describe().toPandas()"
   ]
  },
  {
   "cell_type": "markdown",
   "metadata": {},
   "source": [
    "**Drop Variables**"
   ]
  },
  {
   "cell_type": "code",
   "execution_count": 82,
   "metadata": {},
   "outputs": [],
   "source": [
    "# Variables id, name, release_date are not related to our question.\n",
    "# Thus, droping all three.\n",
    "df = df.drop(\"id\", \"name\", \"release_date\",\"key\",\"explicit\",\"mode\")"
   ]
  },
  {
   "cell_type": "markdown",
   "metadata": {},
   "source": [
    "**Convert Data Type**"
   ]
  },
  {
   "cell_type": "code",
   "execution_count": 83,
   "metadata": {},
   "outputs": [],
   "source": [
    "floats = [\"acousticness\", \"danceability\", \"energy\", \"instrumentalness\", \"liveness\", \"loudness\",\n",
    "         \"speechiness\", \"tempo\", \"valence\"]\n",
    "for i in floats:\n",
    "        df = df.withColumn(i, df[i].cast(FloatType()))\n",
    "\n",
    "ints = [\"duration_ms\", \"popularity\", \"year\"]\n",
    "for i in ints:\n",
    "    df = df.withColumn(i, df[i].cast(IntegerType()))"
   ]
  },
  {
   "cell_type": "code",
   "execution_count": 84,
   "metadata": {},
   "outputs": [
    {
     "name": "stdout",
     "output_type": "stream",
     "text": [
      "+------------+--------------------+------------+-----------+------+----------------+--------+--------+----------+-----------+-------+-------+----+\n",
      "|acousticness|             artists|danceability|duration_ms|energy|instrumentalness|liveness|loudness|popularity|speechiness|  tempo|valence|year|\n",
      "+------------+--------------------+------------+-----------+------+----------------+--------+--------+----------+-----------+-------+-------+----+\n",
      "|       0.991|     ['Mamie Smith']|       0.598|     168333| 0.224|         5.22E-4|   0.379| -12.628|        12|     0.0936|149.976|  0.634|1920|\n",
      "|       0.643|\"[\"\"Screamin' Jay...|       0.852|     150200| 0.517|          0.0264|  0.0809|  -7.261|         7|     0.0534| 86.889|   0.95|1920|\n",
      "|       0.993|     ['Mamie Smith']|       0.647|     163827| 0.186|         1.76E-5|   0.519| -12.098|         4|      0.174|   97.6|  0.689|1920|\n",
      "|     1.73E-4| ['Oscar Velazquez']|        0.73|     422087| 0.798|           0.801|   0.128|  -7.311|        17|     0.0425|127.997| 0.0422|1920|\n",
      "|       0.295|            ['Mixe']|       0.704|     165224| 0.707|         2.46E-4|   0.402|  -6.036|         2|     0.0768|122.076|  0.299|1920|\n",
      "+------------+--------------------+------------+-----------+------+----------------+--------+--------+----------+-----------+-------+-------+----+\n",
      "only showing top 5 rows\n",
      "\n"
     ]
    }
   ],
   "source": [
    "# With Correct Variable Type\n",
    "df.createOrReplaceTempView(\"df\")\n",
    "spark.sql(\"select * from df\").show(5)"
   ]
  },
  {
   "cell_type": "code",
   "execution_count": 85,
   "metadata": {},
   "outputs": [
    {
     "name": "stdout",
     "output_type": "stream",
     "text": [
      "root\n",
      " |-- acousticness: float (nullable = true)\n",
      " |-- artists: string (nullable = true)\n",
      " |-- danceability: float (nullable = true)\n",
      " |-- duration_ms: integer (nullable = true)\n",
      " |-- energy: float (nullable = true)\n",
      " |-- instrumentalness: float (nullable = true)\n",
      " |-- liveness: float (nullable = true)\n",
      " |-- loudness: float (nullable = true)\n",
      " |-- popularity: integer (nullable = true)\n",
      " |-- speechiness: float (nullable = true)\n",
      " |-- tempo: float (nullable = true)\n",
      " |-- valence: float (nullable = true)\n",
      " |-- year: integer (nullable = true)\n",
      "\n"
     ]
    }
   ],
   "source": [
    "df.printSchema()"
   ]
  },
  {
   "cell_type": "markdown",
   "metadata": {},
   "source": [
    "**Duplicates & Nulls**"
   ]
  },
  {
   "cell_type": "code",
   "execution_count": 86,
   "metadata": {},
   "outputs": [
    {
     "name": "stdout",
     "output_type": "stream",
     "text": [
      "Rows = 500\n",
      "Distinct Rows = 490\n"
     ]
    }
   ],
   "source": [
    "# Count rows and unique rows\n",
    "print('Rows = {}'.format(df.count()))\n",
    "print('Distinct Rows = {}'.format(df.distinct().count()))"
   ]
  },
  {
   "cell_type": "code",
   "execution_count": 87,
   "metadata": {},
   "outputs": [
    {
     "name": "stdout",
     "output_type": "stream",
     "text": [
      "The number of rows with duplicate data removed = 490\n"
     ]
    }
   ],
   "source": [
    "# Check\n",
    "# Drop all duplicates \n",
    "df = df.dropDuplicates()\n",
    "print('The number of rows with duplicate data removed = {}'.format(df.count()))"
   ]
  },
  {
   "cell_type": "code",
   "execution_count": 88,
   "metadata": {},
   "outputs": [
    {
     "name": "stdout",
     "output_type": "stream",
     "text": [
      "+------------+-------+------------+-----------+------+----------------+--------+--------+----------+-----------+-----+-------+----+\n",
      "|acousticness|artists|danceability|duration_ms|energy|instrumentalness|liveness|loudness|popularity|speechiness|tempo|valence|year|\n",
      "+------------+-------+------------+-----------+------+----------------+--------+--------+----------+-----------+-----+-------+----+\n",
      "|           0|      0|           0|          0|     0|               0|       0|       0|         0|          0|    0|      0|   0|\n",
      "+------------+-------+------------+-----------+------+----------------+--------+--------+----------+-----------+-----+-------+----+\n",
      "\n"
     ]
    }
   ],
   "source": [
    "# Check for NULL\n",
    "df.select([count(when(isnan(c), c)).alias(c) for c in df.columns]).show()"
   ]
  },
  {
   "cell_type": "markdown",
   "metadata": {},
   "source": [
    "**Numeric Variables & Categorical Variables**"
   ]
  },
  {
   "cell_type": "code",
   "execution_count": 89,
   "metadata": {},
   "outputs": [],
   "source": [
    "num_cols = []\n",
    "cat_cols = []\n",
    "\n",
    "for s in df.schema:\n",
    "    data_type = str(s.dataType)\n",
    "    if data_type == \"StringType\":\n",
    "        cat_cols.append(s.name)\n",
    "    \n",
    "    #if data_type == \"FloatType\" or data_type == \"IntType\" or data_type ==\"String\":\n",
    "    else:\n",
    "        num_cols.append(s.name)"
   ]
  },
  {
   "cell_type": "code",
   "execution_count": 90,
   "metadata": {},
   "outputs": [
    {
     "name": "stdout",
     "output_type": "stream",
     "text": [
      "['acousticness', 'danceability', 'duration_ms', 'energy', 'instrumentalness', 'liveness', 'loudness', 'popularity', 'speechiness', 'tempo', 'valence', 'year']\n",
      "['artists']\n"
     ]
    }
   ],
   "source": [
    "print(num_cols)\n",
    "print(cat_cols)"
   ]
  },
  {
   "cell_type": "code",
   "execution_count": 108,
   "metadata": {},
   "outputs": [
    {
     "name": "stdout",
     "output_type": "stream",
     "text": [
      "Correlation to popularity for  acousticness 0.09202827599446742\n",
      "Correlation to popularity for  danceability 0.12148826891543778\n",
      "Correlation to popularity for  duration_ms 0.001784097771222781\n",
      "Correlation to popularity for  energy -0.13604579444665205\n",
      "Correlation to popularity for  instrumentalness -0.0519780175924492\n",
      "Correlation to popularity for  liveness -0.029208975316850662\n",
      "Correlation to popularity for  loudness 0.12919160748443684\n",
      "Correlation to popularity for  popularity 1.0\n",
      "Correlation to popularity for  speechiness -0.11196693672706326\n",
      "Correlation to popularity for  tempo -0.06345659560810465\n",
      "Correlation to popularity for  valence -0.04062527626266994\n",
      "Correlation to popularity for  year 0.4168984637414494\n"
     ]
    }
   ],
   "source": [
    "# Correlation\n",
    "import six\n",
    "for i in df.columns:\n",
    "    if not(isinstance(df.select(i).take(1)[0][0], six.string_types)):\n",
    "        print( \"Correlation to popularity for \", i, df.stat.corr('popularity',i))"
   ]
  },
  {
   "cell_type": "markdown",
   "metadata": {},
   "source": [
    "## Linear Regression Model"
   ]
  },
  {
   "cell_type": "markdown",
   "metadata": {},
   "source": [
    "**SCALING**"
   ]
  },
  {
   "cell_type": "code",
   "execution_count": 193,
   "metadata": {},
   "outputs": [],
   "source": [
    "import pyspark.sql.functions as func\n",
    "# Scale popularity\n",
    "df1 = df.withColumn('popularity_final',\n",
    "                   func.round(df['popularity']/100, 2)) \\\n",
    "        .withColumn('duration_min',\n",
    "                   func.round(df['duration_ms']/60000, 2))\\\n",
    "        .withColumn('instrumentalness_final',\n",
    "                   func.round(df['instrumentalness'] *1000, 2))"
   ]
  },
  {
   "cell_type": "markdown",
   "metadata": {},
   "source": [
    "**SELECT AND STANDARDIZE FEATURES**"
   ]
  },
  {
   "cell_type": "code",
   "execution_count": 194,
   "metadata": {},
   "outputs": [
    {
     "name": "stdout",
     "output_type": "stream",
     "text": [
      "+----------------+------------+------------+------------+------+----------------------+--------+--------+-----------+-------+-------+----+\n",
      "|popularity_final|acousticness|danceability|duration_min|energy|instrumentalness_final|liveness|loudness|speechiness|  tempo|valence|year|\n",
      "+----------------+------------+------------+------------+------+----------------------+--------+--------+-----------+-------+-------+----+\n",
      "|            0.12|       0.991|       0.598|        2.81| 0.224|                  0.52|   0.379| -12.628|     0.0936|149.976|  0.634|1920|\n",
      "+----------------+------------+------------+------------+------+----------------------+--------+--------+-----------+-------+-------+----+\n",
      "only showing top 1 row\n",
      "\n"
     ]
    }
   ],
   "source": [
    "vars_to_keep = ['popularity_final',\n",
    "                'acousticness',\n",
    "                'danceability',\n",
    "                'duration_min', \n",
    "                'energy',\n",
    "                'instrumentalness_final',\n",
    "                'liveness',\n",
    "                'loudness',\n",
    "                'speechiness',\n",
    "                'tempo',\n",
    "                'valence',\n",
    "                'year']\n",
    "\n",
    "# subset the dataframe on these predictors\n",
    "df1 = df1.select(vars_to_keep)\n",
    "df1.show(1)"
   ]
  },
  {
   "cell_type": "code",
   "execution_count": 195,
   "metadata": {},
   "outputs": [],
   "source": [
    "# Popularity_final V.S. Features\n",
    "features= ['acousticness',\n",
    "           'danceability',\n",
    "           'duration_min',\n",
    "           'energy', \n",
    "           'instrumentalness_final',\n",
    "           'liveness',\n",
    "           'loudness', \n",
    "           'speechiness',\n",
    "           'tempo',\n",
    "           'valence',\n",
    "           'year']\n",
    "\n",
    "assembler = VectorAssembler(\n",
    "    inputCols = features, \n",
    "    outputCol = \"features\") \n",
    "df1 = assembler.transform(df1)"
   ]
  },
  {
   "cell_type": "code",
   "execution_count": 196,
   "metadata": {},
   "outputs": [
    {
     "name": "stdout",
     "output_type": "stream",
     "text": [
      "+-----+--------------------+\n",
      "|label|            features|\n",
      "+-----+--------------------+\n",
      "| 0.12|[0.99099999666213...|\n",
      "| 0.07|[0.64300000667572...|\n",
      "| 0.04|[0.99299997091293...|\n",
      "| 0.17|[1.72999993083067...|\n",
      "| 0.02|[0.29499998688697...|\n",
      "+-----+--------------------+\n",
      "only showing top 5 rows\n",
      "\n"
     ]
    }
   ],
   "source": [
    "df1 = df1.select([\"popularity_final\",'features']) \\\n",
    "       .withColumnRenamed(\"popularity_final\", 'label')\n",
    "df1.show(5)"
   ]
  },
  {
   "cell_type": "code",
   "execution_count": 197,
   "metadata": {},
   "outputs": [],
   "source": [
    "## Feature scaling\n",
    "# Initialize the `standardScaler`\n",
    "standardScaler = StandardScaler(inputCol=\"features\", outputCol=\"features_scaled\", \n",
    "                                withStd=True, withMean=False)\n",
    "\n",
    "# Fit the DataFrame to the scaler; this computes the mean, standard deviation of each feature\n",
    "scaler = standardScaler.fit(df1)\n",
    "\n",
    "# Transform the data in `df2` with the scaler\n",
    "scaled_df = scaler.transform(df1)"
   ]
  },
  {
   "cell_type": "code",
   "execution_count": 198,
   "metadata": {},
   "outputs": [],
   "source": [
    "# Split data into train set (80%), test set (20%) \n",
    "seed = 314\n",
    "train_test = [0.8, 0.2]\n",
    "train_data, test_data = scaled_df.randomSplit(train_test, seed)"
   ]
  },
  {
   "cell_type": "code",
   "execution_count": 199,
   "metadata": {},
   "outputs": [
    {
     "name": "stdout",
     "output_type": "stream",
     "text": [
      "+-----+--------------------+--------------------+\n",
      "|label|            features|     features_scaled|\n",
      "+-----+--------------------+--------------------+\n",
      "|  0.0|[1.75000004674075...|[5.21742603279626...|\n",
      "|  0.0|[5.22000009368639...|[1.55628363729026...|\n",
      "|  0.0|[6.00999992457218...|[1.79181309863197...|\n",
      "+-----+--------------------+--------------------+\n",
      "only showing top 3 rows\n",
      "\n"
     ]
    }
   ],
   "source": [
    "# 可删除\n",
    "train_data.show(3)"
   ]
  },
  {
   "cell_type": "code",
   "execution_count": 200,
   "metadata": {},
   "outputs": [
    {
     "name": "stdout",
     "output_type": "stream",
     "text": [
      "Coefficients: [0.0,0.0,0.0,0.0,0.0,0.0,0.0,0.0,0.0,0.0,0.0]\n",
      "Intercept: 0.005132743362831858\n"
     ]
    }
   ],
   "source": [
    "lr = LinearRegression(featuresCol = 'features', labelCol='label',\n",
    "                      maxIter=10, regParam=0.3, elasticNetParam=0.8)\n",
    "model = lr.fit(train_df1)\n",
    "prediction = model.transform(test_data)\n",
    "\n",
    "print(\"Coefficients: \" + str(model.coefficients))\n",
    "print(\"Intercept: \" + str(model.intercept))"
   ]
  },
  {
   "cell_type": "code",
   "execution_count": 201,
   "metadata": {},
   "outputs": [
    {
     "name": "stdout",
     "output_type": "stream",
     "text": [
      "RMSE: 0.018295\n",
      "r2: 0.000000\n"
     ]
    }
   ],
   "source": [
    "trainingSummary = model.summary\n",
    "print(\"RMSE: %f\" % trainingSummary.rootMeanSquaredError)\n",
    "print(\"r2: %f\" % trainingSummary.r2)"
   ]
  },
  {
   "cell_type": "code",
   "execution_count": 202,
   "metadata": {},
   "outputs": [
    {
     "data": {
      "text/html": [
       "<div>\n",
       "<style scoped>\n",
       "    .dataframe tbody tr th:only-of-type {\n",
       "        vertical-align: middle;\n",
       "    }\n",
       "\n",
       "    .dataframe tbody tr th {\n",
       "        vertical-align: top;\n",
       "    }\n",
       "\n",
       "    .dataframe thead th {\n",
       "        text-align: right;\n",
       "    }\n",
       "</style>\n",
       "<table border=\"1\" class=\"dataframe\">\n",
       "  <thead>\n",
       "    <tr style=\"text-align: right;\">\n",
       "      <th></th>\n",
       "      <th>summary</th>\n",
       "      <th>label</th>\n",
       "    </tr>\n",
       "  </thead>\n",
       "  <tbody>\n",
       "    <tr>\n",
       "      <th>0</th>\n",
       "      <td>count</td>\n",
       "      <td>383</td>\n",
       "    </tr>\n",
       "    <tr>\n",
       "      <th>1</th>\n",
       "      <td>mean</td>\n",
       "      <td>0.012819843342036554</td>\n",
       "    </tr>\n",
       "    <tr>\n",
       "      <th>2</th>\n",
       "      <td>stddev</td>\n",
       "      <td>0.048828006972401194</td>\n",
       "    </tr>\n",
       "    <tr>\n",
       "      <th>3</th>\n",
       "      <td>min</td>\n",
       "      <td>0.0</td>\n",
       "    </tr>\n",
       "    <tr>\n",
       "      <th>4</th>\n",
       "      <td>max</td>\n",
       "      <td>0.41</td>\n",
       "    </tr>\n",
       "  </tbody>\n",
       "</table>\n",
       "</div>"
      ],
      "text/plain": [
       "  summary                 label\n",
       "0   count                   383\n",
       "1    mean  0.012819843342036554\n",
       "2  stddev  0.048828006972401194\n",
       "3     min                   0.0\n",
       "4     max                  0.41"
      ]
     },
     "execution_count": 202,
     "metadata": {},
     "output_type": "execute_result"
    }
   ],
   "source": [
    "train_data.describe().toPandas()"
   ]
  },
  {
   "cell_type": "code",
   "execution_count": 203,
   "metadata": {},
   "outputs": [
    {
     "name": "stdout",
     "output_type": "stream",
     "text": [
      "+--------------------+-----+--------------------+\n",
      "|          prediction|label|            features|\n",
      "+--------------------+-----+--------------------+\n",
      "|0.005132743362831858|  0.0|[1.02999998489394...|\n",
      "|0.005132743362831858|  0.0|[1.80999995791353...|\n",
      "|0.005132743362831858|  0.0|[0.00294000003486...|\n",
      "|0.005132743362831858|  0.0|[0.01559999957680...|\n",
      "|0.005132743362831858|  0.0|[0.02099999971687...|\n",
      "+--------------------+-----+--------------------+\n",
      "only showing top 5 rows\n",
      "\n"
     ]
    }
   ],
   "source": [
    "prediction = model.transform(test_data)\n",
    "prediction.select(\"prediction\",\"label\",\"features\").show(5)"
   ]
  },
  {
   "cell_type": "code",
   "execution_count": 204,
   "metadata": {},
   "outputs": [
    {
     "name": "stdout",
     "output_type": "stream",
     "text": [
      "R Squared (R2) on test data = -0.0485144\n"
     ]
    }
   ],
   "source": [
    "lr_evaluator = RegressionEvaluator(predictionCol=\"prediction\", \\\n",
    "                 labelCol=\"label\",metricName=\"r2\")\n",
    "print(\"R Squared (R2) on test data = %g\" % lr_evaluator.evaluate(prediction))"
   ]
  },
  {
   "cell_type": "code",
   "execution_count": 205,
   "metadata": {},
   "outputs": [
    {
     "name": "stdout",
     "output_type": "stream",
     "text": [
      "numIterations: 1\n",
      "objectiveHistory: [0.5000000000000001]\n",
      "+--------------------+\n",
      "|           residuals|\n",
      "+--------------------+\n",
      "|-0.00513274336283...|\n",
      "|-0.00513274336283...|\n",
      "|-0.00513274336283...|\n",
      "|-0.00513274336283...|\n",
      "|-0.00513274336283...|\n",
      "|-0.00513274336283...|\n",
      "|-0.00513274336283...|\n",
      "|-0.00513274336283...|\n",
      "|-0.00513274336283...|\n",
      "|-0.00513274336283...|\n",
      "|-0.00513274336283...|\n",
      "|-0.00513274336283...|\n",
      "|-0.00513274336283...|\n",
      "|-0.00513274336283...|\n",
      "|-0.00513274336283...|\n",
      "|-0.00513274336283...|\n",
      "|-0.00513274336283...|\n",
      "|-0.00513274336283...|\n",
      "|-0.00513274336283...|\n",
      "|-0.00513274336283...|\n",
      "+--------------------+\n",
      "only showing top 20 rows\n",
      "\n"
     ]
    }
   ],
   "source": [
    "print(\"numIterations: %d\" % trainingSummary.totalIterations)\n",
    "print(\"objectiveHistory: %s\" % str(trainingSummary.objectiveHistory))\n",
    "trainingSummary.residuals.show()"
   ]
  },
  {
   "cell_type": "markdown",
   "metadata": {},
   "source": [
    "## Naive Bayes"
   ]
  },
  {
   "cell_type": "code",
   "execution_count": null,
   "metadata": {},
   "outputs": [],
   "source": []
  },
  {
   "cell_type": "markdown",
   "metadata": {},
   "source": [
    "## Random Forest"
   ]
  },
  {
   "cell_type": "code",
   "execution_count": 232,
   "metadata": {},
   "outputs": [],
   "source": [
    "# IMPORT\n",
    "import numpy\n",
    "from numpy import allclose\n",
    "from pyspark.ml.linalg import Vectors\n",
    "from pyspark.ml.feature import StringIndexer\n",
    "from pyspark.ml.classification import RandomForestClassifier"
   ]
  },
  {
   "cell_type": "code",
   "execution_count": 233,
   "metadata": {},
   "outputs": [],
   "source": [
    "# PREPARE DATA\n",
    "stringIndexer = StringIndexer(inputCol=\"label\", outputCol=\"indexed\")\n",
    "si_model = stringIndexer.fit(df1)\n",
    "td = si_model.transform(df1)"
   ]
  },
  {
   "cell_type": "code",
   "execution_count": 234,
   "metadata": {},
   "outputs": [],
   "source": [
    "# BUILD THE MODEL\n",
    "rf = RandomForestClassifier(numTrees=3, maxDepth=2, labelCol=\"indexed\", seed=314)\n",
    "model = rf.fit(td)"
   ]
  },
  {
   "cell_type": "code",
   "execution_count": 235,
   "metadata": {},
   "outputs": [
    {
     "name": "stdout",
     "output_type": "stream",
     "text": [
      "(11,[3,4,10],[0.41164746853287254,0.09090003628501331,0.49745249518211415])\n"
     ]
    }
   ],
   "source": [
    "# FEATURE IMPORTANCES\n",
    "print(model.featureImportances)"
   ]
  },
  {
   "cell_type": "markdown",
   "metadata": {},
   "source": [
    "///////////////////////////////////////////////////////////////////////////////////////////////////////////////////////////////////////////////////////////////////////"
   ]
  },
  {
   "cell_type": "code",
   "execution_count": 236,
   "metadata": {},
   "outputs": [],
   "source": [
    "from pyspark.ml import Pipeline\n",
    "from pyspark.ml.regression import RandomForestRegressor\n",
    "from pyspark.ml.feature import VectorIndexer\n",
    "from pyspark.ml.evaluation import RegressionEvaluator\n",
    "from pyspark.mllib.util import MLUtils"
   ]
  },
  {
   "cell_type": "code",
   "execution_count": 240,
   "metadata": {},
   "outputs": [
    {
     "name": "stdout",
     "output_type": "stream",
     "text": [
      "+--------------------+-----+--------------------+\n",
      "|          prediction|label|            features|\n",
      "+--------------------+-----+--------------------+\n",
      "|0.003206466323314954|  0.0|[0.00282000005245...|\n",
      "| 0.01280181101164445|  0.0|[0.00389999989420...|\n",
      "|0.005397849125806318|  0.0|[0.00908999983221...|\n",
      "|0.010974922045614389|  0.0|[0.01130000036209...|\n",
      "|0.008311732947836954|  0.0|[0.02099999971687...|\n",
      "+--------------------+-----+--------------------+\n",
      "only showing top 5 rows\n",
      "\n",
      "Root Mean Squared Error (RMSE) on test data = 0.0213167\n",
      "RandomForestRegressionModel: uid=RandomForestRegressor_eedf398cae82, numTrees=20, numFeatures=11\n"
     ]
    }
   ],
   "source": [
    "# Automatically identify categorical features, and index them.\n",
    "# Set maxCategories so features with > 4 distinct values are treated as continuous.\n",
    "featureIndexer = VectorIndexer(inputCol=\"features\", outputCol=\"indexedFeatures\", maxCategories=4).fit(df1)\n",
    "\n",
    "# Split the data into training and test sets (20% held out for testing)\n",
    "(trainingData, testData) = df1.randomSplit([0.8, 0.2])\n",
    "\n",
    "# Train a RandomForest model.\n",
    "rf = RandomForestRegressor(featuresCol=\"indexedFeatures\")\n",
    "\n",
    "# Chain indexer and forest in a Pipeline\n",
    "pipeline = Pipeline(stages=[featureIndexer, rf])\n",
    "\n",
    "# Train model.  This also runs the indexer.\n",
    "model = pipeline.fit(trainingData)\n",
    "\n",
    "# Make predictions.\n",
    "predictions = model.transform(testData)\n",
    "\n",
    "# Select example rows to display.\n",
    "predictions.select(\"prediction\", \"label\", \"features\").show(5)\n",
    "\n",
    "# Select (prediction, true label) and compute test error\n",
    "evaluator = RegressionEvaluator(\n",
    "    labelCol=\"label\", predictionCol=\"prediction\", metricName=\"rmse\")\n",
    "rmse = evaluator.evaluate(predictions)\n",
    "print (\"Root Mean Squared Error (RMSE) on test data = %g\" % rmse)\n",
    "\n",
    "rfModel = model.stages[1]\n",
    "print (rfModel) # summary only"
   ]
  },
  {
   "cell_type": "markdown",
   "metadata": {},
   "source": [
    "## Tree Decision"
   ]
  },
  {
   "cell_type": "code",
   "execution_count": 206,
   "metadata": {},
   "outputs": [
    {
     "name": "stdout",
     "output_type": "stream",
     "text": [
      "Root Mean Squared Error (RMSE) on test data = 0.0297779\n"
     ]
    }
   ],
   "source": [
    "from pyspark.ml.regression import DecisionTreeRegressor\n",
    "dt = DecisionTreeRegressor(featuresCol ='features', labelCol = 'label')\n",
    "model = dt.fit(train_data)\n",
    "prediction = model.transform(test_data)\n",
    "evaluator = RegressionEvaluator(\n",
    "    labelCol=\"label\", predictionCol=\"prediction\", metricName=\"rmse\")\n",
    "rmse = evaluator.evaluate(prediction)\n",
    "print(\"Root Mean Squared Error (RMSE) on test data = %g\" % rmse)"
   ]
  },
  {
   "cell_type": "code",
   "execution_count": 207,
   "metadata": {},
   "outputs": [
    {
     "data": {
      "text/plain": [
       "SparseVector(11, {0: 0.0181, 1: 0.0272, 2: 0.008, 3: 0.0076, 4: 0.0207, 7: 0.0009, 8: 0.0, 9: 0.0535, 10: 0.864})"
      ]
     },
     "execution_count": 207,
     "metadata": {},
     "output_type": "execute_result"
    }
   ],
   "source": [
    "model.featureImportances"
   ]
  },
  {
   "cell_type": "code",
   "execution_count": 208,
   "metadata": {},
   "outputs": [
    {
     "data": {
      "text/plain": [
       "[Row(label=0.12, features=DenseVector([0.991, 0.598, 2.81, 0.224, 0.52, 0.379, -12.628, 0.0936, 149.976, 0.634, 1920.0]))]"
      ]
     },
     "execution_count": 208,
     "metadata": {},
     "output_type": "execute_result"
    }
   ],
   "source": [
    "df1.take(1)"
   ]
  },
  {
   "cell_type": "markdown",
   "metadata": {},
   "source": [
    "## Gradient-boosted Tree Regression"
   ]
  },
  {
   "cell_type": "code",
   "execution_count": 209,
   "metadata": {},
   "outputs": [
    {
     "name": "stdout",
     "output_type": "stream",
     "text": [
      "+--------------------+-----+--------------------+\n",
      "|          prediction|label|            features|\n",
      "+--------------------+-----+--------------------+\n",
      "|0.001417647218086...|  0.0|[1.02999998489394...|\n",
      "|0.001194653609392...|  0.0|[1.80999995791353...|\n",
      "|0.002774863546040...|  0.0|[0.00294000003486...|\n",
      "|0.002531947405644...|  0.0|[0.01559999957680...|\n",
      "|0.003521292963933...|  0.0|[0.02099999971687...|\n",
      "+--------------------+-----+--------------------+\n",
      "only showing top 5 rows\n",
      "\n"
     ]
    }
   ],
   "source": [
    "from pyspark.ml.regression import GBTRegressor\n",
    "gbt = GBTRegressor(featuresCol = 'features', labelCol = 'label', maxIter=10)\n",
    "gbt_model = gbt.fit(train_data)\n",
    "gbt_predictions = gbt_model.transform(test_data)\n",
    "gbt_predictions.select('prediction', 'label', 'features').show(5)"
   ]
  },
  {
   "cell_type": "code",
   "execution_count": 210,
   "metadata": {},
   "outputs": [
    {
     "name": "stdout",
     "output_type": "stream",
     "text": [
      "Root Mean Squared Error (RMSE) on test data = 0.0297901\n"
     ]
    }
   ],
   "source": [
    "gbt_evaluator = RegressionEvaluator(\n",
    "    labelCol=\"label\", predictionCol=\"prediction\", metricName=\"rmse\")\n",
    "rmse = gbt_evaluator.evaluate(gbt_predictions)\n",
    "print(\"Root Mean Squared Error (RMSE) on test data = %g\" % rmse)"
   ]
  },
  {
   "cell_type": "code",
   "execution_count": null,
   "metadata": {},
   "outputs": [],
   "source": []
  }
 ],
 "metadata": {
  "kernelspec": {
   "display_name": "Python 3",
   "language": "python",
   "name": "python3"
  },
  "language_info": {
   "codemirror_mode": {
    "name": "ipython",
    "version": 3
   },
   "file_extension": ".py",
   "mimetype": "text/x-python",
   "name": "python",
   "nbconvert_exporter": "python",
   "pygments_lexer": "ipython3",
   "version": "3.7.3"
  }
 },
 "nbformat": 4,
 "nbformat_minor": 4
}
