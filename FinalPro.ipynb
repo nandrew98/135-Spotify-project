{
 "cells": [
  {
   "cell_type": "markdown",
   "metadata": {},
   "source": [
    "## Data cleaning "
   ]
  },
  {
   "cell_type": "markdown",
   "metadata": {},
   "source": [
    "**Import Modules**"
   ]
  },
  {
   "cell_type": "code",
   "execution_count": 480,
   "metadata": {},
   "outputs": [],
   "source": [
    "from pyspark.sql.session import SparkSession\n",
    "from pyspark.sql import functions as F\n",
    "\n",
    "from pyspark.ml import Pipeline\n",
    "from pyspark.ml.regression import LinearRegression\n",
    "from pyspark.ml.linalg import DenseVector\n",
    "from pyspark.ml.linalg import Vectors\n",
    "from pyspark.ml.feature import VectorAssembler, StandardScaler, PCA, OneHotEncoder, StringIndexer\n",
    "from pyspark.ml.evaluation import RegressionEvaluator\n",
    "from pyspark.ml.tuning import ParamGridBuilder, CrossValidator\n",
    "\n",
    "from pyspark.sql.types import IntegerType\n",
    "from pyspark.sql.types import FloatType\n",
    "from pyspark.sql.functions import isnan, when, count, col"
   ]
  },
  {
   "cell_type": "code",
   "execution_count": 481,
   "metadata": {},
   "outputs": [],
   "source": [
    "# Data Manipulation\n",
    "import numpy as np \n",
    "import pandas as pd"
   ]
  },
  {
   "cell_type": "code",
   "execution_count": 482,
   "metadata": {},
   "outputs": [],
   "source": [
    "import os\n",
    "spark = SparkSession.builder.getOrCreate()\n",
    "sc = spark.sparkContext"
   ]
  },
  {
   "cell_type": "markdown",
   "metadata": {},
   "source": [
    "**Read csv file**"
   ]
  },
  {
   "cell_type": "code",
   "execution_count": 483,
   "metadata": {},
   "outputs": [],
   "source": [
    "filename = 'data.csv'\n",
    "df = spark.read.csv(filename, inferSchema=True, header = True).limit(300)"
   ]
  },
  {
   "cell_type": "code",
   "execution_count": 484,
   "metadata": {},
   "outputs": [
    {
     "data": {
      "text/plain": [
       "pyspark.sql.dataframe.DataFrame"
      ]
     },
     "execution_count": 484,
     "metadata": {},
     "output_type": "execute_result"
    }
   ],
   "source": [
    "type(df)"
   ]
  },
  {
   "cell_type": "code",
   "execution_count": 485,
   "metadata": {},
   "outputs": [
    {
     "data": {
      "text/html": [
       "<div>\n",
       "<style scoped>\n",
       "    .dataframe tbody tr th:only-of-type {\n",
       "        vertical-align: middle;\n",
       "    }\n",
       "\n",
       "    .dataframe tbody tr th {\n",
       "        vertical-align: top;\n",
       "    }\n",
       "\n",
       "    .dataframe thead th {\n",
       "        text-align: right;\n",
       "    }\n",
       "</style>\n",
       "<table border=\"1\" class=\"dataframe\">\n",
       "  <thead>\n",
       "    <tr style=\"text-align: right;\">\n",
       "      <th></th>\n",
       "      <th>acousticness</th>\n",
       "      <th>artists</th>\n",
       "      <th>danceability</th>\n",
       "      <th>duration_ms</th>\n",
       "      <th>energy</th>\n",
       "      <th>explicit</th>\n",
       "      <th>id</th>\n",
       "      <th>instrumentalness</th>\n",
       "      <th>key</th>\n",
       "      <th>liveness</th>\n",
       "      <th>loudness</th>\n",
       "      <th>mode</th>\n",
       "      <th>name</th>\n",
       "      <th>popularity</th>\n",
       "      <th>release_date</th>\n",
       "      <th>speechiness</th>\n",
       "      <th>tempo</th>\n",
       "      <th>valence</th>\n",
       "      <th>year</th>\n",
       "    </tr>\n",
       "  </thead>\n",
       "  <tbody>\n",
       "    <tr>\n",
       "      <th>0</th>\n",
       "      <td>0.991000</td>\n",
       "      <td>['Mamie Smith']</td>\n",
       "      <td>0.598</td>\n",
       "      <td>168333</td>\n",
       "      <td>0.22399999999999998</td>\n",
       "      <td>0</td>\n",
       "      <td>0cS0A1fUEUd1EW3FcF8AEI</td>\n",
       "      <td>0.000522</td>\n",
       "      <td>5</td>\n",
       "      <td>0.379</td>\n",
       "      <td>-12.628</td>\n",
       "      <td>0</td>\n",
       "      <td>Keep A Song In Your Soul</td>\n",
       "      <td>12</td>\n",
       "      <td>1920</td>\n",
       "      <td>0.0936</td>\n",
       "      <td>149.976</td>\n",
       "      <td>0.634</td>\n",
       "      <td>1920</td>\n",
       "    </tr>\n",
       "    <tr>\n",
       "      <th>1</th>\n",
       "      <td>0.643000</td>\n",
       "      <td>\"[\"\"Screamin' Jay Hawkins\"\"]\"</td>\n",
       "      <td>0.852</td>\n",
       "      <td>150200</td>\n",
       "      <td>0.517</td>\n",
       "      <td>0</td>\n",
       "      <td>0hbkKFIJm7Z05H8Zl9w30f</td>\n",
       "      <td>0.0264</td>\n",
       "      <td>5</td>\n",
       "      <td>0.0809</td>\n",
       "      <td>-7.261</td>\n",
       "      <td>0</td>\n",
       "      <td>I Put A Spell On You</td>\n",
       "      <td>7</td>\n",
       "      <td>1920-01-05</td>\n",
       "      <td>0.0534</td>\n",
       "      <td>86.889</td>\n",
       "      <td>0.95</td>\n",
       "      <td>1920</td>\n",
       "    </tr>\n",
       "    <tr>\n",
       "      <th>2</th>\n",
       "      <td>0.993000</td>\n",
       "      <td>['Mamie Smith']</td>\n",
       "      <td>0.647</td>\n",
       "      <td>163827</td>\n",
       "      <td>0.18600000000000005</td>\n",
       "      <td>0</td>\n",
       "      <td>11m7laMUgmOKqI3oYzuhne</td>\n",
       "      <td>1.76e-05</td>\n",
       "      <td>0</td>\n",
       "      <td>0.519</td>\n",
       "      <td>-12.097999999999999</td>\n",
       "      <td>1</td>\n",
       "      <td>Golfing Papa</td>\n",
       "      <td>4</td>\n",
       "      <td>1920</td>\n",
       "      <td>0.174</td>\n",
       "      <td>97.6</td>\n",
       "      <td>0.6890000000000001</td>\n",
       "      <td>1920</td>\n",
       "    </tr>\n",
       "    <tr>\n",
       "      <th>3</th>\n",
       "      <td>0.000173</td>\n",
       "      <td>['Oscar Velazquez']</td>\n",
       "      <td>0.73</td>\n",
       "      <td>422087</td>\n",
       "      <td>0.7979999999999999</td>\n",
       "      <td>0</td>\n",
       "      <td>19Lc5SfJJ5O1oaxY0fpwfh</td>\n",
       "      <td>0.8009999999999999</td>\n",
       "      <td>2</td>\n",
       "      <td>0.128</td>\n",
       "      <td>-7.311</td>\n",
       "      <td>1</td>\n",
       "      <td>True House Music - Xavier Santos &amp; Carlos Gomi...</td>\n",
       "      <td>17</td>\n",
       "      <td>1920-01-01</td>\n",
       "      <td>0.0425</td>\n",
       "      <td>127.99700000000001</td>\n",
       "      <td>0.0422</td>\n",
       "      <td>1920</td>\n",
       "    </tr>\n",
       "    <tr>\n",
       "      <th>4</th>\n",
       "      <td>0.295000</td>\n",
       "      <td>['Mixe']</td>\n",
       "      <td>0.7040000000000001</td>\n",
       "      <td>165224</td>\n",
       "      <td>0.7070000000000001</td>\n",
       "      <td>1</td>\n",
       "      <td>2hJjbsLCytGsnAHfdsLejp</td>\n",
       "      <td>0.000246</td>\n",
       "      <td>10</td>\n",
       "      <td>0.402</td>\n",
       "      <td>-6.0360000000000005</td>\n",
       "      <td>0</td>\n",
       "      <td>Xuniverxe</td>\n",
       "      <td>2</td>\n",
       "      <td>1920-10-01</td>\n",
       "      <td>0.0768</td>\n",
       "      <td>122.07600000000001</td>\n",
       "      <td>0.299</td>\n",
       "      <td>1920</td>\n",
       "    </tr>\n",
       "    <tr>\n",
       "      <th>...</th>\n",
       "      <td>...</td>\n",
       "      <td>...</td>\n",
       "      <td>...</td>\n",
       "      <td>...</td>\n",
       "      <td>...</td>\n",
       "      <td>...</td>\n",
       "      <td>...</td>\n",
       "      <td>...</td>\n",
       "      <td>...</td>\n",
       "      <td>...</td>\n",
       "      <td>...</td>\n",
       "      <td>...</td>\n",
       "      <td>...</td>\n",
       "      <td>...</td>\n",
       "      <td>...</td>\n",
       "      <td>...</td>\n",
       "      <td>...</td>\n",
       "      <td>...</td>\n",
       "      <td>...</td>\n",
       "    </tr>\n",
       "    <tr>\n",
       "      <th>295</th>\n",
       "      <td>0.317000</td>\n",
       "      <td>['SAVY..TLG']</td>\n",
       "      <td>0.8809999999999999</td>\n",
       "      <td>207962</td>\n",
       "      <td>0.4970000000000001</td>\n",
       "      <td>1</td>\n",
       "      <td>3nBY21TkPVYoTeczBCJBwK</td>\n",
       "      <td>0.0</td>\n",
       "      <td>1</td>\n",
       "      <td>0.534</td>\n",
       "      <td>-11.686</td>\n",
       "      <td>1</td>\n",
       "      <td>Ski Mask</td>\n",
       "      <td>0</td>\n",
       "      <td>1921-06-01</td>\n",
       "      <td>0.41200000000000003</td>\n",
       "      <td>140.984</td>\n",
       "      <td>0.42200000000000004</td>\n",
       "      <td>1921</td>\n",
       "    </tr>\n",
       "    <tr>\n",
       "      <th>296</th>\n",
       "      <td>0.983000</td>\n",
       "      <td>['Ignacio Corsini']</td>\n",
       "      <td>0.366</td>\n",
       "      <td>171213</td>\n",
       "      <td>0.231</td>\n",
       "      <td>0</td>\n",
       "      <td>3nX4gFJqhxKT61sYkB029F</td>\n",
       "      <td>0.905</td>\n",
       "      <td>4</td>\n",
       "      <td>0.11199999999999999</td>\n",
       "      <td>-24.963</td>\n",
       "      <td>1</td>\n",
       "      <td>Pobre Mi China - Remasterizado</td>\n",
       "      <td>0</td>\n",
       "      <td>1921-03-20</td>\n",
       "      <td>0.28300000000000003</td>\n",
       "      <td>63.24100000000001</td>\n",
       "      <td>0.429</td>\n",
       "      <td>1921</td>\n",
       "    </tr>\n",
       "    <tr>\n",
       "      <th>297</th>\n",
       "      <td>0.992000</td>\n",
       "      <td>['Morton Downey']</td>\n",
       "      <td>0.38</td>\n",
       "      <td>170240</td>\n",
       "      <td>0.11699999999999999</td>\n",
       "      <td>0</td>\n",
       "      <td>3tEwdlwf8ZrxpksJorI5Tc</td>\n",
       "      <td>1.14e-06</td>\n",
       "      <td>7</td>\n",
       "      <td>0.105</td>\n",
       "      <td>-13.298</td>\n",
       "      <td>1</td>\n",
       "      <td>That's How You Spell Ireland</td>\n",
       "      <td>0</td>\n",
       "      <td>1921</td>\n",
       "      <td>0.0415</td>\n",
       "      <td>86.493</td>\n",
       "      <td>0.17300000000000001</td>\n",
       "      <td>1921</td>\n",
       "    </tr>\n",
       "    <tr>\n",
       "      <th>298</th>\n",
       "      <td>0.672000</td>\n",
       "      <td>['Mehmet Kemiksiz']</td>\n",
       "      <td>0.40299999999999997</td>\n",
       "      <td>396356</td>\n",
       "      <td>0.385</td>\n",
       "      <td>0</td>\n",
       "      <td>47LO5zrjx6ShMymLqp80ef</td>\n",
       "      <td>0.000339</td>\n",
       "      <td>11</td>\n",
       "      <td>0.21100000000000002</td>\n",
       "      <td>-6.5070000000000014</td>\n",
       "      <td>0</td>\n",
       "      <td>Şühedâ Gövdesi Bir Baksana Dağlar Taşlar</td>\n",
       "      <td>0</td>\n",
       "      <td>1921</td>\n",
       "      <td>0.0315</td>\n",
       "      <td>123.839</td>\n",
       "      <td>0.21899999999999997</td>\n",
       "      <td>1921</td>\n",
       "    </tr>\n",
       "    <tr>\n",
       "      <th>299</th>\n",
       "      <td>0.959000</td>\n",
       "      <td>['Morton Downey']</td>\n",
       "      <td>0.8290000000000001</td>\n",
       "      <td>153827</td>\n",
       "      <td>0.33299999999999996</td>\n",
       "      <td>0</td>\n",
       "      <td>4BWXQSxvAa73YTLVLlMtGp</td>\n",
       "      <td>0.000362</td>\n",
       "      <td>5</td>\n",
       "      <td>0.0841</td>\n",
       "      <td>-11.895</td>\n",
       "      <td>1</td>\n",
       "      <td>It's the Same Old Shillelegh</td>\n",
       "      <td>0</td>\n",
       "      <td>1921</td>\n",
       "      <td>0.10300000000000001</td>\n",
       "      <td>132.606</td>\n",
       "      <td>0.919</td>\n",
       "      <td>1921</td>\n",
       "    </tr>\n",
       "  </tbody>\n",
       "</table>\n",
       "<p>300 rows × 19 columns</p>\n",
       "</div>"
      ],
      "text/plain": [
       "     acousticness                        artists         danceability  \\\n",
       "0        0.991000                ['Mamie Smith']                0.598   \n",
       "1        0.643000  \"[\"\"Screamin' Jay Hawkins\"\"]\"                0.852   \n",
       "2        0.993000                ['Mamie Smith']                0.647   \n",
       "3        0.000173            ['Oscar Velazquez']                 0.73   \n",
       "4        0.295000                       ['Mixe']   0.7040000000000001   \n",
       "..            ...                            ...                  ...   \n",
       "295      0.317000                  ['SAVY..TLG']   0.8809999999999999   \n",
       "296      0.983000            ['Ignacio Corsini']                0.366   \n",
       "297      0.992000              ['Morton Downey']                 0.38   \n",
       "298      0.672000            ['Mehmet Kemiksiz']  0.40299999999999997   \n",
       "299      0.959000              ['Morton Downey']   0.8290000000000001   \n",
       "\n",
       "    duration_ms               energy explicit                      id  \\\n",
       "0        168333  0.22399999999999998        0  0cS0A1fUEUd1EW3FcF8AEI   \n",
       "1        150200                0.517        0  0hbkKFIJm7Z05H8Zl9w30f   \n",
       "2        163827  0.18600000000000005        0  11m7laMUgmOKqI3oYzuhne   \n",
       "3        422087   0.7979999999999999        0  19Lc5SfJJ5O1oaxY0fpwfh   \n",
       "4        165224   0.7070000000000001        1  2hJjbsLCytGsnAHfdsLejp   \n",
       "..          ...                  ...      ...                     ...   \n",
       "295      207962   0.4970000000000001        1  3nBY21TkPVYoTeczBCJBwK   \n",
       "296      171213                0.231        0  3nX4gFJqhxKT61sYkB029F   \n",
       "297      170240  0.11699999999999999        0  3tEwdlwf8ZrxpksJorI5Tc   \n",
       "298      396356                0.385        0  47LO5zrjx6ShMymLqp80ef   \n",
       "299      153827  0.33299999999999996        0  4BWXQSxvAa73YTLVLlMtGp   \n",
       "\n",
       "       instrumentalness key             liveness             loudness mode  \\\n",
       "0              0.000522   5                0.379              -12.628    0   \n",
       "1                0.0264   5               0.0809               -7.261    0   \n",
       "2              1.76e-05   0                0.519  -12.097999999999999    1   \n",
       "3    0.8009999999999999   2                0.128               -7.311    1   \n",
       "4              0.000246  10                0.402  -6.0360000000000005    0   \n",
       "..                  ...  ..                  ...                  ...  ...   \n",
       "295                 0.0   1                0.534              -11.686    1   \n",
       "296               0.905   4  0.11199999999999999              -24.963    1   \n",
       "297            1.14e-06   7                0.105              -13.298    1   \n",
       "298            0.000339  11  0.21100000000000002  -6.5070000000000014    0   \n",
       "299            0.000362   5               0.0841              -11.895    1   \n",
       "\n",
       "                                                  name popularity  \\\n",
       "0                             Keep A Song In Your Soul         12   \n",
       "1                                 I Put A Spell On You          7   \n",
       "2                                         Golfing Papa          4   \n",
       "3    True House Music - Xavier Santos & Carlos Gomi...         17   \n",
       "4                                            Xuniverxe          2   \n",
       "..                                                 ...        ...   \n",
       "295                                           Ski Mask          0   \n",
       "296                     Pobre Mi China - Remasterizado          0   \n",
       "297                       That's How You Spell Ireland          0   \n",
       "298           Şühedâ Gövdesi Bir Baksana Dağlar Taşlar          0   \n",
       "299                       It's the Same Old Shillelegh          0   \n",
       "\n",
       "    release_date          speechiness               tempo  \\\n",
       "0           1920               0.0936             149.976   \n",
       "1     1920-01-05               0.0534              86.889   \n",
       "2           1920                0.174                97.6   \n",
       "3     1920-01-01               0.0425  127.99700000000001   \n",
       "4     1920-10-01               0.0768  122.07600000000001   \n",
       "..           ...                  ...                 ...   \n",
       "295   1921-06-01  0.41200000000000003             140.984   \n",
       "296   1921-03-20  0.28300000000000003   63.24100000000001   \n",
       "297         1921               0.0415              86.493   \n",
       "298         1921               0.0315             123.839   \n",
       "299         1921  0.10300000000000001             132.606   \n",
       "\n",
       "                 valence  year  \n",
       "0                  0.634  1920  \n",
       "1                   0.95  1920  \n",
       "2     0.6890000000000001  1920  \n",
       "3                 0.0422  1920  \n",
       "4                  0.299  1920  \n",
       "..                   ...   ...  \n",
       "295  0.42200000000000004  1921  \n",
       "296                0.429  1921  \n",
       "297  0.17300000000000001  1921  \n",
       "298  0.21899999999999997  1921  \n",
       "299                0.919  1921  \n",
       "\n",
       "[300 rows x 19 columns]"
      ]
     },
     "execution_count": 485,
     "metadata": {},
     "output_type": "execute_result"
    }
   ],
   "source": [
    "df.toPandas()"
   ]
  },
  {
   "cell_type": "code",
   "execution_count": 486,
   "metadata": {},
   "outputs": [
    {
     "data": {
      "text/html": [
       "<div>\n",
       "<style scoped>\n",
       "    .dataframe tbody tr th:only-of-type {\n",
       "        vertical-align: middle;\n",
       "    }\n",
       "\n",
       "    .dataframe tbody tr th {\n",
       "        vertical-align: top;\n",
       "    }\n",
       "\n",
       "    .dataframe thead th {\n",
       "        text-align: right;\n",
       "    }\n",
       "</style>\n",
       "<table border=\"1\" class=\"dataframe\">\n",
       "  <thead>\n",
       "    <tr style=\"text-align: right;\">\n",
       "      <th></th>\n",
       "      <th>summary</th>\n",
       "      <th>acousticness</th>\n",
       "      <th>artists</th>\n",
       "      <th>danceability</th>\n",
       "      <th>duration_ms</th>\n",
       "      <th>energy</th>\n",
       "      <th>explicit</th>\n",
       "      <th>id</th>\n",
       "      <th>instrumentalness</th>\n",
       "      <th>key</th>\n",
       "      <th>liveness</th>\n",
       "      <th>loudness</th>\n",
       "      <th>mode</th>\n",
       "      <th>name</th>\n",
       "      <th>popularity</th>\n",
       "      <th>release_date</th>\n",
       "      <th>speechiness</th>\n",
       "      <th>tempo</th>\n",
       "      <th>valence</th>\n",
       "      <th>year</th>\n",
       "    </tr>\n",
       "  </thead>\n",
       "  <tbody>\n",
       "    <tr>\n",
       "      <th>0</th>\n",
       "      <td>count</td>\n",
       "      <td>300</td>\n",
       "      <td>300</td>\n",
       "      <td>300</td>\n",
       "      <td>300</td>\n",
       "      <td>300</td>\n",
       "      <td>300</td>\n",
       "      <td>300</td>\n",
       "      <td>300</td>\n",
       "      <td>300</td>\n",
       "      <td>300</td>\n",
       "      <td>300</td>\n",
       "      <td>300</td>\n",
       "      <td>300</td>\n",
       "      <td>300</td>\n",
       "      <td>300</td>\n",
       "      <td>300</td>\n",
       "      <td>300</td>\n",
       "      <td>300</td>\n",
       "      <td>300</td>\n",
       "    </tr>\n",
       "    <tr>\n",
       "      <th>1</th>\n",
       "      <td>mean</td>\n",
       "      <td>0.7111488746666667</td>\n",
       "      <td>None</td>\n",
       "      <td>0.5153026666666674</td>\n",
       "      <td>229638.21333333335</td>\n",
       "      <td>0.3720655666666668</td>\n",
       "      <td>0.13</td>\n",
       "      <td>None</td>\n",
       "      <td>0.29875650993333336</td>\n",
       "      <td>5.183333333333334</td>\n",
       "      <td>0.2156246666666666</td>\n",
       "      <td>-13.648463333333334</td>\n",
       "      <td>0.6433333333333333</td>\n",
       "      <td>1920.0</td>\n",
       "      <td>0.5166666666666667</td>\n",
       "      <td>1920.5208333333333</td>\n",
       "      <td>0.08643466666666665</td>\n",
       "      <td>109.22763999999998</td>\n",
       "      <td>0.4813940000000003</td>\n",
       "      <td>1920.3333333333333</td>\n",
       "    </tr>\n",
       "    <tr>\n",
       "      <th>2</th>\n",
       "      <td>stddev</td>\n",
       "      <td>0.38551050639411893</td>\n",
       "      <td>None</td>\n",
       "      <td>0.18276914416759388</td>\n",
       "      <td>118544.61314077837</td>\n",
       "      <td>0.2202075222911126</td>\n",
       "      <td>0.33686534530812945</td>\n",
       "      <td>None</td>\n",
       "      <td>0.38096120436959374</td>\n",
       "      <td>3.504854095344684</td>\n",
       "      <td>0.14642575067164498</td>\n",
       "      <td>5.83822959620886</td>\n",
       "      <td>0.4798155535623629</td>\n",
       "      <td>NaN</td>\n",
       "      <td>1.8658313547505099</td>\n",
       "      <td>0.5013094740885771</td>\n",
       "      <td>0.0972271821459876</td>\n",
       "      <td>29.662390570410412</td>\n",
       "      <td>0.2623225462891797</td>\n",
       "      <td>0.47219216464996877</td>\n",
       "    </tr>\n",
       "    <tr>\n",
       "      <th>3</th>\n",
       "      <td>min</td>\n",
       "      <td>1.1599999999999999E-5</td>\n",
       "      <td>\"[\"\"Screamin' Jay Hawkins\"\"]\"</td>\n",
       "      <td>0.0663</td>\n",
       "      <td>102621</td>\n",
       "      <td>0.00817</td>\n",
       "      <td>0</td>\n",
       "      <td>02FzJbHtqElixxCmrpSCUa</td>\n",
       "      <td>0.0</td>\n",
       "      <td>0</td>\n",
       "      <td>0.0402</td>\n",
       "      <td>-0.8</td>\n",
       "      <td>0</td>\n",
       "      <td>\"\"\"U\"\" Need Some Lovin' Blues\"</td>\n",
       "      <td>0</td>\n",
       "      <td>1920</td>\n",
       "      <td>0.0253</td>\n",
       "      <td>100.01100000000001</td>\n",
       "      <td>0.0224</td>\n",
       "      <td>1920</td>\n",
       "    </tr>\n",
       "    <tr>\n",
       "      <th>4</th>\n",
       "      <td>max</td>\n",
       "      <td>0.996</td>\n",
       "      <td>['محمد الإدريسي']</td>\n",
       "      <td>0.9359999999999999</td>\n",
       "      <td>95933</td>\n",
       "      <td>0.998</td>\n",
       "      <td>1</td>\n",
       "      <td>7xPhfUan2yNtyFG0cUWkt8</td>\n",
       "      <td>7.53e-06</td>\n",
       "      <td>9</td>\n",
       "      <td>0.805</td>\n",
       "      <td>-9.888</td>\n",
       "      <td>1</td>\n",
       "      <td>لما بدا يتثنى</td>\n",
       "      <td>9</td>\n",
       "      <td>1921-12-18</td>\n",
       "      <td>0.845</td>\n",
       "      <td>99.98899999999999</td>\n",
       "      <td>0.965</td>\n",
       "      <td>1921</td>\n",
       "    </tr>\n",
       "  </tbody>\n",
       "</table>\n",
       "</div>"
      ],
      "text/plain": [
       "  summary           acousticness                        artists  \\\n",
       "0   count                    300                            300   \n",
       "1    mean     0.7111488746666667                           None   \n",
       "2  stddev    0.38551050639411893                           None   \n",
       "3     min  1.1599999999999999E-5  \"[\"\"Screamin' Jay Hawkins\"\"]\"   \n",
       "4     max                  0.996              ['محمد الإدريسي']   \n",
       "\n",
       "          danceability         duration_ms              energy  \\\n",
       "0                  300                 300                 300   \n",
       "1   0.5153026666666674  229638.21333333335  0.3720655666666668   \n",
       "2  0.18276914416759388  118544.61314077837  0.2202075222911126   \n",
       "3               0.0663              102621             0.00817   \n",
       "4   0.9359999999999999               95933               0.998   \n",
       "\n",
       "              explicit                      id     instrumentalness  \\\n",
       "0                  300                     300                  300   \n",
       "1                 0.13                    None  0.29875650993333336   \n",
       "2  0.33686534530812945                    None  0.38096120436959374   \n",
       "3                    0  02FzJbHtqElixxCmrpSCUa                  0.0   \n",
       "4                    1  7xPhfUan2yNtyFG0cUWkt8             7.53e-06   \n",
       "\n",
       "                 key             liveness             loudness  \\\n",
       "0                300                  300                  300   \n",
       "1  5.183333333333334   0.2156246666666666  -13.648463333333334   \n",
       "2  3.504854095344684  0.14642575067164498     5.83822959620886   \n",
       "3                  0               0.0402                 -0.8   \n",
       "4                  9                0.805               -9.888   \n",
       "\n",
       "                 mode                            name          popularity  \\\n",
       "0                 300                             300                 300   \n",
       "1  0.6433333333333333                          1920.0  0.5166666666666667   \n",
       "2  0.4798155535623629                             NaN  1.8658313547505099   \n",
       "3                   0  \"\"\"U\"\" Need Some Lovin' Blues\"                   0   \n",
       "4                   1                   لما بدا يتثنى                   9   \n",
       "\n",
       "         release_date          speechiness               tempo  \\\n",
       "0                 300                  300                 300   \n",
       "1  1920.5208333333333  0.08643466666666665  109.22763999999998   \n",
       "2  0.5013094740885771   0.0972271821459876  29.662390570410412   \n",
       "3                1920               0.0253  100.01100000000001   \n",
       "4          1921-12-18                0.845   99.98899999999999   \n",
       "\n",
       "              valence                 year  \n",
       "0                 300                  300  \n",
       "1  0.4813940000000003   1920.3333333333333  \n",
       "2  0.2623225462891797  0.47219216464996877  \n",
       "3              0.0224                 1920  \n",
       "4               0.965                 1921  "
      ]
     },
     "execution_count": 486,
     "metadata": {},
     "output_type": "execute_result"
    }
   ],
   "source": [
    "df.describe().toPandas()"
   ]
  },
  {
   "cell_type": "markdown",
   "metadata": {},
   "source": [
    "**Drop Variables**"
   ]
  },
  {
   "cell_type": "code",
   "execution_count": 487,
   "metadata": {},
   "outputs": [],
   "source": [
    "# Variables id, name, release_date are not related to our question.\n",
    "# Thus, droping all three.\n",
    "df = df.drop(\"id\", \"name\", \"release_date\",\"key\",\"explicit\",\"mode\")"
   ]
  },
  {
   "cell_type": "markdown",
   "metadata": {},
   "source": [
    "**Convert Data Type**"
   ]
  },
  {
   "cell_type": "code",
   "execution_count": 488,
   "metadata": {},
   "outputs": [],
   "source": [
    "floats = [\"acousticness\", \"danceability\", \"energy\", \"instrumentalness\", \"liveness\", \"loudness\",\n",
    "         \"speechiness\", \"tempo\", \"valence\"]\n",
    "for i in floats:\n",
    "        df = df.withColumn(i, df[i].cast(FloatType()))\n",
    "\n",
    "ints = [\"duration_ms\", \"popularity\", \"year\"]\n",
    "for i in ints:\n",
    "    df = df.withColumn(i, df[i].cast(IntegerType()))"
   ]
  },
  {
   "cell_type": "code",
   "execution_count": 489,
   "metadata": {},
   "outputs": [
    {
     "name": "stdout",
     "output_type": "stream",
     "text": [
      "+------------+--------------------+------------+-----------+------+----------------+--------+--------+----------+-----------+-------+-------+----+\n",
      "|acousticness|             artists|danceability|duration_ms|energy|instrumentalness|liveness|loudness|popularity|speechiness|  tempo|valence|year|\n",
      "+------------+--------------------+------------+-----------+------+----------------+--------+--------+----------+-----------+-------+-------+----+\n",
      "|       0.991|     ['Mamie Smith']|       0.598|     168333| 0.224|         5.22E-4|   0.379| -12.628|        12|     0.0936|149.976|  0.634|1920|\n",
      "|       0.643|\"[\"\"Screamin' Jay...|       0.852|     150200| 0.517|          0.0264|  0.0809|  -7.261|         7|     0.0534| 86.889|   0.95|1920|\n",
      "|       0.993|     ['Mamie Smith']|       0.647|     163827| 0.186|         1.76E-5|   0.519| -12.098|         4|      0.174|   97.6|  0.689|1920|\n",
      "|     1.73E-4| ['Oscar Velazquez']|        0.73|     422087| 0.798|           0.801|   0.128|  -7.311|        17|     0.0425|127.997| 0.0422|1920|\n",
      "|       0.295|            ['Mixe']|       0.704|     165224| 0.707|         2.46E-4|   0.402|  -6.036|         2|     0.0768|122.076|  0.299|1920|\n",
      "+------------+--------------------+------------+-----------+------+----------------+--------+--------+----------+-----------+-------+-------+----+\n",
      "only showing top 5 rows\n",
      "\n"
     ]
    }
   ],
   "source": [
    "# With Correct Variable Type\n",
    "df.createOrReplaceTempView(\"df\")\n",
    "spark.sql(\"select * from df\").show(5)"
   ]
  },
  {
   "cell_type": "code",
   "execution_count": 490,
   "metadata": {},
   "outputs": [
    {
     "name": "stdout",
     "output_type": "stream",
     "text": [
      "root\n",
      " |-- acousticness: float (nullable = true)\n",
      " |-- artists: string (nullable = true)\n",
      " |-- danceability: float (nullable = true)\n",
      " |-- duration_ms: integer (nullable = true)\n",
      " |-- energy: float (nullable = true)\n",
      " |-- instrumentalness: float (nullable = true)\n",
      " |-- liveness: float (nullable = true)\n",
      " |-- loudness: float (nullable = true)\n",
      " |-- popularity: integer (nullable = true)\n",
      " |-- speechiness: float (nullable = true)\n",
      " |-- tempo: float (nullable = true)\n",
      " |-- valence: float (nullable = true)\n",
      " |-- year: integer (nullable = true)\n",
      "\n"
     ]
    }
   ],
   "source": [
    "df.printSchema()"
   ]
  },
  {
   "cell_type": "markdown",
   "metadata": {},
   "source": [
    "**Duplicates & Nulls**"
   ]
  },
  {
   "cell_type": "code",
   "execution_count": 491,
   "metadata": {},
   "outputs": [
    {
     "name": "stdout",
     "output_type": "stream",
     "text": [
      "Rows = 300\n",
      "Distinct Rows = 290\n"
     ]
    }
   ],
   "source": [
    "# Count rows and unique rows\n",
    "print('Rows = {}'.format(df.count()))\n",
    "print('Distinct Rows = {}'.format(df.distinct().count()))"
   ]
  },
  {
   "cell_type": "code",
   "execution_count": 492,
   "metadata": {},
   "outputs": [
    {
     "name": "stdout",
     "output_type": "stream",
     "text": [
      "The number of rows with duplicate data removed = 290\n"
     ]
    }
   ],
   "source": [
    "# Check\n",
    "# Drop all duplicates \n",
    "df = df.dropDuplicates()\n",
    "print('The number of rows with duplicate data removed = {}'.format(df.count()))"
   ]
  },
  {
   "cell_type": "code",
   "execution_count": 493,
   "metadata": {},
   "outputs": [
    {
     "name": "stdout",
     "output_type": "stream",
     "text": [
      "+------------+-------+------------+-----------+------+----------------+--------+--------+----------+-----------+-----+-------+----+\n",
      "|acousticness|artists|danceability|duration_ms|energy|instrumentalness|liveness|loudness|popularity|speechiness|tempo|valence|year|\n",
      "+------------+-------+------------+-----------+------+----------------+--------+--------+----------+-----------+-----+-------+----+\n",
      "|           0|      0|           0|          0|     0|               0|       0|       0|         0|          0|    0|      0|   0|\n",
      "+------------+-------+------------+-----------+------+----------------+--------+--------+----------+-----------+-----+-------+----+\n",
      "\n"
     ]
    }
   ],
   "source": [
    "# Check for NULL\n",
    "df.select([count(when(isnan(c), c)).alias(c) for c in df.columns]).show()"
   ]
  },
  {
   "cell_type": "markdown",
   "metadata": {},
   "source": [
    "**Numeric Variables & Categorical Variables**"
   ]
  },
  {
   "cell_type": "code",
   "execution_count": 494,
   "metadata": {},
   "outputs": [],
   "source": [
    "num_cols = []\n",
    "cat_cols = []\n",
    "\n",
    "for s in df.schema:\n",
    "    data_type = str(s.dataType)\n",
    "    if data_type == \"StringType\":\n",
    "        cat_cols.append(s.name)\n",
    "    \n",
    "    #if data_type == \"FloatType\" or data_type == \"IntType\" or data_type ==\"String\":\n",
    "    else:\n",
    "        num_cols.append(s.name)"
   ]
  },
  {
   "cell_type": "code",
   "execution_count": 495,
   "metadata": {},
   "outputs": [
    {
     "name": "stdout",
     "output_type": "stream",
     "text": [
      "['acousticness', 'danceability', 'duration_ms', 'energy', 'instrumentalness', 'liveness', 'loudness', 'popularity', 'speechiness', 'tempo', 'valence', 'year']\n",
      "['artists']\n"
     ]
    }
   ],
   "source": [
    "print(num_cols)\n",
    "print(cat_cols)"
   ]
  },
  {
   "cell_type": "code",
   "execution_count": 496,
   "metadata": {},
   "outputs": [
    {
     "name": "stdout",
     "output_type": "stream",
     "text": [
      "Correlation to popularity for  acousticness -0.12673057285882536\n",
      "Correlation to popularity for  danceability 0.13655843406413337\n",
      "Correlation to popularity for  duration_ms 0.11621782424211506\n",
      "Correlation to popularity for  energy 0.040698802026386594\n",
      "Correlation to popularity for  instrumentalness 0.048312739244376374\n",
      "Correlation to popularity for  liveness -0.020267565496525756\n",
      "Correlation to popularity for  loudness -0.00425633701320097\n",
      "Correlation to popularity for  popularity 1.0\n",
      "Correlation to popularity for  speechiness -0.03201265087177231\n",
      "Correlation to popularity for  tempo 0.015804557016442095\n",
      "Correlation to popularity for  valence -0.0824132398039687\n",
      "Correlation to popularity for  year -0.020890563342533443\n"
     ]
    }
   ],
   "source": [
    "# Correlation\n",
    "import six\n",
    "for i in df.columns:\n",
    "    if not(isinstance(df.select(i).take(1)[0][0], six.string_types)):\n",
    "        print( \"Correlation to popularity for \", i, df.stat.corr('popularity',i))"
   ]
  },
  {
   "cell_type": "markdown",
   "metadata": {},
   "source": [
    "## Linear Regression Model"
   ]
  },
  {
   "cell_type": "markdown",
   "metadata": {},
   "source": [
    "**SCALING**"
   ]
  },
  {
   "cell_type": "code",
   "execution_count": 497,
   "metadata": {},
   "outputs": [],
   "source": [
    "import pyspark.sql.functions as func\n",
    "# Scale popularity\n",
    "df1 = df.withColumn('popularity_final',\n",
    "                   func.round(df['popularity']/100, 2)) \\\n",
    "        .withColumn('duration_min',\n",
    "                   func.round(df['duration_ms']/60000, 2))"
   ]
  },
  {
   "cell_type": "markdown",
   "metadata": {},
   "source": [
    "**SELECT AND STANDARDIZE FEATURES**"
   ]
  },
  {
   "cell_type": "code",
   "execution_count": 498,
   "metadata": {},
   "outputs": [
    {
     "name": "stdout",
     "output_type": "stream",
     "text": [
      "+----------------+------------+------------+------------+------+----------------+--------+--------+-----------+-------+-------+----+\n",
      "|popularity_final|acousticness|danceability|duration_min|energy|instrumentalness|liveness|loudness|speechiness|  tempo|valence|year|\n",
      "+----------------+------------+------------+------------+------+----------------+--------+--------+-----------+-------+-------+----+\n",
      "|            0.12|       0.991|       0.598|        2.81| 0.224|         5.22E-4|   0.379| -12.628|     0.0936|149.976|  0.634|1920|\n",
      "+----------------+------------+------------+------------+------+----------------+--------+--------+-----------+-------+-------+----+\n",
      "only showing top 1 row\n",
      "\n"
     ]
    }
   ],
   "source": [
    "vars_to_keep = ['popularity_final',\n",
    "                'acousticness',\n",
    "                'danceability',\n",
    "                'duration_min', \n",
    "                'energy',\n",
    "                'instrumentalness',\n",
    "                'liveness',\n",
    "                'loudness',\n",
    "                'speechiness',\n",
    "                'tempo',\n",
    "                'valence',\n",
    "                'year']\n",
    "\n",
    "# subset the dataframe on these predictors\n",
    "df1 = df1.select(vars_to_keep)\n",
    "df1.show(1)"
   ]
  },
  {
   "cell_type": "code",
   "execution_count": 499,
   "metadata": {},
   "outputs": [],
   "source": [
    "# Popularity_final V.S. Features\n",
    "features= ['acousticness',\n",
    "           'danceability',\n",
    "           'duration_min',\n",
    "           'energy', \n",
    "           'instrumentalness',\n",
    "           'liveness',\n",
    "           'loudness', \n",
    "           'speechiness',\n",
    "           'tempo',\n",
    "           'valence',\n",
    "           'year']\n",
    "\n",
    "assembler = VectorAssembler(\n",
    "    inputCols = features, \n",
    "    outputCol = \"features\") \n",
    "df1 = assembler.transform(df1)"
   ]
  },
  {
   "cell_type": "code",
   "execution_count": 500,
   "metadata": {},
   "outputs": [
    {
     "name": "stdout",
     "output_type": "stream",
     "text": [
      "+-----+--------------------+\n",
      "|label|            features|\n",
      "+-----+--------------------+\n",
      "| 0.12|[0.99099999666213...|\n",
      "| 0.07|[0.64300000667572...|\n",
      "| 0.04|[0.99299997091293...|\n",
      "| 0.17|[1.72999993083067...|\n",
      "| 0.02|[0.29499998688697...|\n",
      "+-----+--------------------+\n",
      "only showing top 5 rows\n",
      "\n"
     ]
    }
   ],
   "source": [
    "df1 = df1.select([\"popularity_final\",'features']) \\\n",
    "       .withColumnRenamed(\"popularity_final\", 'label')\n",
    "df1.show(5)"
   ]
  },
  {
   "cell_type": "code",
   "execution_count": 501,
   "metadata": {},
   "outputs": [],
   "source": [
    "## Feature scaling\n",
    "# Initialize the `standardScaler`\n",
    "standardScaler = StandardScaler(inputCol=\"features\", outputCol=\"features_scaled\", \n",
    "                                withStd=True, withMean=False)\n",
    "\n",
    "# Fit the DataFrame to the scaler; this computes the mean, standard deviation of each feature\n",
    "scaler = standardScaler.fit(df1)\n",
    "\n",
    "# Transform the data in `df2` with the scaler\n",
    "scaled_df1 = scaler.transform(df1)"
   ]
  },
  {
   "cell_type": "code",
   "execution_count": 502,
   "metadata": {},
   "outputs": [
    {
     "name": "stdout",
     "output_type": "stream",
     "text": [
      "+-----+--------------------+--------------------+\n",
      "|label|            features|     features_scaled|\n",
      "+-----+--------------------+--------------------+\n",
      "| 0.12|[0.99099999666213...|[2.54430893912201...|\n",
      "| 0.07|[0.64300000667572...|[1.65084830509672...|\n",
      "| 0.04|[0.99299997091293...|[2.54944370439088...|\n",
      "+-----+--------------------+--------------------+\n",
      "only showing top 3 rows\n",
      "\n"
     ]
    }
   ],
   "source": [
    "scaled_df1.show(3)"
   ]
  },
  {
   "cell_type": "code",
   "execution_count": 503,
   "metadata": {},
   "outputs": [],
   "source": [
    "# Split data into train set (80%), test set (20%) \n",
    "splits = scaled_df1.randomSplit([0.8, 0.2])\n",
    "train_df1 = splits[0]\n",
    "test_df1 = splits[1]"
   ]
  },
  {
   "cell_type": "code",
   "execution_count": 504,
   "metadata": {},
   "outputs": [
    {
     "name": "stdout",
     "output_type": "stream",
     "text": [
      "+-----+--------------------+--------------------+\n",
      "|label|            features|     features_scaled|\n",
      "+-----+--------------------+--------------------+\n",
      "|  0.0|[5.22000009368639...|[1.34019101365466...|\n",
      "|  0.0|[6.00999992457218...|[1.54301680965846...|\n",
      "|  0.0|[1.02999998489394...|[2.64443812077495...|\n",
      "+-----+--------------------+--------------------+\n",
      "only showing top 3 rows\n",
      "\n"
     ]
    }
   ],
   "source": [
    "train_df1.show(3)"
   ]
  },
  {
   "cell_type": "code",
   "execution_count": 511,
   "metadata": {},
   "outputs": [
    {
     "name": "stdout",
     "output_type": "stream",
     "text": [
      "Coefficients: [0.0,0.0,0.0,0.0,0.0,0.0,0.0,0.0,0.0,0.0,0.0]\n",
      "Intercept: 0.004598214285714286\n"
     ]
    }
   ],
   "source": [
    "lr = LinearRegression(featuresCol = 'features', labelCol='label',\n",
    "                      maxIter=10, regParam=0.3, elasticNetParam=0.8)\n",
    "model = lr.fit(train_df1)\n",
    "prediction = model.transform(test_df1)\n",
    "\n",
    "print(\"Coefficients: \" + str(lr_model.coefficients))\n",
    "print(\"Intercept: \" + str(lr_model.intercept))"
   ]
  },
  {
   "cell_type": "code",
   "execution_count": 512,
   "metadata": {},
   "outputs": [
    {
     "name": "stdout",
     "output_type": "stream",
     "text": [
      "RMSE: 0.016361\n",
      "r2: -0.000000\n"
     ]
    }
   ],
   "source": [
    "trainingSummary = lr_model.summary\n",
    "print(\"RMSE: %f\" % trainingSummary.rootMeanSquaredError)\n",
    "print(\"r2: %f\" % trainingSummary.r2)"
   ]
  },
  {
   "cell_type": "code",
   "execution_count": 513,
   "metadata": {},
   "outputs": [
    {
     "name": "stdout",
     "output_type": "stream",
     "text": [
      "MSE: 0.001\n"
     ]
    }
   ],
   "source": [
    "eval = RegressionEvaluator(labelCol='label', predictionCol='prediction', metricName = 'rmse')\n",
    "\n",
    "mse = eval.evaluate(prediction, {eval.metricName: 'mse'}) \n",
    "print(\"MSE: %.3f\" % mse)"
   ]
  },
  {
   "cell_type": "code",
   "execution_count": 514,
   "metadata": {},
   "outputs": [
    {
     "name": "stdout",
     "output_type": "stream",
     "text": [
      "RMSE error value:  0.025823800704823742\n"
     ]
    }
   ],
   "source": [
    "evaluator = RegressionEvaluator() \\\n",
    "                 .setPredictionCol(\"prediction\") \\\n",
    "                 .setLabelCol(\"label\") \\\n",
    "                 .setMetricName(\"rmse\")\n",
    "\n",
    "print(\"RMSE error value: \", evaluator.evaluate(prediction))"
   ]
  },
  {
   "cell_type": "markdown",
   "metadata": {},
   "source": [
    "## Naive Bayes"
   ]
  },
  {
   "cell_type": "code",
   "execution_count": 520,
   "metadata": {},
   "outputs": [],
   "source": [
    "from pyspark.mllib.classification import NaiveBayes, NaiveBayesModel\n"
   ]
  },
  {
   "cell_type": "code",
   "execution_count": 516,
   "metadata": {},
   "outputs": [],
   "source": [
    "# Split data into train set (80%), test set (20%) \n",
    "splits = scaled_df.randomSplit([0.8, 0.2])\n",
    "train_df2 = splits[0]\n",
    "test_df2 = splits[1]"
   ]
  },
  {
   "cell_type": "code",
   "execution_count": 517,
   "metadata": {},
   "outputs": [
    {
     "ename": "AttributeError",
     "evalue": "'NoneType' object has no attribute 'setCallSite'",
     "output_type": "error",
     "traceback": [
      "\u001b[0;31m---------------------------------------------------------------------------\u001b[0m",
      "\u001b[0;31mAttributeError\u001b[0m                            Traceback (most recent call last)",
      "\u001b[0;32m<ipython-input-517-f860bdbf94e0>\u001b[0m in \u001b[0;36m<module>\u001b[0;34m\u001b[0m\n\u001b[1;32m      1\u001b[0m \u001b[0;31m# Train a naive Bayes model.\u001b[0m\u001b[0;34m\u001b[0m\u001b[0;34m\u001b[0m\u001b[0;34m\u001b[0m\u001b[0m\n\u001b[0;32m----> 2\u001b[0;31m \u001b[0mmodel\u001b[0m \u001b[0;34m=\u001b[0m \u001b[0mNaiveBayes\u001b[0m\u001b[0;34m.\u001b[0m\u001b[0mtrain\u001b[0m\u001b[0;34m(\u001b[0m\u001b[0mtrain_df2\u001b[0m\u001b[0;34m,\u001b[0m \u001b[0;36m1.0\u001b[0m\u001b[0;34m)\u001b[0m\u001b[0;34m\u001b[0m\u001b[0;34m\u001b[0m\u001b[0m\n\u001b[0m",
      "\u001b[0;32m/opt/conda/lib/python3.7/site-packages/pyspark/mllib/classification.py\u001b[0m in \u001b[0;36mtrain\u001b[0;34m(cls, data, lambda_)\u001b[0m\n\u001b[1;32m    673\u001b[0m           \u001b[0;34m(\u001b[0m\u001b[0mdefault\u001b[0m\u001b[0;34m:\u001b[0m \u001b[0;36m1.0\u001b[0m\u001b[0;34m)\u001b[0m\u001b[0;34m\u001b[0m\u001b[0;34m\u001b[0m\u001b[0m\n\u001b[1;32m    674\u001b[0m         \"\"\"\n\u001b[0;32m--> 675\u001b[0;31m         \u001b[0mfirst\u001b[0m \u001b[0;34m=\u001b[0m \u001b[0mdata\u001b[0m\u001b[0;34m.\u001b[0m\u001b[0mfirst\u001b[0m\u001b[0;34m(\u001b[0m\u001b[0;34m)\u001b[0m\u001b[0;34m\u001b[0m\u001b[0;34m\u001b[0m\u001b[0m\n\u001b[0m\u001b[1;32m    676\u001b[0m         \u001b[0;32mif\u001b[0m \u001b[0;32mnot\u001b[0m \u001b[0misinstance\u001b[0m\u001b[0;34m(\u001b[0m\u001b[0mfirst\u001b[0m\u001b[0;34m,\u001b[0m \u001b[0mLabeledPoint\u001b[0m\u001b[0;34m)\u001b[0m\u001b[0;34m:\u001b[0m\u001b[0;34m\u001b[0m\u001b[0;34m\u001b[0m\u001b[0m\n\u001b[1;32m    677\u001b[0m             \u001b[0;32mraise\u001b[0m \u001b[0mValueError\u001b[0m\u001b[0;34m(\u001b[0m\u001b[0;34m\"`data` should be an RDD of LabeledPoint\"\u001b[0m\u001b[0;34m)\u001b[0m\u001b[0;34m\u001b[0m\u001b[0;34m\u001b[0m\u001b[0m\n",
      "\u001b[0;32m/opt/conda/lib/python3.7/site-packages/pyspark/sql/dataframe.py\u001b[0m in \u001b[0;36mfirst\u001b[0;34m(self)\u001b[0m\n\u001b[1;32m   1361\u001b[0m         \u001b[0mRow\u001b[0m\u001b[0;34m(\u001b[0m\u001b[0mage\u001b[0m\u001b[0;34m=\u001b[0m\u001b[0;36m2\u001b[0m\u001b[0;34m,\u001b[0m \u001b[0mname\u001b[0m\u001b[0;34m=\u001b[0m\u001b[0;34mu'Alice'\u001b[0m\u001b[0;34m)\u001b[0m\u001b[0;34m\u001b[0m\u001b[0;34m\u001b[0m\u001b[0m\n\u001b[1;32m   1362\u001b[0m         \"\"\"\n\u001b[0;32m-> 1363\u001b[0;31m         \u001b[0;32mreturn\u001b[0m \u001b[0mself\u001b[0m\u001b[0;34m.\u001b[0m\u001b[0mhead\u001b[0m\u001b[0;34m(\u001b[0m\u001b[0;34m)\u001b[0m\u001b[0;34m\u001b[0m\u001b[0;34m\u001b[0m\u001b[0m\n\u001b[0m\u001b[1;32m   1364\u001b[0m \u001b[0;34m\u001b[0m\u001b[0m\n\u001b[1;32m   1365\u001b[0m     \u001b[0;34m@\u001b[0m\u001b[0mignore_unicode_prefix\u001b[0m\u001b[0;34m\u001b[0m\u001b[0;34m\u001b[0m\u001b[0m\n",
      "\u001b[0;32m/opt/conda/lib/python3.7/site-packages/pyspark/sql/dataframe.py\u001b[0m in \u001b[0;36mhead\u001b[0;34m(self, n)\u001b[0m\n\u001b[1;32m   1349\u001b[0m         \"\"\"\n\u001b[1;32m   1350\u001b[0m         \u001b[0;32mif\u001b[0m \u001b[0mn\u001b[0m \u001b[0;32mis\u001b[0m \u001b[0;32mNone\u001b[0m\u001b[0;34m:\u001b[0m\u001b[0;34m\u001b[0m\u001b[0;34m\u001b[0m\u001b[0m\n\u001b[0;32m-> 1351\u001b[0;31m             \u001b[0mrs\u001b[0m \u001b[0;34m=\u001b[0m \u001b[0mself\u001b[0m\u001b[0;34m.\u001b[0m\u001b[0mhead\u001b[0m\u001b[0;34m(\u001b[0m\u001b[0;36m1\u001b[0m\u001b[0;34m)\u001b[0m\u001b[0;34m\u001b[0m\u001b[0;34m\u001b[0m\u001b[0m\n\u001b[0m\u001b[1;32m   1352\u001b[0m             \u001b[0;32mreturn\u001b[0m \u001b[0mrs\u001b[0m\u001b[0;34m[\u001b[0m\u001b[0;36m0\u001b[0m\u001b[0;34m]\u001b[0m \u001b[0;32mif\u001b[0m \u001b[0mrs\u001b[0m \u001b[0;32melse\u001b[0m \u001b[0;32mNone\u001b[0m\u001b[0;34m\u001b[0m\u001b[0;34m\u001b[0m\u001b[0m\n\u001b[1;32m   1353\u001b[0m         \u001b[0;32mreturn\u001b[0m \u001b[0mself\u001b[0m\u001b[0;34m.\u001b[0m\u001b[0mtake\u001b[0m\u001b[0;34m(\u001b[0m\u001b[0mn\u001b[0m\u001b[0;34m)\u001b[0m\u001b[0;34m\u001b[0m\u001b[0;34m\u001b[0m\u001b[0m\n",
      "\u001b[0;32m/opt/conda/lib/python3.7/site-packages/pyspark/sql/dataframe.py\u001b[0m in \u001b[0;36mhead\u001b[0;34m(self, n)\u001b[0m\n\u001b[1;32m   1351\u001b[0m             \u001b[0mrs\u001b[0m \u001b[0;34m=\u001b[0m \u001b[0mself\u001b[0m\u001b[0;34m.\u001b[0m\u001b[0mhead\u001b[0m\u001b[0;34m(\u001b[0m\u001b[0;36m1\u001b[0m\u001b[0;34m)\u001b[0m\u001b[0;34m\u001b[0m\u001b[0;34m\u001b[0m\u001b[0m\n\u001b[1;32m   1352\u001b[0m             \u001b[0;32mreturn\u001b[0m \u001b[0mrs\u001b[0m\u001b[0;34m[\u001b[0m\u001b[0;36m0\u001b[0m\u001b[0;34m]\u001b[0m \u001b[0;32mif\u001b[0m \u001b[0mrs\u001b[0m \u001b[0;32melse\u001b[0m \u001b[0;32mNone\u001b[0m\u001b[0;34m\u001b[0m\u001b[0;34m\u001b[0m\u001b[0m\n\u001b[0;32m-> 1353\u001b[0;31m         \u001b[0;32mreturn\u001b[0m \u001b[0mself\u001b[0m\u001b[0;34m.\u001b[0m\u001b[0mtake\u001b[0m\u001b[0;34m(\u001b[0m\u001b[0mn\u001b[0m\u001b[0;34m)\u001b[0m\u001b[0;34m\u001b[0m\u001b[0;34m\u001b[0m\u001b[0m\n\u001b[0m\u001b[1;32m   1354\u001b[0m \u001b[0;34m\u001b[0m\u001b[0m\n\u001b[1;32m   1355\u001b[0m     \u001b[0;34m@\u001b[0m\u001b[0mignore_unicode_prefix\u001b[0m\u001b[0;34m\u001b[0m\u001b[0;34m\u001b[0m\u001b[0m\n",
      "\u001b[0;32m/opt/conda/lib/python3.7/site-packages/pyspark/sql/dataframe.py\u001b[0m in \u001b[0;36mtake\u001b[0;34m(self, num)\u001b[0m\n\u001b[1;32m    637\u001b[0m         \u001b[0;34m[\u001b[0m\u001b[0mRow\u001b[0m\u001b[0;34m(\u001b[0m\u001b[0mage\u001b[0m\u001b[0;34m=\u001b[0m\u001b[0;36m2\u001b[0m\u001b[0;34m,\u001b[0m \u001b[0mname\u001b[0m\u001b[0;34m=\u001b[0m\u001b[0;34mu'Alice'\u001b[0m\u001b[0;34m)\u001b[0m\u001b[0;34m,\u001b[0m \u001b[0mRow\u001b[0m\u001b[0;34m(\u001b[0m\u001b[0mage\u001b[0m\u001b[0;34m=\u001b[0m\u001b[0;36m5\u001b[0m\u001b[0;34m,\u001b[0m \u001b[0mname\u001b[0m\u001b[0;34m=\u001b[0m\u001b[0;34mu'Bob'\u001b[0m\u001b[0;34m)\u001b[0m\u001b[0;34m]\u001b[0m\u001b[0;34m\u001b[0m\u001b[0;34m\u001b[0m\u001b[0m\n\u001b[1;32m    638\u001b[0m         \"\"\"\n\u001b[0;32m--> 639\u001b[0;31m         \u001b[0;32mreturn\u001b[0m \u001b[0mself\u001b[0m\u001b[0;34m.\u001b[0m\u001b[0mlimit\u001b[0m\u001b[0;34m(\u001b[0m\u001b[0mnum\u001b[0m\u001b[0;34m)\u001b[0m\u001b[0;34m.\u001b[0m\u001b[0mcollect\u001b[0m\u001b[0;34m(\u001b[0m\u001b[0;34m)\u001b[0m\u001b[0;34m\u001b[0m\u001b[0;34m\u001b[0m\u001b[0m\n\u001b[0m\u001b[1;32m    640\u001b[0m \u001b[0;34m\u001b[0m\u001b[0m\n\u001b[1;32m    641\u001b[0m     \u001b[0;34m@\u001b[0m\u001b[0mignore_unicode_prefix\u001b[0m\u001b[0;34m\u001b[0m\u001b[0;34m\u001b[0m\u001b[0m\n",
      "\u001b[0;32m/opt/conda/lib/python3.7/site-packages/pyspark/sql/dataframe.py\u001b[0m in \u001b[0;36mcollect\u001b[0;34m(self)\u001b[0m\n\u001b[1;32m    593\u001b[0m         \u001b[0;34m[\u001b[0m\u001b[0mRow\u001b[0m\u001b[0;34m(\u001b[0m\u001b[0mage\u001b[0m\u001b[0;34m=\u001b[0m\u001b[0;36m2\u001b[0m\u001b[0;34m,\u001b[0m \u001b[0mname\u001b[0m\u001b[0;34m=\u001b[0m\u001b[0;34mu'Alice'\u001b[0m\u001b[0;34m)\u001b[0m\u001b[0;34m,\u001b[0m \u001b[0mRow\u001b[0m\u001b[0;34m(\u001b[0m\u001b[0mage\u001b[0m\u001b[0;34m=\u001b[0m\u001b[0;36m5\u001b[0m\u001b[0;34m,\u001b[0m \u001b[0mname\u001b[0m\u001b[0;34m=\u001b[0m\u001b[0;34mu'Bob'\u001b[0m\u001b[0;34m)\u001b[0m\u001b[0;34m]\u001b[0m\u001b[0;34m\u001b[0m\u001b[0;34m\u001b[0m\u001b[0m\n\u001b[1;32m    594\u001b[0m         \"\"\"\n\u001b[0;32m--> 595\u001b[0;31m         \u001b[0;32mwith\u001b[0m \u001b[0mSCCallSiteSync\u001b[0m\u001b[0;34m(\u001b[0m\u001b[0mself\u001b[0m\u001b[0;34m.\u001b[0m\u001b[0m_sc\u001b[0m\u001b[0;34m)\u001b[0m \u001b[0;32mas\u001b[0m \u001b[0mcss\u001b[0m\u001b[0;34m:\u001b[0m\u001b[0;34m\u001b[0m\u001b[0;34m\u001b[0m\u001b[0m\n\u001b[0m\u001b[1;32m    596\u001b[0m             \u001b[0msock_info\u001b[0m \u001b[0;34m=\u001b[0m \u001b[0mself\u001b[0m\u001b[0;34m.\u001b[0m\u001b[0m_jdf\u001b[0m\u001b[0;34m.\u001b[0m\u001b[0mcollectToPython\u001b[0m\u001b[0;34m(\u001b[0m\u001b[0;34m)\u001b[0m\u001b[0;34m\u001b[0m\u001b[0;34m\u001b[0m\u001b[0m\n\u001b[1;32m    597\u001b[0m         \u001b[0;32mreturn\u001b[0m \u001b[0mlist\u001b[0m\u001b[0;34m(\u001b[0m\u001b[0m_load_from_socket\u001b[0m\u001b[0;34m(\u001b[0m\u001b[0msock_info\u001b[0m\u001b[0;34m,\u001b[0m \u001b[0mBatchedSerializer\u001b[0m\u001b[0;34m(\u001b[0m\u001b[0mPickleSerializer\u001b[0m\u001b[0;34m(\u001b[0m\u001b[0;34m)\u001b[0m\u001b[0;34m)\u001b[0m\u001b[0;34m)\u001b[0m\u001b[0;34m)\u001b[0m\u001b[0;34m\u001b[0m\u001b[0;34m\u001b[0m\u001b[0m\n",
      "\u001b[0;32m/opt/conda/lib/python3.7/site-packages/pyspark/traceback_utils.py\u001b[0m in \u001b[0;36m__enter__\u001b[0;34m(self)\u001b[0m\n\u001b[1;32m     70\u001b[0m     \u001b[0;32mdef\u001b[0m \u001b[0m__enter__\u001b[0m\u001b[0;34m(\u001b[0m\u001b[0mself\u001b[0m\u001b[0;34m)\u001b[0m\u001b[0;34m:\u001b[0m\u001b[0;34m\u001b[0m\u001b[0;34m\u001b[0m\u001b[0m\n\u001b[1;32m     71\u001b[0m         \u001b[0;32mif\u001b[0m \u001b[0mSCCallSiteSync\u001b[0m\u001b[0;34m.\u001b[0m\u001b[0m_spark_stack_depth\u001b[0m \u001b[0;34m==\u001b[0m \u001b[0;36m0\u001b[0m\u001b[0;34m:\u001b[0m\u001b[0;34m\u001b[0m\u001b[0;34m\u001b[0m\u001b[0m\n\u001b[0;32m---> 72\u001b[0;31m             \u001b[0mself\u001b[0m\u001b[0;34m.\u001b[0m\u001b[0m_context\u001b[0m\u001b[0;34m.\u001b[0m\u001b[0m_jsc\u001b[0m\u001b[0;34m.\u001b[0m\u001b[0msetCallSite\u001b[0m\u001b[0;34m(\u001b[0m\u001b[0mself\u001b[0m\u001b[0;34m.\u001b[0m\u001b[0m_call_site\u001b[0m\u001b[0;34m)\u001b[0m\u001b[0;34m\u001b[0m\u001b[0;34m\u001b[0m\u001b[0m\n\u001b[0m\u001b[1;32m     73\u001b[0m         \u001b[0mSCCallSiteSync\u001b[0m\u001b[0;34m.\u001b[0m\u001b[0m_spark_stack_depth\u001b[0m \u001b[0;34m+=\u001b[0m \u001b[0;36m1\u001b[0m\u001b[0;34m\u001b[0m\u001b[0;34m\u001b[0m\u001b[0m\n\u001b[1;32m     74\u001b[0m \u001b[0;34m\u001b[0m\u001b[0m\n",
      "\u001b[0;31mAttributeError\u001b[0m: 'NoneType' object has no attribute 'setCallSite'"
     ]
    }
   ],
   "source": [
    "# Train a naive Bayes model.\n",
    "model = NaiveBayes.train(train_df2, 1.0)"
   ]
  },
  {
   "cell_type": "code",
   "execution_count": null,
   "metadata": {},
   "outputs": [],
   "source": [
    "# Make prediction and test accuracy.\n",
    "labelsAndPreds = test.map(lambda p: (p.label, model.predict(p.features)))\n",
    "accuracy = 1.0 * labelsAndPreds.filter(lambda pl: pl[0] == pl[1]).count() / test_df2.count()\n",
    "print('model accuracy {}'.format(accuracy))"
   ]
  },
  {
   "cell_type": "markdown",
   "metadata": {},
   "source": [
    "## Random Forest"
   ]
  },
  {
   "cell_type": "code",
   "execution_count": null,
   "metadata": {},
   "outputs": [],
   "source": []
  },
  {
   "cell_type": "markdown",
   "metadata": {},
   "source": [
    "## Gradient-boosted tree regression"
   ]
  },
  {
   "cell_type": "code",
   "execution_count": null,
   "metadata": {},
   "outputs": [],
   "source": []
  }
 ],
 "metadata": {
  "kernelspec": {
   "display_name": "Python 3",
   "language": "python",
   "name": "python3"
  },
  "language_info": {
   "codemirror_mode": {
    "name": "ipython",
    "version": 3
   },
   "file_extension": ".py",
   "mimetype": "text/x-python",
   "name": "python",
   "nbconvert_exporter": "python",
   "pygments_lexer": "ipython3",
   "version": "3.7.3"
  }
 },
 "nbformat": 4,
 "nbformat_minor": 4
}
