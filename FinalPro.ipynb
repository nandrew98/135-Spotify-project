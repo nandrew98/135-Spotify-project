{
 "cells": [
  {
   "cell_type": "markdown",
   "metadata": {},
   "source": [
    "## Data cleaning "
   ]
  },
  {
   "cell_type": "markdown",
   "metadata": {},
   "source": [
    "**Import Modules**"
   ]
  },
  {
   "cell_type": "code",
   "execution_count": 1,
   "metadata": {},
   "outputs": [],
   "source": [
    "from pyspark.sql.session import SparkSession\n",
    "from pyspark.sql import functions as F\n",
    "\n",
    "from pyspark.ml import Pipeline\n",
    "from pyspark.ml.regression import LinearRegression\n",
    "from pyspark.ml.linalg import DenseVector\n",
    "from pyspark.ml.linalg import Vectors\n",
    "from pyspark.ml.feature import VectorAssembler, StandardScaler, PCA, OneHotEncoder, StringIndexer\n",
    "from pyspark.ml.evaluation import RegressionEvaluator\n",
    "from pyspark.ml.tuning import ParamGridBuilder, CrossValidator\n",
    "\n",
    "from pyspark.sql.types import IntegerType\n",
    "from pyspark.sql.types import FloatType\n",
    "from pyspark.sql.functions import isnan, when, count, col"
   ]
  },
  {
   "cell_type": "code",
   "execution_count": 2,
   "metadata": {},
   "outputs": [],
   "source": [
    "# Data Manipulation\n",
    "import numpy as np \n",
    "import pandas as pd"
   ]
  },
  {
   "cell_type": "code",
   "execution_count": 3,
   "metadata": {},
   "outputs": [],
   "source": [
    "import os\n",
    "spark = SparkSession.builder.getOrCreate()\n",
    "sc = spark.sparkContext"
   ]
  },
  {
   "cell_type": "markdown",
   "metadata": {},
   "source": [
    "**Read csv file**\n",
    "\n",
    "We first read in the data into a spark dataframe. We let spark automatically infer the schema and it does a good job of obtaining the correct columns."
   ]
  },
  {
   "cell_type": "code",
   "execution_count": 4,
   "metadata": {},
   "outputs": [],
   "source": [
    "filename = 'data.csv'\n",
    "df = spark.read.csv(filename, inferSchema=True, header = True)"
   ]
  },
  {
   "cell_type": "markdown",
   "metadata": {},
   "source": [
    "**Drop Variables**\n",
    "\n",
    "Since `id`, `name`, `release_date`, `key`, `explicit`, and `mode` are not related to our question, we drop these columns from our dataframe."
   ]
  },
  {
   "cell_type": "code",
   "execution_count": 5,
   "metadata": {},
   "outputs": [],
   "source": [
    "# Variables id, name, release_date are not related to our question.\n",
    "# Thus, droping all three.\n",
    "df = df.drop(\"id\", \"name\", \"release_date\",\"key\",\"explicit\",\"mode\")"
   ]
  },
  {
   "cell_type": "markdown",
   "metadata": {},
   "source": [
    "**Convert Data Type**\n",
    "\n",
    "We had to loop through the data frame and explicitly cast features as floats and ints, because the original schema assumed they were all strings."
   ]
  },
  {
   "cell_type": "code",
   "execution_count": 6,
   "metadata": {},
   "outputs": [],
   "source": [
    "floats = [\"acousticness\", \"danceability\", \"energy\", \"instrumentalness\", \"liveness\", \"loudness\",\n",
    "         \"speechiness\", \"tempo\", \"valence\"]\n",
    "for i in floats:\n",
    "        df = df.withColumn(i, df[i].cast(FloatType()))\n",
    "\n",
    "ints = [\"duration_ms\", \"popularity\", \"year\"]\n",
    "for i in ints:\n",
    "    df = df.withColumn(i, df[i].cast(IntegerType()))"
   ]
  },
  {
   "cell_type": "code",
   "execution_count": 7,
   "metadata": {},
   "outputs": [],
   "source": [
    "# With Correct Variable Type\n",
    "df.createOrReplaceTempView(\"df\")"
   ]
  },
  {
   "cell_type": "code",
   "execution_count": 8,
   "metadata": {},
   "outputs": [
    {
     "name": "stdout",
     "output_type": "stream",
     "text": [
      "root\n",
      " |-- acousticness: float (nullable = true)\n",
      " |-- artists: string (nullable = true)\n",
      " |-- danceability: float (nullable = true)\n",
      " |-- duration_ms: integer (nullable = true)\n",
      " |-- energy: float (nullable = true)\n",
      " |-- instrumentalness: float (nullable = true)\n",
      " |-- liveness: float (nullable = true)\n",
      " |-- loudness: float (nullable = true)\n",
      " |-- popularity: integer (nullable = true)\n",
      " |-- speechiness: float (nullable = true)\n",
      " |-- tempo: float (nullable = true)\n",
      " |-- valence: float (nullable = true)\n",
      " |-- year: integer (nullable = true)\n",
      "\n"
     ]
    }
   ],
   "source": [
    "df.printSchema()"
   ]
  },
  {
   "cell_type": "markdown",
   "metadata": {},
   "source": [
    "**Duplicates & Nulls**\n",
    "\n",
    "We clean the dataset by removing duplicate data and any row with null entries. In addition, we subset the data to only include songs that were released after 1950."
   ]
  },
  {
   "cell_type": "code",
   "execution_count": 9,
   "metadata": {},
   "outputs": [
    {
     "name": "stdout",
     "output_type": "stream",
     "text": [
      "Rows = 174389\n",
      "Distinct Rows = 170929\n"
     ]
    }
   ],
   "source": [
    "# Count rows and unique rows\n",
    "print('Rows = {}'.format(df.count()))\n",
    "print('Distinct Rows = {}'.format(df.distinct().count()))"
   ]
  },
  {
   "cell_type": "code",
   "execution_count": 10,
   "metadata": {},
   "outputs": [
    {
     "name": "stdout",
     "output_type": "stream",
     "text": [
      "The number of rows with duplicate data removed = 170929\n"
     ]
    }
   ],
   "source": [
    "# Check\n",
    "# Drop all duplicates \n",
    "df = df.dropDuplicates()\n",
    "print('The number of rows with duplicate data removed = {}'.format(df.count()))"
   ]
  },
  {
   "cell_type": "code",
   "execution_count": 11,
   "metadata": {},
   "outputs": [],
   "source": [
    "df = df.dropna()"
   ]
  },
  {
   "cell_type": "code",
   "execution_count": 12,
   "metadata": {
    "scrolled": true
   },
   "outputs": [
    {
     "name": "stdout",
     "output_type": "stream",
     "text": [
      "+------------+-------+------------+-----------+------+----------------+--------+--------+----------+-----------+-----+-------+----+\n",
      "|acousticness|artists|danceability|duration_ms|energy|instrumentalness|liveness|loudness|popularity|speechiness|tempo|valence|year|\n",
      "+------------+-------+------------+-----------+------+----------------+--------+--------+----------+-----------+-----+-------+----+\n",
      "|           0|      0|           0|          0|     0|               0|       0|       0|         0|          0|    0|      0|   0|\n",
      "+------------+-------+------------+-----------+------+----------------+--------+--------+----------+-----------+-----+-------+----+\n",
      "\n"
     ]
    }
   ],
   "source": [
    "# Check for NULL\n",
    "df.select([count(when(isnan(c), c)).alias(c) for c in df.columns]).show()"
   ]
  },
  {
   "cell_type": "code",
   "execution_count": 13,
   "metadata": {},
   "outputs": [],
   "source": [
    "df = df.where((df.popularity > 0))\n",
    "df = df.where((df.year > 1950))"
   ]
  },
  {
   "cell_type": "markdown",
   "metadata": {},
   "source": [
    "**Numeric Variables & Categorical Variables**\n",
    "\n",
    "We separated the numeric and categorical features in order to compare correlation between the numeric features and popularity."
   ]
  },
  {
   "cell_type": "code",
   "execution_count": 14,
   "metadata": {},
   "outputs": [],
   "source": [
    "num_cols = []\n",
    "cat_cols = []\n",
    "\n",
    "for s in df.schema:\n",
    "    data_type = str(s.dataType)\n",
    "    if data_type == \"StringType\":\n",
    "        cat_cols.append(s.name)\n",
    "    \n",
    "    #if data_type == \"FloatType\" or data_type == \"IntType\" or data_type ==\"String\":\n",
    "    else:\n",
    "        num_cols.append(s.name)"
   ]
  },
  {
   "cell_type": "code",
   "execution_count": 15,
   "metadata": {},
   "outputs": [
    {
     "name": "stdout",
     "output_type": "stream",
     "text": [
      "['acousticness', 'danceability', 'duration_ms', 'energy', 'instrumentalness', 'liveness', 'loudness', 'popularity', 'speechiness', 'tempo', 'valence', 'year']\n",
      "['artists']\n"
     ]
    }
   ],
   "source": [
    "print(num_cols)\n",
    "print(cat_cols)"
   ]
  },
  {
   "cell_type": "code",
   "execution_count": 16,
   "metadata": {},
   "outputs": [
    {
     "name": "stdout",
     "output_type": "stream",
     "text": [
      "Correlation to popularity for  acousticness -0.3027898785940275\n",
      "Correlation to popularity for  danceability 0.19697086166969174\n",
      "Correlation to popularity for  duration_ms 0.02557211028110442\n",
      "Correlation to popularity for  energy 0.21770844824875618\n",
      "Correlation to popularity for  instrumentalness -0.2247137393508837\n",
      "Correlation to popularity for  liveness -0.09836944674863705\n",
      "Correlation to popularity for  loudness 0.2892525963148474\n",
      "Correlation to popularity for  popularity 1.0\n",
      "Correlation to popularity for  speechiness 0.03657699101895756\n",
      "Correlation to popularity for  tempo 0.04520927436031897\n",
      "Correlation to popularity for  valence 0.02814491902318553\n",
      "Correlation to popularity for  year 0.47941627184567515\n"
     ]
    }
   ],
   "source": [
    "# Correlation\n",
    "import six\n",
    "for i in df.columns:\n",
    "    if not(isinstance(df.select(i).take(1)[0][0], six.string_types)):\n",
    "        print( \"Correlation to popularity for \", i, df.stat.corr('popularity',i))"
   ]
  },
  {
   "cell_type": "markdown",
   "metadata": {},
   "source": [
    "## EDA\n",
    "\n",
    "To explore the dataset, we convert the spark dataframe to pandas so we are able to utilize some of python's convienient data visualization packages."
   ]
  },
  {
   "cell_type": "code",
   "execution_count": 17,
   "metadata": {},
   "outputs": [
    {
     "data": {
      "text/html": [
       "<div>\n",
       "<style scoped>\n",
       "    .dataframe tbody tr th:only-of-type {\n",
       "        vertical-align: middle;\n",
       "    }\n",
       "\n",
       "    .dataframe tbody tr th {\n",
       "        vertical-align: top;\n",
       "    }\n",
       "\n",
       "    .dataframe thead th {\n",
       "        text-align: right;\n",
       "    }\n",
       "</style>\n",
       "<table border=\"1\" class=\"dataframe\">\n",
       "  <thead>\n",
       "    <tr style=\"text-align: right;\">\n",
       "      <th></th>\n",
       "      <th>acousticness</th>\n",
       "      <th>artists</th>\n",
       "      <th>danceability</th>\n",
       "      <th>duration_ms</th>\n",
       "      <th>energy</th>\n",
       "      <th>instrumentalness</th>\n",
       "      <th>liveness</th>\n",
       "      <th>loudness</th>\n",
       "      <th>popularity</th>\n",
       "      <th>speechiness</th>\n",
       "      <th>tempo</th>\n",
       "      <th>valence</th>\n",
       "      <th>year</th>\n",
       "    </tr>\n",
       "  </thead>\n",
       "  <tbody>\n",
       "    <tr>\n",
       "      <th>0</th>\n",
       "      <td>0.991</td>\n",
       "      <td>['Ahmad Jamal']</td>\n",
       "      <td>0.690</td>\n",
       "      <td>174573</td>\n",
       "      <td>0.1640</td>\n",
       "      <td>0.886000</td>\n",
       "      <td>0.1290</td>\n",
       "      <td>-18.657</td>\n",
       "      <td>23</td>\n",
       "      <td>0.0451</td>\n",
       "      <td>80.099998</td>\n",
       "      <td>0.579</td>\n",
       "      <td>1951</td>\n",
       "    </tr>\n",
       "    <tr>\n",
       "      <th>1</th>\n",
       "      <td>0.981</td>\n",
       "      <td>['Ahmad Jamal']</td>\n",
       "      <td>0.781</td>\n",
       "      <td>173987</td>\n",
       "      <td>0.1390</td>\n",
       "      <td>0.895000</td>\n",
       "      <td>0.1130</td>\n",
       "      <td>-18.382</td>\n",
       "      <td>14</td>\n",
       "      <td>0.0442</td>\n",
       "      <td>116.013000</td>\n",
       "      <td>0.331</td>\n",
       "      <td>1951</td>\n",
       "    </tr>\n",
       "    <tr>\n",
       "      <th>2</th>\n",
       "      <td>0.897</td>\n",
       "      <td>['Doris Day']</td>\n",
       "      <td>0.697</td>\n",
       "      <td>146333</td>\n",
       "      <td>0.3290</td>\n",
       "      <td>0.000000</td>\n",
       "      <td>0.1910</td>\n",
       "      <td>-10.142</td>\n",
       "      <td>19</td>\n",
       "      <td>0.0420</td>\n",
       "      <td>97.853996</td>\n",
       "      <td>0.749</td>\n",
       "      <td>1951</td>\n",
       "    </tr>\n",
       "    <tr>\n",
       "      <th>3</th>\n",
       "      <td>0.875</td>\n",
       "      <td>['Les Paul', 'Mary Ford']</td>\n",
       "      <td>0.300</td>\n",
       "      <td>179467</td>\n",
       "      <td>0.3790</td>\n",
       "      <td>0.000136</td>\n",
       "      <td>0.2060</td>\n",
       "      <td>-9.741</td>\n",
       "      <td>44</td>\n",
       "      <td>0.0503</td>\n",
       "      <td>71.308998</td>\n",
       "      <td>0.221</td>\n",
       "      <td>1952</td>\n",
       "    </tr>\n",
       "    <tr>\n",
       "      <th>4</th>\n",
       "      <td>0.889</td>\n",
       "      <td>['Cuco Sánchez']</td>\n",
       "      <td>0.569</td>\n",
       "      <td>194200</td>\n",
       "      <td>0.0507</td>\n",
       "      <td>0.000000</td>\n",
       "      <td>0.0679</td>\n",
       "      <td>-17.021</td>\n",
       "      <td>41</td>\n",
       "      <td>0.0540</td>\n",
       "      <td>117.579002</td>\n",
       "      <td>0.298</td>\n",
       "      <td>1954</td>\n",
       "    </tr>\n",
       "  </tbody>\n",
       "</table>\n",
       "</div>"
      ],
      "text/plain": [
       "   acousticness                    artists  danceability  duration_ms  energy  \\\n",
       "0         0.991            ['Ahmad Jamal']         0.690       174573  0.1640   \n",
       "1         0.981            ['Ahmad Jamal']         0.781       173987  0.1390   \n",
       "2         0.897              ['Doris Day']         0.697       146333  0.3290   \n",
       "3         0.875  ['Les Paul', 'Mary Ford']         0.300       179467  0.3790   \n",
       "4         0.889           ['Cuco Sánchez']         0.569       194200  0.0507   \n",
       "\n",
       "   instrumentalness  liveness  loudness  popularity  speechiness       tempo  \\\n",
       "0          0.886000    0.1290   -18.657          23       0.0451   80.099998   \n",
       "1          0.895000    0.1130   -18.382          14       0.0442  116.013000   \n",
       "2          0.000000    0.1910   -10.142          19       0.0420   97.853996   \n",
       "3          0.000136    0.2060    -9.741          44       0.0503   71.308998   \n",
       "4          0.000000    0.0679   -17.021          41       0.0540  117.579002   \n",
       "\n",
       "   valence  year  \n",
       "0    0.579  1951  \n",
       "1    0.331  1951  \n",
       "2    0.749  1951  \n",
       "3    0.221  1952  \n",
       "4    0.298  1954  "
      ]
     },
     "execution_count": 17,
     "metadata": {},
     "output_type": "execute_result"
    }
   ],
   "source": [
    "df_pandas = df.toPandas()\n",
    "df_pandas.head()"
   ]
  },
  {
   "cell_type": "markdown",
   "metadata": {},
   "source": [
    "### Examining Different Metrics Over the Years\n",
    "\n",
    "We were interested in seeing if there was a relationship between our song feature data and time. We aggregated the data by year and calculated the mean Danceability, Instrumentalness, Loudness, and Tempo of the songs released during each year from 1920 to 2020."
   ]
  },
  {
   "cell_type": "code",
   "execution_count": 18,
   "metadata": {},
   "outputs": [
    {
     "data": {
      "text/html": [
       "<div>\n",
       "<style scoped>\n",
       "    .dataframe tbody tr th:only-of-type {\n",
       "        vertical-align: middle;\n",
       "    }\n",
       "\n",
       "    .dataframe tbody tr th {\n",
       "        vertical-align: top;\n",
       "    }\n",
       "\n",
       "    .dataframe thead th {\n",
       "        text-align: right;\n",
       "    }\n",
       "</style>\n",
       "<table border=\"1\" class=\"dataframe\">\n",
       "  <thead>\n",
       "    <tr style=\"text-align: right;\">\n",
       "      <th></th>\n",
       "      <th>danceability</th>\n",
       "      <th>instrumentalness</th>\n",
       "      <th>loudness</th>\n",
       "      <th>tempo</th>\n",
       "    </tr>\n",
       "    <tr>\n",
       "      <th>year</th>\n",
       "      <th></th>\n",
       "      <th></th>\n",
       "      <th></th>\n",
       "      <th></th>\n",
       "    </tr>\n",
       "  </thead>\n",
       "  <tbody>\n",
       "    <tr>\n",
       "      <th>1951</th>\n",
       "      <td>0.490494</td>\n",
       "      <td>0.292065</td>\n",
       "      <td>-14.767863</td>\n",
       "      <td>112.525696</td>\n",
       "    </tr>\n",
       "    <tr>\n",
       "      <th>1952</th>\n",
       "      <td>0.488723</td>\n",
       "      <td>0.236367</td>\n",
       "      <td>-14.562872</td>\n",
       "      <td>111.201584</td>\n",
       "    </tr>\n",
       "    <tr>\n",
       "      <th>1953</th>\n",
       "      <td>0.462916</td>\n",
       "      <td>0.394446</td>\n",
       "      <td>-15.076856</td>\n",
       "      <td>113.514893</td>\n",
       "    </tr>\n",
       "    <tr>\n",
       "      <th>1954</th>\n",
       "      <td>0.466878</td>\n",
       "      <td>0.296898</td>\n",
       "      <td>-14.769774</td>\n",
       "      <td>108.901169</td>\n",
       "    </tr>\n",
       "    <tr>\n",
       "      <th>1955</th>\n",
       "      <td>0.492357</td>\n",
       "      <td>0.231569</td>\n",
       "      <td>-13.848489</td>\n",
       "      <td>111.257248</td>\n",
       "    </tr>\n",
       "  </tbody>\n",
       "</table>\n",
       "</div>"
      ],
      "text/plain": [
       "      danceability  instrumentalness   loudness       tempo\n",
       "year                                                       \n",
       "1951      0.490494          0.292065 -14.767863  112.525696\n",
       "1952      0.488723          0.236367 -14.562872  111.201584\n",
       "1953      0.462916          0.394446 -15.076856  113.514893\n",
       "1954      0.466878          0.296898 -14.769774  108.901169\n",
       "1955      0.492357          0.231569 -13.848489  111.257248"
      ]
     },
     "execution_count": 18,
     "metadata": {},
     "output_type": "execute_result"
    }
   ],
   "source": [
    "df_agg = df_pandas.groupby('year').agg({'danceability':'mean', 'instrumentalness':'mean', 'loudness':'mean', 'tempo':'mean'})\n",
    "df_agg.head()"
   ]
  },
  {
   "cell_type": "code",
   "execution_count": 19,
   "metadata": {},
   "outputs": [
    {
     "data": {
      "image/png": "[encoded data removed]",
      "text/plain": [
       "<Figure size 432x288 with 4 Axes>"
      ]
     },
     "metadata": {
      "needs_background": "light"
     },
     "output_type": "display_data"
    }
   ],
   "source": [
    "import seaborn as sns\n",
    "import matplotlib.pyplot as plt\n",
    "\n",
    "fig, axs = plt.subplots(2, 2)\n",
    "axs[0, 0].plot(df_agg.index, df_agg['danceability'])\n",
    "axs[0, 0].set_title('Danceability vs Year')\n",
    "axs[0, 1].plot(df_agg.index, df_agg['instrumentalness'], 'tab:orange')\n",
    "axs[0, 1].set_title('Instrumentalness vs Year')\n",
    "axs[1, 0].plot(df_agg.index, df_agg['loudness'], 'tab:green')\n",
    "axs[1, 0].set_title('Loudness vs Year')\n",
    "axs[1, 1].plot(df_agg.index, df_agg['tempo'], 'tab:red')\n",
    "axs[1, 1].set_title('Tempo vs Year')\n",
    "\n",
    "for ax in axs.flat:\n",
    "    ax.set(xlabel='Year', ylabel='Measure')\n",
    "\n",
    "# Hide x labels and tick labels for top plots and y ticks for right plots.\n",
    "for ax in axs.flat:\n",
    "    ax.label_outer()"
   ]
  },
  {
   "cell_type": "markdown",
   "metadata": {},
   "source": [
    "Danceability, loudness, and tempo each increased with time after about 1950 while instrumentalness decreased on average. This leads us to believe that certain types of music became more popular as the years passed."
   ]
  },
  {
   "cell_type": "markdown",
   "metadata": {},
   "source": [
    "### Exploring Distribution of Popularity\n",
    "\n",
    "We were interested in looking at the distribution of song popularity to see if our dataset was overly skewed by a certain value. "
   ]
  },
  {
   "cell_type": "code",
   "execution_count": 20,
   "metadata": {},
   "outputs": [
    {
     "name": "stderr",
     "output_type": "stream",
     "text": [
      "/Users/jasonyu/anaconda3/lib/python3.8/site-packages/seaborn/distributions.py:2557: FutureWarning: `distplot` is a deprecated function and will be removed in a future version. Please adapt your code to use either `displot` (a figure-level function with similar flexibility) or `histplot` (an axes-level function for histograms).\n",
      "  warnings.warn(msg, FutureWarning)\n"
     ]
    },
    {
     "data": {
      "image/png": "[encoded data removed]",
      "text/plain": [
       "<Figure size 432x288 with 1 Axes>"
      ]
     },
     "metadata": {
      "needs_background": "light"
     },
     "output_type": "display_data"
    }
   ],
   "source": [
    "sample_df = df.select(['popularity']).sample(False, 0.5, 42)\n",
    "sample_df = sample_df.toPandas()\n",
    "\n",
    "sns.distplot(sample_df)\n",
    "plt.xlabel('popularity') \n",
    "plt.show()"
   ]
  },
  {
   "cell_type": "markdown",
   "metadata": {},
   "source": [
    "Overall, there is no major skew observed and popularity seems evenly distributed. There is a spike of songs with low popularity that causes the distribution to have two peaks. We dealt with this by looking at the songs with 0 or close to 0 popularity and noticed these songs were all released around 1920 (the earliest date in the dataset). We subset the songs to only contain songs that were released after 1925 so we have a more evenly distributed distribution for the target variable."
   ]
  },
  {
   "cell_type": "markdown",
   "metadata": {},
   "source": [
    "## Linear Regression Model\n",
    "\n",
    "For our linear regression model, we scaled and standardized our features before combining them to a `VectorAssembler`. We then split the training and test dataset to a 80/20 split before fitting our model. We take the rmse and R-squared as metrics for model evaluation after testing on our test set."
   ]
  },
  {
   "cell_type": "markdown",
   "metadata": {},
   "source": [
    "**SCALING**"
   ]
  },
  {
   "cell_type": "code",
   "execution_count": 21,
   "metadata": {},
   "outputs": [],
   "source": [
    "import pyspark.sql.functions as func\n",
    "# Scale popularity\n",
    "df1 = df.withColumn('popularity_final',\n",
    "                   func.round(df['popularity']/100, 2)) \\\n",
    "        .withColumn('duration_min',\n",
    "                   func.round(df['duration_ms']/60000, 2))\\\n",
    "        .withColumn('instrumentalness_final',\n",
    "                   func.round(df['instrumentalness'] *1000, 2))"
   ]
  },
  {
   "cell_type": "markdown",
   "metadata": {},
   "source": [
    "**SELECT AND STANDARDIZE FEATURES**"
   ]
  },
  {
   "cell_type": "code",
   "execution_count": 22,
   "metadata": {},
   "outputs": [
    {
     "name": "stdout",
     "output_type": "stream",
     "text": [
      "+----------------+------------+------------+------------+------+----------------------+--------+--------+-----------+-----+-------+----+\n",
      "|popularity_final|acousticness|danceability|duration_min|energy|instrumentalness_final|liveness|loudness|speechiness|tempo|valence|year|\n",
      "+----------------+------------+------------+------------+------+----------------------+--------+--------+-----------+-----+-------+----+\n",
      "|            0.23|       0.991|        0.69|        2.91| 0.164|                 886.0|   0.129| -18.657|     0.0451| 80.1|  0.579|1951|\n",
      "+----------------+------------+------------+------------+------+----------------------+--------+--------+-----------+-----+-------+----+\n",
      "only showing top 1 row\n",
      "\n"
     ]
    }
   ],
   "source": [
    "vars_to_keep = ['popularity_final',\n",
    "                'acousticness',\n",
    "                'danceability',\n",
    "                'duration_min', \n",
    "                'energy',\n",
    "                'instrumentalness_final',\n",
    "                'liveness',\n",
    "                'loudness',\n",
    "                'speechiness',\n",
    "                'tempo',\n",
    "                'valence',\n",
    "                'year']\n",
    "\n",
    "# subset the dataframe on these predictors\n",
    "df1 = df1.select(vars_to_keep)\n",
    "df1.show(1)"
   ]
  },
  {
   "cell_type": "code",
   "execution_count": 23,
   "metadata": {},
   "outputs": [],
   "source": [
    "# Popularity_final V.S. Features\n",
    "features= ['acousticness',\n",
    "           'danceability',\n",
    "           'duration_min',\n",
    "           'energy', \n",
    "           'instrumentalness_final',\n",
    "           'liveness',\n",
    "           'loudness', \n",
    "           'speechiness',\n",
    "           'tempo',\n",
    "           'valence',\n",
    "           'year']\n",
    "\n",
    "assembler = VectorAssembler(\n",
    "    inputCols = features, \n",
    "    outputCol = \"features\") \n",
    "df1 = assembler.transform(df1)"
   ]
  },
  {
   "cell_type": "code",
   "execution_count": 24,
   "metadata": {},
   "outputs": [
    {
     "name": "stdout",
     "output_type": "stream",
     "text": [
      "+-----+--------------------+\n",
      "|label|            features|\n",
      "+-----+--------------------+\n",
      "| 0.23|[0.99099999666213...|\n",
      "| 0.14|[0.98100000619888...|\n",
      "| 0.19|[0.89700001478195...|\n",
      "| 0.44|[0.875,0.30000001...|\n",
      "| 0.41|[0.88899999856948...|\n",
      "+-----+--------------------+\n",
      "only showing top 5 rows\n",
      "\n"
     ]
    }
   ],
   "source": [
    "df1 = df1.select([\"popularity_final\",'features']) \\\n",
    "       .withColumnRenamed(\"popularity_final\", 'label')\n",
    "df1.show(5)"
   ]
  },
  {
   "cell_type": "code",
   "execution_count": 25,
   "metadata": {},
   "outputs": [],
   "source": [
    "## Feature scaling\n",
    "# Initialize the `standardScaler`\n",
    "standardScaler = StandardScaler(inputCol=\"features\", outputCol=\"features_scaled\", \n",
    "                                withStd=True, withMean=False)\n",
    "\n",
    "# Fit the DataFrame to the scaler; this computes the mean, standard deviation of each feature\n",
    "scaler = standardScaler.fit(df1)\n",
    "\n",
    "# Transform the data in `df2` with the scaler\n",
    "scaled_df = scaler.transform(df1)"
   ]
  },
  {
   "cell_type": "code",
   "execution_count": 26,
   "metadata": {},
   "outputs": [],
   "source": [
    "# Split data into train set (80%), test set (20%) \n",
    "seed = 314\n",
    "train_test = [0.8, 0.2]\n",
    "train_data, test_data = scaled_df.randomSplit(train_test, seed)"
   ]
  },
  {
   "cell_type": "code",
   "execution_count": 27,
   "metadata": {},
   "outputs": [
    {
     "name": "stdout",
     "output_type": "stream",
     "text": [
      "+-----+--------------------+--------------------+\n",
      "|label|            features|     features_scaled|\n",
      "+-----+--------------------+--------------------+\n",
      "| 0.01|[1.17000001864653...|[3.33226606158317...|\n",
      "| 0.01|[3.76999996660742...|[1.07373014877625...|\n",
      "| 0.01|[9.31999995373189...|[0.00265442043118...|\n",
      "+-----+--------------------+--------------------+\n",
      "only showing top 3 rows\n",
      "\n"
     ]
    }
   ],
   "source": [
    "train_data.show(3)"
   ]
  },
  {
   "cell_type": "code",
   "execution_count": 28,
   "metadata": {},
   "outputs": [],
   "source": [
    "train_df1 = train_data"
   ]
  },
  {
   "cell_type": "code",
   "execution_count": 29,
   "metadata": {},
   "outputs": [
    {
     "name": "stdout",
     "output_type": "stream",
     "text": [
      "Coefficients: [-0.04842300531556992,0.05358557620287193,0.002452016681405892,-0.07543727966945805,-9.940147463981474e-05,-0.09401758861974477,0.0032800158118337316,-0.04129346658570235,-4.8409029947023536e-05,-0.009394179751674264,0.003979083508693097]\n",
      "Intercept: -7.4367791399057\n"
     ]
    }
   ],
   "source": [
    "lr = LinearRegression(featuresCol = 'features', labelCol='label',\n",
    "                      maxIter=10, regParam=0.0, elasticNetParam=0 )\n",
    "model = lr.fit(train_df1)\n",
    "prediction = model.transform(test_data)\n",
    "\n",
    "print(\"Coefficients: \" + str(model.coefficients))\n",
    "print(\"Intercept: \" + str(model.intercept))"
   ]
  },
  {
   "cell_type": "code",
   "execution_count": 30,
   "metadata": {},
   "outputs": [
    {
     "name": "stdout",
     "output_type": "stream",
     "text": [
      "RMSE: 0.152632\n",
      "r2: 0.290996\n"
     ]
    }
   ],
   "source": [
    "trainingSummary = model.summary\n",
    "print(\"RMSE: %f\" % trainingSummary.rootMeanSquaredError)\n",
    "print(\"r2: %f\" % trainingSummary.r2)"
   ]
  },
  {
   "cell_type": "code",
   "execution_count": 31,
   "metadata": {},
   "outputs": [
    {
     "data": {
      "text/html": [
       "<div>\n",
       "<style scoped>\n",
       "    .dataframe tbody tr th:only-of-type {\n",
       "        vertical-align: middle;\n",
       "    }\n",
       "\n",
       "    .dataframe tbody tr th {\n",
       "        vertical-align: top;\n",
       "    }\n",
       "\n",
       "    .dataframe thead th {\n",
       "        text-align: right;\n",
       "    }\n",
       "</style>\n",
       "<table border=\"1\" class=\"dataframe\">\n",
       "  <thead>\n",
       "    <tr style=\"text-align: right;\">\n",
       "      <th></th>\n",
       "      <th>summary</th>\n",
       "      <th>label</th>\n",
       "    </tr>\n",
       "  </thead>\n",
       "  <tbody>\n",
       "    <tr>\n",
       "      <th>0</th>\n",
       "      <td>count</td>\n",
       "      <td>98598</td>\n",
       "    </tr>\n",
       "    <tr>\n",
       "      <th>1</th>\n",
       "      <td>mean</td>\n",
       "      <td>0.35590894338627593</td>\n",
       "    </tr>\n",
       "    <tr>\n",
       "      <th>2</th>\n",
       "      <td>stddev</td>\n",
       "      <td>0.18126865478510026</td>\n",
       "    </tr>\n",
       "    <tr>\n",
       "      <th>3</th>\n",
       "      <td>min</td>\n",
       "      <td>0.01</td>\n",
       "    </tr>\n",
       "    <tr>\n",
       "      <th>4</th>\n",
       "      <td>max</td>\n",
       "      <td>1.0</td>\n",
       "    </tr>\n",
       "  </tbody>\n",
       "</table>\n",
       "</div>"
      ],
      "text/plain": [
       "  summary                label\n",
       "0   count                98598\n",
       "1    mean  0.35590894338627593\n",
       "2  stddev  0.18126865478510026\n",
       "3     min                 0.01\n",
       "4     max                  1.0"
      ]
     },
     "execution_count": 31,
     "metadata": {},
     "output_type": "execute_result"
    }
   ],
   "source": [
    "train_data.describe().toPandas()"
   ]
  },
  {
   "cell_type": "code",
   "execution_count": 32,
   "metadata": {},
   "outputs": [
    {
     "name": "stdout",
     "output_type": "stream",
     "text": [
      "+-------------------+-----+--------------------+\n",
      "|         prediction|label|            features|\n",
      "+-------------------+-----+--------------------+\n",
      "| 0.5334659929488925| 0.01|[0.00875000003725...|\n",
      "| 0.3993435178441924| 0.01|[0.37099999189376...|\n",
      "|0.05602891256190645| 0.01|[0.99500000476837...|\n",
      "| 0.3230987250848747| 0.04|[0.00190999999176...|\n",
      "|0.26282140483273153| 0.04|[0.75300002098083...|\n",
      "+-------------------+-----+--------------------+\n",
      "only showing top 5 rows\n",
      "\n"
     ]
    }
   ],
   "source": [
    "prediction = model.transform(test_data)\n",
    "prediction.select(\"prediction\",\"label\",\"features\").show(5)"
   ]
  },
  {
   "cell_type": "code",
   "execution_count": 33,
   "metadata": {},
   "outputs": [
    {
     "name": "stdout",
     "output_type": "stream",
     "text": [
      "R Squared (R2) on test data = 0.284324\n"
     ]
    }
   ],
   "source": [
    "lr_evaluator = RegressionEvaluator(predictionCol=\"prediction\", \\\n",
    "                 labelCol=\"label\",metricName=\"r2\")\n",
    "print(\"R Squared (R2) on test data = %g\" % lr_evaluator.evaluate(prediction))"
   ]
  },
  {
   "cell_type": "code",
   "execution_count": 34,
   "metadata": {},
   "outputs": [
    {
     "name": "stdout",
     "output_type": "stream",
     "text": [
      "numIterations: 1\n",
      "objectiveHistory: [0.0]\n",
      "+--------------------+\n",
      "|           residuals|\n",
      "+--------------------+\n",
      "| -0.3456567102861381|\n",
      "|-0.46871693377393053|\n",
      "| -0.4052326978143268|\n",
      "| -0.3829102300496714|\n",
      "| -0.3766321811458855|\n",
      "| -0.4144099164501769|\n",
      "|-0.21113918764563588|\n",
      "| -0.4382435570953578|\n",
      "|-0.21602513561236283|\n",
      "|-0.21442958451613195|\n",
      "|-0.10719016559717832|\n",
      "| -0.1073889159903021|\n",
      "| -0.3873716553795321|\n",
      "| -0.4239581442661777|\n",
      "| -0.4373727327170347|\n",
      "| -0.4606898608427461|\n",
      "| -0.5023621026610015|\n",
      "| -0.4396224947202534|\n",
      "| -0.3442655349748414|\n",
      "|-0.47485021444807624|\n",
      "+--------------------+\n",
      "only showing top 20 rows\n",
      "\n"
     ]
    }
   ],
   "source": [
    "print(\"numIterations: %d\" % trainingSummary.totalIterations)\n",
    "print(\"objectiveHistory: %s\" % str(trainingSummary.objectiveHistory))\n",
    "trainingSummary.residuals.show()"
   ]
  },
  {
   "cell_type": "markdown",
   "metadata": {},
   "source": [
    "## Random Forest\n"
   ]
  },
  {
   "cell_type": "code",
   "execution_count": 35,
   "metadata": {},
   "outputs": [],
   "source": [
    "# IMPORT\n",
    "import numpy\n",
    "from numpy import allclose\n",
    "from pyspark.ml.linalg import Vectors\n",
    "from pyspark.ml.feature import StringIndexer\n",
    "from pyspark.ml.classification import RandomForestClassifier"
   ]
  },
  {
   "cell_type": "code",
   "execution_count": 36,
   "metadata": {},
   "outputs": [],
   "source": [
    "# PREPARE DATA\n",
    "stringIndexer = StringIndexer(inputCol=\"label\", outputCol=\"indexed\")\n",
    "si_model = stringIndexer.fit(df1)\n",
    "td = si_model.transform(df1)"
   ]
  },
  {
   "cell_type": "code",
   "execution_count": 37,
   "metadata": {},
   "outputs": [],
   "source": [
    "# BUILD THE MODEL\n",
    "rf = RandomForestClassifier(numTrees=11, maxDepth=2, labelCol=\"indexed\", seed=314)\n",
    "model = rf.fit(td)"
   ]
  },
  {
   "cell_type": "code",
   "execution_count": 38,
   "metadata": {},
   "outputs": [
    {
     "name": "stdout",
     "output_type": "stream",
     "text": [
      "(11,[0,3,4,6,7,10],[0.14972685915008468,0.09442190396143224,0.023789289206230333,0.07286467765959422,0.0032631725900500535,0.6559340974326084])\n"
     ]
    }
   ],
   "source": [
    "# FEATURE IMPORTANCES\n",
    "print(model.featureImportances)"
   ]
  },
  {
   "cell_type": "markdown",
   "metadata": {},
   "source": [
    "///////////////////////////////////////////////////////////////////////////////////////////////////////////////////////////////////////////////////////////////////////"
   ]
  },
  {
   "cell_type": "code",
   "execution_count": 39,
   "metadata": {},
   "outputs": [],
   "source": [
    "from pyspark.ml import Pipeline\n",
    "from pyspark.ml.regression import RandomForestRegressor\n",
    "from pyspark.ml.feature import VectorIndexer\n",
    "from pyspark.ml.evaluation import RegressionEvaluator\n",
    "from pyspark.mllib.util import MLUtils"
   ]
  },
  {
   "cell_type": "code",
   "execution_count": 40,
   "metadata": {},
   "outputs": [
    {
     "name": "stdout",
     "output_type": "stream",
     "text": [
      "+-------------------+-----+--------------------+\n",
      "|         prediction|label|            features|\n",
      "+-------------------+-----+--------------------+\n",
      "| 0.1935537043873065| 0.01|[1.17000001864653...|\n",
      "|0.36962268987021263| 0.01|[9.31999995373189...|\n",
      "|0.25683107438390407| 0.01|[0.98600000143051...|\n",
      "|0.13382424149686678| 0.01|[0.99000000953674...|\n",
      "| 0.1318715998377254| 0.02|[0.98199999332427...|\n",
      "+-------------------+-----+--------------------+\n",
      "only showing top 5 rows\n",
      "\n",
      "Root Mean Squared Error (RMSE) on test data = 0.141695\n",
      "R Squared (R2) on test data = 0.383617\n",
      "RandomForestRegressionModel: uid=RandomForestRegressor_a219ed6d73cb, numTrees=20, numFeatures=11\n"
     ]
    }
   ],
   "source": [
    "# Automatically identify categorical features, and index them.\n",
    "# Set maxCategories so features with > 4 distinct values are treated as continuous.\n",
    "featureIndexer = VectorIndexer(inputCol=\"features\", outputCol=\"indexedFeatures\", maxCategories=4).fit(df1)\n",
    "\n",
    "# Split the data into training and test sets (20% held out for testing)\n",
    "(trainingData, testData) = df1.randomSplit([0.8, 0.2])\n",
    "\n",
    "# Train a RandomForest model.\n",
    "rf = RandomForestRegressor(featuresCol=\"indexedFeatures\")\n",
    "\n",
    "# Chain indexer and forest in a Pipeline\n",
    "pipeline = Pipeline(stages=[featureIndexer, rf])\n",
    "\n",
    "# Train model.  This also runs the indexer.\n",
    "model = pipeline.fit(trainingData)\n",
    "\n",
    "# Make predictions.\n",
    "predictions = model.transform(testData)\n",
    "\n",
    "# Select example rows to display.\n",
    "predictions.select(\"prediction\", \"label\", \"features\").show(5)\n",
    "\n",
    "# Select (prediction, true label) and compute test error\n",
    "evaluator = RegressionEvaluator(\n",
    "    labelCol=\"label\", predictionCol=\"prediction\", metricName=\"rmse\")\n",
    "rmse = evaluator.evaluate(predictions)\n",
    "print (\"Root Mean Squared Error (RMSE) on test data = %g\" % rmse)\n",
    "\n",
    "\n",
    "r2_evaluator = RegressionEvaluator(predictionCol=\"prediction\", \\\n",
    "                 labelCol=\"label\",metricName=\"r2\")\n",
    "print(\"R Squared (R2) on test data = %g\" % r2_evaluator.evaluate(predictions))\n",
    "\n",
    "rfModel = model.stages[1]\n",
    "print (rfModel) # summary only"
   ]
  },
  {
   "cell_type": "markdown",
   "metadata": {},
   "source": [
    "## Decision Tree"
   ]
  },
  {
   "cell_type": "code",
   "execution_count": 41,
   "metadata": {},
   "outputs": [
    {
     "name": "stdout",
     "output_type": "stream",
     "text": [
      "Root Mean Squared Error (RMSE) on test data = 0.142023\n"
     ]
    }
   ],
   "source": [
    "from pyspark.ml.regression import DecisionTreeRegressor\n",
    "dt = DecisionTreeRegressor(featuresCol ='features', labelCol = 'label')\n",
    "model = dt.fit(train_data)\n",
    "prediction = model.transform(test_data)\n",
    "evaluator = RegressionEvaluator(\n",
    "    labelCol=\"label\", predictionCol=\"prediction\", metricName=\"rmse\")\n",
    "rmse = evaluator.evaluate(prediction)\n",
    "print(\"Root Mean Squared Error (RMSE) on test data = %g\" % rmse)"
   ]
  },
  {
   "cell_type": "code",
   "execution_count": 42,
   "metadata": {},
   "outputs": [
    {
     "data": {
      "text/plain": [
       "SparseVector(11, {0: 0.0143, 1: 0.0001, 2: 0.0308, 3: 0.0002, 4: 0.1231, 5: 0.0089, 6: 0.0226, 7: 0.0007, 10: 0.7994})"
      ]
     },
     "execution_count": 42,
     "metadata": {},
     "output_type": "execute_result"
    }
   ],
   "source": [
    "model.featureImportances"
   ]
  },
  {
   "cell_type": "code",
   "execution_count": 43,
   "metadata": {},
   "outputs": [
    {
     "data": {
      "text/plain": [
       "[Row(label=0.23, features=DenseVector([0.991, 0.69, 2.91, 0.164, 886.0, 0.129, -18.657, 0.0451, 80.1, 0.579, 1951.0]))]"
      ]
     },
     "execution_count": 43,
     "metadata": {},
     "output_type": "execute_result"
    }
   ],
   "source": [
    "df1.take(1)"
   ]
  },
  {
   "cell_type": "markdown",
   "metadata": {},
   "source": [
    "///////////////////////////////////////////////////////////////////////////////////////////////////////////////////////////////////////////////////////////////////////"
   ]
  },
  {
   "cell_type": "code",
   "execution_count": 44,
   "metadata": {},
   "outputs": [],
   "source": [
    "featureIndexer = VectorIndexer(inputCol = \"features\", outputCol = \"indexedFeatures\").fit(df1)\n",
    "\n",
    "(trainingData, testData) = df1.randomSplit([0.8, 0.2])\n",
    "\n",
    "dt = DecisionTreeRegressor(featuresCol ='features', labelCol = 'label')\n",
    "\n",
    "pipeline = Pipeline(stages =[featureIndexer, dt])\n",
    "\n",
    "model = pipeline.fit(trainingData)\n",
    "\n",
    "predictions = model.transform(testData)"
   ]
  },
  {
   "cell_type": "code",
   "execution_count": 45,
   "metadata": {},
   "outputs": [
    {
     "name": "stdout",
     "output_type": "stream",
     "text": [
      "+-------------------+-----+--------------------+\n",
      "|         prediction|label|            features|\n",
      "+-------------------+-----+--------------------+\n",
      "|0.41247964470762405| 0.01|[0.01090000011026...|\n",
      "|0.09241071428571428| 0.01|[0.99500000476837...|\n",
      "| 0.4504114049718053| 0.02|[0.01180000044405...|\n",
      "|0.09241071428571428| 0.02|[0.75999999046325...|\n",
      "|0.09241071428571428| 0.02|[0.98900002241134...|\n",
      "|0.32174107142857133| 0.04|[0.00190999999176...|\n",
      "|0.11648351648351644| 0.04|[0.75300002098083...|\n",
      "|0.09241071428571428| 0.05|[0.98699998855590...|\n",
      "| 0.4504114049718053| 0.08|[8.82999971508979...|\n",
      "| 0.5102080209895052| 0.08|[0.00639000022783...|\n",
      "+-------------------+-----+--------------------+\n",
      "only showing top 10 rows\n",
      "\n",
      "Root Mean Squared Error (RMSE) on test data = 0.141841\n",
      "R Squared (R2) on test data = 0.382904\n",
      "DecisionTreeRegressionModel: uid=DecisionTreeRegressor_20701385767f, depth=5, numNodes=63, numFeatures=11\n"
     ]
    }
   ],
   "source": [
    "predictions.select(\"prediction\", \"label\", \"features\").show(10)\n",
    "\n",
    "# Select (prediction, true label) and compute test error\n",
    "evaluator = RegressionEvaluator(\n",
    "    labelCol=\"label\", predictionCol=\"prediction\", metricName=\"rmse\")\n",
    "rmse = evaluator.evaluate(predictions)\n",
    "print(\"Root Mean Squared Error (RMSE) on test data = %g\" % rmse)\n",
    "\n",
    "r2_evaluator = RegressionEvaluator(predictionCol=\"prediction\", \\\n",
    "                 labelCol=\"label\",metricName=\"r2\")\n",
    "print(\"R Squared (R2) on test data = %g\" % r2_evaluator.evaluate(predictions))\n",
    "\n",
    "treeModel = model.stages[1]\n",
    "# summary only\n",
    "print(treeModel)"
   ]
  },
  {
   "cell_type": "markdown",
   "metadata": {},
   "source": [
    "## Gradient-boosted Tree Regression"
   ]
  },
  {
   "cell_type": "code",
   "execution_count": 46,
   "metadata": {},
   "outputs": [
    {
     "name": "stdout",
     "output_type": "stream",
     "text": [
      "+-------------------+-----+--------------------+\n",
      "|         prediction|label|            features|\n",
      "+-------------------+-----+--------------------+\n",
      "|0.40814226447190466| 0.01|[0.00875000003725...|\n",
      "| 0.2963777096582782| 0.01|[0.37099999189376...|\n",
      "|0.08113530171405643| 0.01|[0.99500000476837...|\n",
      "| 0.3865071716729513| 0.04|[0.00190999999176...|\n",
      "|0.12370414456905021| 0.04|[0.75300002098083...|\n",
      "+-------------------+-----+--------------------+\n",
      "only showing top 5 rows\n",
      "\n"
     ]
    }
   ],
   "source": [
    "from pyspark.ml.regression import GBTRegressor\n",
    "gbt = GBTRegressor(featuresCol = 'features', labelCol = 'label', maxIter=10,\n",
    "                   maxDepth=5, )\n",
    "gbt_model = gbt.fit(train_data)\n",
    "gbt_predictions = gbt_model.transform(test_data)\n",
    "gbt_predictions.select('prediction', 'label', 'features').show(5)"
   ]
  },
  {
   "cell_type": "code",
   "execution_count": 47,
   "metadata": {},
   "outputs": [
    {
     "name": "stdout",
     "output_type": "stream",
     "text": [
      "Root Mean Squared Error (RMSE) on test data = 0.135898\n"
     ]
    }
   ],
   "source": [
    "gbt_evaluator = RegressionEvaluator(\n",
    "    labelCol=\"label\", predictionCol=\"prediction\", metricName=\"rmse\")\n",
    "rmse = gbt_evaluator.evaluate(gbt_predictions)\n",
    "print(\"Root Mean Squared Error (RMSE) on test data = %g\" % rmse)"
   ]
  },
  {
   "cell_type": "markdown",
   "metadata": {},
   "source": [
    "///////////////////////////////////////////////////////////////////////////////////////////////////////////////////////////////////////////////////////////////////////"
   ]
  },
  {
   "cell_type": "code",
   "execution_count": 48,
   "metadata": {},
   "outputs": [],
   "source": [
    "featureIndexer = VectorIndexer(inputCol = \"features\", outputCol = \"indexedFeatures\").fit(df1)\n",
    "\n",
    "(trainingData, testData) = df1.randomSplit([0.8, 0.2])\n",
    "\n",
    "gbt = GBTRegressor(featuresCol = 'features', labelCol = 'label', maxIter=10, maxDepth = 10)\n",
    "\n",
    "pipeline = Pipeline(stages =[featureIndexer, gbt])\n",
    "\n",
    "model = pipeline.fit(trainingData)\n",
    "\n",
    "predictions = model.transform(testData)"
   ]
  },
  {
   "cell_type": "code",
   "execution_count": 49,
   "metadata": {},
   "outputs": [
    {
     "name": "stdout",
     "output_type": "stream",
     "text": [
      "+--------------------+-----+--------------------+\n",
      "|          prediction|label|            features|\n",
      "+--------------------+-----+--------------------+\n",
      "| 0.26330722456257916| 0.01|[3.76999996660742...|\n",
      "|  0.2436701349473012| 0.01|[0.00875000003725...|\n",
      "|-0.07190302751246969| 0.01|[0.37099999189376...|\n",
      "|  0.3267052807974761| 0.02|[0.01180000044405...|\n",
      "| 0.10627520187706231| 0.02|[0.98199999332427...|\n",
      "| 0.10260881755739693| 0.02|[0.98900002241134...|\n",
      "| 0.10189960186436517| 0.02|[0.98900002241134...|\n",
      "|0.043436285112653655| 0.05|[0.79400002956390...|\n",
      "| 0.10810036505228264| 0.05|[0.95899999141693...|\n",
      "|0.018545291269823305| 0.07|[0.00400000018998...|\n",
      "+--------------------+-----+--------------------+\n",
      "only showing top 10 rows\n",
      "\n",
      "Root Mean Squared Error (RMSE) on test data = 0.132945\n",
      "R Squared (R2) on test data = 0.46585\n"
     ]
    }
   ],
   "source": [
    "predictions.select(\"prediction\", \"label\", \"features\").show(10)\n",
    "\n",
    "# Select (prediction, true label) and compute test error\n",
    "evaluator = RegressionEvaluator(\n",
    "    labelCol=\"label\", predictionCol=\"prediction\", metricName=\"rmse\")\n",
    "rmse = evaluator.evaluate(predictions)\n",
    "print(\"Root Mean Squared Error (RMSE) on test data = %g\" % rmse)\n",
    "\n",
    "r2_evaluator = RegressionEvaluator(predictionCol=\"prediction\", \\\n",
    "                 labelCol=\"label\",metricName=\"r2\")\n",
    "print(\"R Squared (R2) on test data = %g\" % r2_evaluator.evaluate(predictions))"
   ]
  },
  {
   "cell_type": "code",
   "execution_count": null,
   "metadata": {},
   "outputs": [],
   "source": []
  }
 ],
 "metadata": {
  "kernelspec": {
   "display_name": "Python 3",
   "language": "python",
   "name": "python3"
  },
  "language_info": {
   "codemirror_mode": {
    "name": "ipython",
    "version": 3
   },
   "file_extension": ".py",
   "mimetype": "text/x-python",
   "name": "python",
   "nbconvert_exporter": "python",
   "pygments_lexer": "ipython3",
   "version": "3.8.8"
  }
 },
 "nbformat": 4,
 "nbformat_minor": 4
}
