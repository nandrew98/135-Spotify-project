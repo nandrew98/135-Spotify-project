{
 "cells": [
  {
   "cell_type": "markdown",
   "metadata": {},
   "source": [
    "# Directly creating spark dataframe"
   ]
  },
  {
   "cell_type": "markdown",
   "metadata": {},
   "source": [
    "### Possible research question: Predict song popularity"
   ]
  },
  {
   "cell_type": "markdown",
   "metadata": {},
   "source": [
    "### Data cleaning "
   ]
  },
  {
   "cell_type": "code",
   "execution_count": 1,
   "metadata": {},
   "outputs": [],
   "source": [
    "import os\n",
    "import pyspark.sql.types as typ\n",
    "import pyspark.sql.functions as F\n",
    "\n",
    "from pyspark.sql import SparkSession\n",
    "spark= SparkSession.builder.getOrCreate()\n",
    "sc = spark.sparkContext"
   ]
  },
  {
   "cell_type": "code",
   "execution_count": 2,
   "metadata": {},
   "outputs": [],
   "source": [
    "data_file = 'data.csv'"
   ]
  },
  {
   "cell_type": "code",
   "execution_count": 3,
   "metadata": {},
   "outputs": [],
   "source": [
    "df = spark.read.csv(data_file, header=True)"
   ]
  },
  {
   "cell_type": "code",
   "execution_count": 4,
   "metadata": {},
   "outputs": [
    {
     "data": {
      "text/plain": [
       "pyspark.sql.dataframe.DataFrame"
      ]
     },
     "execution_count": 4,
     "metadata": {},
     "output_type": "execute_result"
    }
   ],
   "source": [
    "type(df)"
   ]
  },
  {
   "cell_type": "code",
   "execution_count": 5,
   "metadata": {},
   "outputs": [],
   "source": [
    "#converting columns to appropriate types\n",
    "from pyspark.sql.types import IntegerType\n",
    "from pyspark.sql.types import FloatType\n",
    "\n",
    "floats = [\"acousticness\", \"danceability\", \"energy\", \"instrumentalness\", \"liveness\", \"loudness\",\n",
    "         \"speechiness\", \"tempo\", \"valence\"]\n",
    "for i in floats:\n",
    "        df = df.withColumn(i, df[i].cast(FloatType()))\n",
    "\n",
    "ints = [\"duration_ms\", \"explicit\", \"key\", \"mode\", \"popularity\", \"year\"]\n",
    "for i in ints:\n",
    "    df = df.withColumn(i, df[i].cast(IntegerType()))"
   ]
  },
  {
   "cell_type": "code",
   "execution_count": 6,
   "metadata": {},
   "outputs": [
    {
     "data": {
      "text/plain": [
       "DataFrame[acousticness: float, artists: string, danceability: float, duration_ms: int, energy: float, explicit: int, id: string, instrumentalness: float, key: int, liveness: float, loudness: float, mode: int, name: string, popularity: int, release_date: string, speechiness: float, tempo: float, valence: float, year: int]"
      ]
     },
     "execution_count": 6,
     "metadata": {},
     "output_type": "execute_result"
    }
   ],
   "source": [
    "df"
   ]
  },
  {
   "cell_type": "code",
   "execution_count": 7,
   "metadata": {},
   "outputs": [],
   "source": [
    "df.createOrReplaceTempView(\"df\")"
   ]
  },
  {
   "cell_type": "code",
   "execution_count": 8,
   "metadata": {},
   "outputs": [
    {
     "name": "stdout",
     "output_type": "stream",
     "text": [
      "+------------+--------------------+------------+-----------+------+--------+--------------------+----------------+---+--------+--------+----+--------------------+----------+------------+-----------+-------+-------+----+\n",
      "|acousticness|             artists|danceability|duration_ms|energy|explicit|                  id|instrumentalness|key|liveness|loudness|mode|                name|popularity|release_date|speechiness|  tempo|valence|year|\n",
      "+------------+--------------------+------------+-----------+------+--------+--------------------+----------------+---+--------+--------+----+--------------------+----------+------------+-----------+-------+-------+----+\n",
      "|       0.991|     ['Mamie Smith']|       0.598|     168333| 0.224|       0|0cS0A1fUEUd1EW3Fc...|         5.22E-4|  5|   0.379| -12.628|   0|Keep A Song In Yo...|        12|        1920|     0.0936|149.976|  0.634|1920|\n",
      "|       0.643|\"[\"\"Screamin' Jay...|       0.852|     150200| 0.517|       0|0hbkKFIJm7Z05H8Zl...|          0.0264|  5|  0.0809|  -7.261|   0|I Put A Spell On You|         7|  1920-01-05|     0.0534| 86.889|   0.95|1920|\n",
      "|       0.993|     ['Mamie Smith']|       0.647|     163827| 0.186|       0|11m7laMUgmOKqI3oY...|         1.76E-5|  0|   0.519| -12.098|   1|        Golfing Papa|         4|        1920|      0.174|   97.6|  0.689|1920|\n",
      "|     1.73E-4| ['Oscar Velazquez']|        0.73|     422087| 0.798|       0|19Lc5SfJJ5O1oaxY0...|           0.801|  2|   0.128|  -7.311|   1|True House Music ...|        17|  1920-01-01|     0.0425|127.997| 0.0422|1920|\n",
      "|       0.295|            ['Mixe']|       0.704|     165224| 0.707|       1|2hJjbsLCytGsnAHfd...|         2.46E-4| 10|   0.402|  -6.036|   0|           Xuniverxe|         2|  1920-10-01|     0.0768|122.076|  0.299|1920|\n",
      "+------------+--------------------+------------+-----------+------+--------+--------------------+----------------+---+--------+--------+----+--------------------+----------+------------+-----------+-------+-------+----+\n",
      "only showing top 5 rows\n",
      "\n"
     ]
    }
   ],
   "source": [
    "spark.sql(\"select * from df\").show(5)"
   ]
  },
  {
   "cell_type": "code",
   "execution_count": 9,
   "metadata": {},
   "outputs": [
    {
     "name": "stdout",
     "output_type": "stream",
     "text": [
      "root\n",
      " |-- acousticness: float (nullable = true)\n",
      " |-- artists: string (nullable = true)\n",
      " |-- danceability: float (nullable = true)\n",
      " |-- duration_ms: integer (nullable = true)\n",
      " |-- energy: float (nullable = true)\n",
      " |-- explicit: integer (nullable = true)\n",
      " |-- id: string (nullable = true)\n",
      " |-- instrumentalness: float (nullable = true)\n",
      " |-- key: integer (nullable = true)\n",
      " |-- liveness: float (nullable = true)\n",
      " |-- loudness: float (nullable = true)\n",
      " |-- mode: integer (nullable = true)\n",
      " |-- name: string (nullable = true)\n",
      " |-- popularity: integer (nullable = true)\n",
      " |-- release_date: string (nullable = true)\n",
      " |-- speechiness: float (nullable = true)\n",
      " |-- tempo: float (nullable = true)\n",
      " |-- valence: float (nullable = true)\n",
      " |-- year: integer (nullable = true)\n",
      "\n"
     ]
    }
   ],
   "source": [
    "df.printSchema()"
   ]
  },
  {
   "cell_type": "code",
   "execution_count": 10,
   "metadata": {},
   "outputs": [
    {
     "name": "stdout",
     "output_type": "stream",
     "text": [
      "+------------+--------------------+------------+-----------+------+--------+--------------------+----------------+---+--------+--------+----+--------------------+----------+------------+-----------+-------+-------+----+\n",
      "|acousticness|             artists|danceability|duration_ms|energy|explicit|                  id|instrumentalness|key|liveness|loudness|mode|                name|popularity|release_date|speechiness|  tempo|valence|year|\n",
      "+------------+--------------------+------------+-----------+------+--------+--------------------+----------------+---+--------+--------+----+--------------------+----------+------------+-----------+-------+-------+----+\n",
      "|       0.991|     ['Mamie Smith']|       0.598|     168333| 0.224|       0|0cS0A1fUEUd1EW3Fc...|         5.22E-4|  5|   0.379| -12.628|   0|Keep A Song In Yo...|        12|        1920|     0.0936|149.976|  0.634|1920|\n",
      "|       0.643|\"[\"\"Screamin' Jay...|       0.852|     150200| 0.517|       0|0hbkKFIJm7Z05H8Zl...|          0.0264|  5|  0.0809|  -7.261|   0|I Put A Spell On You|         7|  1920-01-05|     0.0534| 86.889|   0.95|1920|\n",
      "|       0.993|     ['Mamie Smith']|       0.647|     163827| 0.186|       0|11m7laMUgmOKqI3oY...|         1.76E-5|  0|   0.519| -12.098|   1|        Golfing Papa|         4|        1920|      0.174|   97.6|  0.689|1920|\n",
      "|     1.73E-4| ['Oscar Velazquez']|        0.73|     422087| 0.798|       0|19Lc5SfJJ5O1oaxY0...|           0.801|  2|   0.128|  -7.311|   1|True House Music ...|        17|  1920-01-01|     0.0425|127.997| 0.0422|1920|\n",
      "|       0.295|            ['Mixe']|       0.704|     165224| 0.707|       1|2hJjbsLCytGsnAHfd...|         2.46E-4| 10|   0.402|  -6.036|   0|           Xuniverxe|         2|  1920-10-01|     0.0768|122.076|  0.299|1920|\n",
      "+------------+--------------------+------------+-----------+------+--------+--------------------+----------------+---+--------+--------+----+--------------------+----------+------------+-----------+-------+-------+----+\n",
      "only showing top 5 rows\n",
      "\n"
     ]
    }
   ],
   "source": [
    "df.show(5)"
   ]
  },
  {
   "cell_type": "code",
   "execution_count": 11,
   "metadata": {},
   "outputs": [],
   "source": [
    "#id is not useful, name of the song is not useful, and release date can be replaced by year. drop all three\n",
    "df = df.drop(\"id\", \"name\", \"release_date\")"
   ]
  },
  {
   "cell_type": "code",
   "execution_count": 12,
   "metadata": {},
   "outputs": [
    {
     "name": "stdout",
     "output_type": "stream",
     "text": [
      "+------------+--------------------+------------+-----------+------+--------+----------------+---+--------+--------+----+----------+-----------+-------+-------+----+\n",
      "|acousticness|             artists|danceability|duration_ms|energy|explicit|instrumentalness|key|liveness|loudness|mode|popularity|speechiness|  tempo|valence|year|\n",
      "+------------+--------------------+------------+-----------+------+--------+----------------+---+--------+--------+----+----------+-----------+-------+-------+----+\n",
      "|       0.991|     ['Mamie Smith']|       0.598|     168333| 0.224|       0|         5.22E-4|  5|   0.379| -12.628|   0|        12|     0.0936|149.976|  0.634|1920|\n",
      "|       0.643|\"[\"\"Screamin' Jay...|       0.852|     150200| 0.517|       0|          0.0264|  5|  0.0809|  -7.261|   0|         7|     0.0534| 86.889|   0.95|1920|\n",
      "|       0.993|     ['Mamie Smith']|       0.647|     163827| 0.186|       0|         1.76E-5|  0|   0.519| -12.098|   1|         4|      0.174|   97.6|  0.689|1920|\n",
      "|     1.73E-4| ['Oscar Velazquez']|        0.73|     422087| 0.798|       0|           0.801|  2|   0.128|  -7.311|   1|        17|     0.0425|127.997| 0.0422|1920|\n",
      "|       0.295|            ['Mixe']|       0.704|     165224| 0.707|       1|         2.46E-4| 10|   0.402|  -6.036|   0|         2|     0.0768|122.076|  0.299|1920|\n",
      "+------------+--------------------+------------+-----------+------+--------+----------------+---+--------+--------+----+----------+-----------+-------+-------+----+\n",
      "only showing top 5 rows\n",
      "\n"
     ]
    }
   ],
   "source": [
    "#artists is the only remaining categorical feature\n",
    "df.show(5)"
   ]
  },
  {
   "cell_type": "code",
   "execution_count": 13,
   "metadata": {},
   "outputs": [
    {
     "name": "stdout",
     "output_type": "stream",
     "text": [
      "rows=174389\n",
      "distinct rows=170930\n"
     ]
    }
   ],
   "source": [
    "#count rows and unique rows\n",
    "print('rows={}'.format(df.count()))\n",
    "print('distinct rows={}'.format(df.distinct().count()))"
   ]
  },
  {
   "cell_type": "code",
   "execution_count": 14,
   "metadata": {},
   "outputs": [],
   "source": [
    "#drop all duplicates\n",
    "df = df.dropDuplicates()\n"
   ]
  },
  {
   "cell_type": "code",
   "execution_count": 15,
   "metadata": {},
   "outputs": [
    {
     "name": "stdout",
     "output_type": "stream",
     "text": [
      "+------------+-------+------------+-----------+------+--------+----------------+---+--------+--------+----+----------+-----------+-----+-------+----+\n",
      "|acousticness|artists|danceability|duration_ms|energy|explicit|instrumentalness|key|liveness|loudness|mode|popularity|speechiness|tempo|valence|year|\n",
      "+------------+-------+------------+-----------+------+--------+----------------+---+--------+--------+----+----------+-----------+-----+-------+----+\n",
      "|           0|      0|           0|          0|     0|       0|               0|  0|       0|       0|   0|         0|          0|    0|      0|   0|\n",
      "+------------+-------+------------+-----------+------+--------+----------------+---+--------+--------+----+----------+-----------+-----+-------+----+\n",
      "\n"
     ]
    }
   ],
   "source": [
    "#check for nulls\n",
    "from pyspark.sql.functions import isnan, when, count, col\n",
    "\n",
    "df.select([count(when(isnan(c), c)).alias(c) for c in df.columns]).show()"
   ]
  },
  {
   "cell_type": "code",
   "execution_count": 16,
   "metadata": {},
   "outputs": [],
   "source": [
    "num_cols = []\n",
    "cat_cols = []\n",
    "\n",
    "for s in df.schema:\n",
    "    data_type = str(s.dataType)\n",
    "    if data_type == \"StringType\":\n",
    "        cat_cols.append(s.name)\n",
    "    \n",
    "    #if data_type == \"FloatType\" or data_type == \"IntType\" or data_type ==\"String\":\n",
    "    else:\n",
    "        num_cols.append(s.name)"
   ]
  },
  {
   "cell_type": "code",
   "execution_count": 17,
   "metadata": {},
   "outputs": [
    {
     "data": {
      "text/plain": [
       "['acousticness',\n",
       " 'danceability',\n",
       " 'duration_ms',\n",
       " 'energy',\n",
       " 'explicit',\n",
       " 'instrumentalness',\n",
       " 'key',\n",
       " 'liveness',\n",
       " 'loudness',\n",
       " 'mode',\n",
       " 'popularity',\n",
       " 'speechiness',\n",
       " 'tempo',\n",
       " 'valence',\n",
       " 'year']"
      ]
     },
     "execution_count": 17,
     "metadata": {},
     "output_type": "execute_result"
    }
   ],
   "source": [
    "num_cols"
   ]
  },
  {
   "cell_type": "code",
   "execution_count": 18,
   "metadata": {},
   "outputs": [
    {
     "data": {
      "text/plain": [
       "['artists']"
      ]
     },
     "execution_count": 18,
     "metadata": {},
     "output_type": "execute_result"
    }
   ],
   "source": [
    "cat_cols"
   ]
  },
  {
   "cell_type": "code",
   "execution_count": null,
   "metadata": {},
   "outputs": [],
   "source": []
  },
  {
   "cell_type": "code",
   "execution_count": null,
   "metadata": {},
   "outputs": [],
   "source": []
  },
  {
   "cell_type": "markdown",
   "metadata": {},
   "source": [
    "### EDA "
   ]
  },
  {
   "cell_type": "code",
   "execution_count": 19,
   "metadata": {},
   "outputs": [],
   "source": [
    "import seaborn as sns\n",
    "import matplotlib.pyplot as plt\n",
    "import pandas as pd\n",
    "import numpy as np\n",
    "\n",
    "from matplotlib import pyplot as plt # for plotting\n",
    "%matplotlib inline\n",
    "sns.set_style(\"whitegrid\")\n",
    "\n",
    "import warnings # http://blog.johnmuellerbooks.com/2015/11/30/warnings-in-python-and-anaconda/\n",
    "warnings.filterwarnings(\"ignore\")\n"
   ]
  },
  {
   "cell_type": "code",
   "execution_count": 20,
   "metadata": {},
   "outputs": [],
   "source": [
    "#convert pyspark df to pandas df for visualizations\n",
    "pandasDF = df.toPandas()\n"
   ]
  },
  {
   "cell_type": "code",
   "execution_count": 21,
   "metadata": {},
   "outputs": [
    {
     "name": "stdout",
     "output_type": "stream",
     "text": [
      "There are 15 numeric columns & 1 string columns\n"
     ]
    }
   ],
   "source": [
    "numeric_columns = num_cols\n",
    "string_columns = cat_cols\n",
    "print(f'There are {len(numeric_columns)} numeric columns & {len(string_columns)} string columns')"
   ]
  },
  {
   "cell_type": "code",
   "execution_count": 22,
   "metadata": {},
   "outputs": [
    {
     "data": {
      "image/png": "[encoded data removed]",
      "text/plain": [
       "<Figure size 576x576 with 2 Axes>"
      ]
     },
     "metadata": {},
     "output_type": "display_data"
    }
   ],
   "source": [
    "numeric_df = pd.DataFrame(data=pandasDF, columns=numeric_columns, index=pandasDF.index)\n",
    "corr = np.abs(numeric_df.corr())\n",
    "fig, ax = plt.subplots(figsize=(8, 8))\n",
    "cmap = sns.color_palette(\"magma\")\n",
    "sns.heatmap(corr, cmap=cmap, square=True)\n",
    "plt.title('Correlation between numerical features: abs values')\n",
    "plt.show()"
   ]
  },
  {
   "cell_type": "code",
   "execution_count": 23,
   "metadata": {},
   "outputs": [
    {
     "name": "stdout",
     "output_type": "stream",
     "text": [
      "The most linear correlated features to POPULARITY are:\n",
      "acousticness      -->  0.41 (abs)\n",
      "loudness          -->  0.34 (abs)\n",
      "energy            -->  0.34 (abs)\n",
      "year              -->  0.27 (abs)\n"
     ]
    }
   ],
   "source": [
    "series = np.abs(corr['popularity']).sort_values(ascending=False)\n",
    "print('The most linear correlated features to POPULARITY are:')\n",
    "for i, row in enumerate(series):\n",
    "    if 0.2 <= row < 1:\n",
    "      print(f'{series.index[i]:17} --> {row: .2f} (abs)')"
   ]
  },
  {
   "cell_type": "code",
   "execution_count": 24,
   "metadata": {},
   "outputs": [
    {
     "data": {
      "image/png": "[encoded data removed]",
      "text/plain": [
       "<Figure size 864x720 with 1 Axes>"
      ]
     },
     "metadata": {},
     "output_type": "display_data"
    }
   ],
   "source": [
    "fig, ax = plt.subplots(figsize = (12, 10))\n",
    "lead_artists = pandasDF.groupby('artists')['popularity'].sum().sort_values(ascending=False).head(20)\n",
    "ax = sns.barplot(x=lead_artists.values, y=lead_artists.index, palette=\"Greens\", orient=\"h\", edgecolor='black', ax=ax)\n",
    "ax.set_xlabel('Sum of Popularity', c='r', fontsize=12)\n",
    "ax.set_ylabel('Artist', c='r', fontsize=12)\n",
    "ax.set_title('20 Most Popular Artists in Dataset', c='r', fontsize=14, weight = 'bold')\n",
    "plt.show()"
   ]
  },
  {
   "cell_type": "code",
   "execution_count": null,
   "metadata": {},
   "outputs": [],
   "source": []
  },
  {
   "cell_type": "code",
   "execution_count": null,
   "metadata": {},
   "outputs": [],
   "source": []
  },
  {
   "cell_type": "markdown",
   "metadata": {},
   "source": [
    "### Select and Standardize Features"
   ]
  },
  {
   "cell_type": "code",
   "execution_count": 25,
   "metadata": {},
   "outputs": [
    {
     "data": {
      "text/plain": [
       "DataFrame[acousticness: float, loudness: float, energy: float, year: int]"
      ]
     },
     "execution_count": 25,
     "metadata": {},
     "output_type": "execute_result"
    }
   ],
   "source": [
    "# retain these predictors that are most linearly correlated to popularity\n",
    "vars_to_keep = [\"acousticness\", \"loudness\", \"energy\", \"year\"]\n",
    "\n",
    "# subset the dataframe on these predictors\n",
    "df.select(vars_to_keep)"
   ]
  },
  {
   "cell_type": "code",
   "execution_count": 26,
   "metadata": {},
   "outputs": [
    {
     "name": "stdout",
     "output_type": "stream",
     "text": [
      "+-----+--------------------+\n",
      "|label|            features|\n",
      "+-----+--------------------+\n",
      "|    0|[0.97100001573562...|\n",
      "|    0|[0.99400001764297...|\n",
      "|    0|[0.99199998378753...|\n",
      "|    0|[0.99299997091293...|\n",
      "|    7|[0.91200000047683...|\n",
      "|    4|[0.98699998855590...|\n",
      "|    7|[0.99099999666213...|\n",
      "|    0|[0.99500000476837...|\n",
      "|    0|[0.99599999189376...|\n",
      "|    0|[0.98600000143051...|\n",
      "|    0|[0.76899999380111...|\n",
      "|    0|[0.99599999189376...|\n",
      "|    6|[0.88400000333786...|\n",
      "|   19|[0.86000001430511...|\n",
      "|   12|[0.91799998283386...|\n",
      "|    8|[0.82499998807907...|\n",
      "|   15|[0.16400000452995...|\n",
      "|   12|[0.17800000309944...|\n",
      "|   20|[0.84899997711181...|\n",
      "|    4|[0.83200001716613...|\n",
      "+-----+--------------------+\n",
      "only showing top 20 rows\n",
      "\n"
     ]
    }
   ],
   "source": [
    "from pyspark.ml.feature import VectorAssembler\n",
    "assembler = VectorAssembler(inputCols = [\"acousticness\", \"loudness\", \"energy\", \"year\"],\\\n",
    "                            outputCol = \"features\")\n",
    "\n",
    "df = assembler.transform(df.dropna())\n",
    "df = df.withColumnRenamed(\"popularity\", \"label\")\n",
    "df = df.select(\"label\", \"features\")\n",
    "\n",
    "df.show()"
   ]
  },
  {
   "cell_type": "code",
   "execution_count": 27,
   "metadata": {},
   "outputs": [],
   "source": [
    "## Feature scaling\n",
    "# Initialize the `standardScaler`\n",
    "from pyspark.ml.feature import StandardScaler\n",
    "\n",
    "standardScaler = StandardScaler(inputCol=\"features\", outputCol=\"features_scaled\", \n",
    "                                withStd=True, withMean=False)\n",
    "\n",
    "# Fit the DataFrame to the scaler; this computes the mean, standard deviation of each feature\n",
    "scaler = standardScaler.fit(df)\n",
    "\n",
    "# Transform the data in `df` with the scaler\n",
    "scaled_df = scaler.transform(df)"
   ]
  },
  {
   "cell_type": "code",
   "execution_count": 28,
   "metadata": {},
   "outputs": [],
   "source": [
    "\n",
    "# Split data into train set (80%), test set (20%) \n",
    "splits = scaled_df.randomSplit([0.8, 0.2])\n",
    "train_df = splits[0]\n",
    "test_df = splits[1]"
   ]
  },
  {
   "cell_type": "code",
   "execution_count": 29,
   "metadata": {},
   "outputs": [],
   "source": [
    "from pyspark.ml.regression import LinearRegression\n",
    "\n",
    "maxIter=10\n",
    "regParam=0.3\n",
    "elasticNetParam=0.8\n",
    "\n",
    "lr = LinearRegression(maxIter=10, regParam=0.3, elasticNetParam=0.8)"
   ]
  },
  {
   "cell_type": "code",
   "execution_count": 30,
   "metadata": {},
   "outputs": [],
   "source": [
    "model = lr.fit(train_df)"
   ]
  },
  {
   "cell_type": "code",
   "execution_count": 31,
   "metadata": {},
   "outputs": [],
   "source": [
    "prediction = model.transform(test_df)"
   ]
  },
  {
   "cell_type": "code",
   "execution_count": 32,
   "metadata": {},
   "outputs": [
    {
     "name": "stdout",
     "output_type": "stream",
     "text": [
      "+-----+--------------------+--------------------+------------------+\n",
      "|label|            features|     features_scaled|        prediction|\n",
      "+-----+--------------------+--------------------+------------------+\n",
      "|    0|[0.00156000000424...|[0.00412152960198...| 46.92705847991704|\n",
      "|    0|[0.00182000000495...|[0.00480845120232...| 46.42542204113113|\n",
      "|    0|[0.00200999993830...|[0.00531043219435...| 42.06480220613628|\n",
      "|    0|[0.00411000009626...|[0.01085864552231...| 41.56375882185864|\n",
      "|    0|[0.01940000057220...|[0.05125492078159...|46.028044233990386|\n",
      "|    0|[0.19499999284744...|[0.51519117994910...|43.988656451479414|\n",
      "|    0|[0.24199999868869...|[0.63936548433441...| 7.529771075070244|\n",
      "|    0|[0.29100000858306...|[0.76882381172393...|13.271653952516886|\n",
      "|    0|[0.31799998879432...|[0.84015792543604...| 13.64160289976951|\n",
      "|    0|[0.48699998855590...|[1.28665696380618...| 7.113671198347333|\n",
      "|    0|[0.58300000429153...|[1.54028959558101...|10.499977126413796|\n",
      "|    0|[0.67599999904632...|[1.78599615348056...|11.839773810213273|\n",
      "|    0|[0.70999997854232...|[1.87582430833846...|13.404084986946373|\n",
      "|    0|[0.71600002050399...|[1.89167645608903...|40.309079789681164|\n",
      "|    0|[0.76300001144409...|[2.01585072110537...|18.165050321495414|\n",
      "|    0|[0.82599997520446...|[2.18229701267961...|14.055390869046846|\n",
      "|    0|[0.89999997615814...|[2.37780547014599...|12.364670642154351|\n",
      "|    0|[0.92500001192092...|[2.44385571832972...| 37.40265181034965|\n",
      "|    0|[0.92500001192092...|[2.44385571832972...| 9.770462474065198|\n",
      "|    0|[0.93900001049041...|[2.48084380062131...|11.414751442147235|\n",
      "+-----+--------------------+--------------------+------------------+\n",
      "only showing top 20 rows\n",
      "\n"
     ]
    }
   ],
   "source": [
    "prediction.show()"
   ]
  },
  {
   "cell_type": "code",
   "execution_count": 33,
   "metadata": {},
   "outputs": [
    {
     "name": "stdout",
     "output_type": "stream",
     "text": [
      "MSE: 323.25012\n"
     ]
    }
   ],
   "source": [
    "from pyspark.ml.evaluation import RegressionEvaluator\n",
    "eval = RegressionEvaluator(labelCol = \"label\", predictionCol = \"prediction\",\n",
    "                          metricName = \"rmse\")\n",
    "mse1 = eval.evaluate(prediction, {eval.metricName: \"mse\"})\n",
    "print(\"MSE: %.5f\" % mse1)"
   ]
  },
  {
   "cell_type": "code",
   "execution_count": null,
   "metadata": {},
   "outputs": [],
   "source": []
  }
 ],
 "metadata": {
  "kernelspec": {
   "display_name": "Python 3",
   "language": "python",
   "name": "python3"
  },
  "language_info": {
   "codemirror_mode": {
    "name": "ipython",
    "version": 3
   },
   "file_extension": ".py",
   "mimetype": "text/x-python",
   "name": "python",
   "nbconvert_exporter": "python",
   "pygments_lexer": "ipython3",
   "version": "3.8.3"
  }
 },
 "nbformat": 4,
 "nbformat_minor": 4
}
