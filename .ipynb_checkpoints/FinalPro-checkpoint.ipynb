{
 "cells": [
  {
   "cell_type": "markdown",
   "metadata": {},
   "source": [
    "## Data cleaning "
   ]
  },
  {
   "cell_type": "markdown",
   "metadata": {},
   "source": [
    "**Import Modules**"
   ]
  },
  {
   "cell_type": "code",
   "execution_count": 1,
   "metadata": {},
   "outputs": [],
   "source": [
    "from pyspark.sql.session import SparkSession\n",
    "from pyspark.sql import functions as F\n",
    "\n",
    "from pyspark.ml import Pipeline\n",
    "from pyspark.ml.regression import LinearRegression\n",
    "from pyspark.ml.linalg import DenseVector\n",
    "from pyspark.ml.linalg import Vectors\n",
    "from pyspark.ml.feature import VectorAssembler, StandardScaler, PCA, OneHotEncoder, StringIndexer\n",
    "from pyspark.ml.evaluation import RegressionEvaluator\n",
    "from pyspark.ml.tuning import ParamGridBuilder, CrossValidator\n",
    "\n",
    "from pyspark.sql.types import IntegerType\n",
    "from pyspark.sql.types import FloatType\n",
    "from pyspark.sql.functions import isnan, when, count, col"
   ]
  },
  {
   "cell_type": "code",
   "execution_count": 2,
   "metadata": {},
   "outputs": [],
   "source": [
    "# Data Manipulation\n",
    "import numpy as np \n",
    "import pandas as pd"
   ]
  },
  {
   "cell_type": "code",
   "execution_count": 3,
   "metadata": {},
   "outputs": [],
   "source": [
    "import os\n",
    "spark = SparkSession.builder.getOrCreate()\n",
    "sc = spark.sparkContext"
   ]
  },
  {
   "cell_type": "markdown",
   "metadata": {},
   "source": [
    "**Read csv file**"
   ]
  },
  {
   "cell_type": "code",
   "execution_count": 4,
   "metadata": {},
   "outputs": [],
   "source": [
    "filename = 'data.csv'\n",
    "df = spark.read.csv(filename, inferSchema=True, header = True)"
   ]
  },
  {
   "cell_type": "code",
   "execution_count": 5,
   "metadata": {},
   "outputs": [
    {
     "data": {
      "text/plain": [
       "pyspark.sql.dataframe.DataFrame"
      ]
     },
     "execution_count": 5,
     "metadata": {},
     "output_type": "execute_result"
    }
   ],
   "source": [
    "type(df)"
   ]
  },
  {
   "cell_type": "code",
   "execution_count": 6,
   "metadata": {},
   "outputs": [
    {
     "data": {
      "text/html": [
       "<div>\n",
       "<style scoped>\n",
       "    .dataframe tbody tr th:only-of-type {\n",
       "        vertical-align: middle;\n",
       "    }\n",
       "\n",
       "    .dataframe tbody tr th {\n",
       "        vertical-align: top;\n",
       "    }\n",
       "\n",
       "    .dataframe thead th {\n",
       "        text-align: right;\n",
       "    }\n",
       "</style>\n",
       "<table border=\"1\" class=\"dataframe\">\n",
       "  <thead>\n",
       "    <tr style=\"text-align: right;\">\n",
       "      <th></th>\n",
       "      <th>acousticness</th>\n",
       "      <th>artists</th>\n",
       "      <th>danceability</th>\n",
       "      <th>duration_ms</th>\n",
       "      <th>energy</th>\n",
       "      <th>explicit</th>\n",
       "      <th>id</th>\n",
       "      <th>instrumentalness</th>\n",
       "      <th>key</th>\n",
       "      <th>liveness</th>\n",
       "      <th>loudness</th>\n",
       "      <th>mode</th>\n",
       "      <th>name</th>\n",
       "      <th>popularity</th>\n",
       "      <th>release_date</th>\n",
       "      <th>speechiness</th>\n",
       "      <th>tempo</th>\n",
       "      <th>valence</th>\n",
       "      <th>year</th>\n",
       "    </tr>\n",
       "  </thead>\n",
       "  <tbody>\n",
       "    <tr>\n",
       "      <th>0</th>\n",
       "      <td>0.991000</td>\n",
       "      <td>['Mamie Smith']</td>\n",
       "      <td>0.598</td>\n",
       "      <td>168333</td>\n",
       "      <td>0.22399999999999998</td>\n",
       "      <td>0</td>\n",
       "      <td>0cS0A1fUEUd1EW3FcF8AEI</td>\n",
       "      <td>0.000522</td>\n",
       "      <td>5</td>\n",
       "      <td>0.379</td>\n",
       "      <td>-12.628</td>\n",
       "      <td>0</td>\n",
       "      <td>Keep A Song In Your Soul</td>\n",
       "      <td>12</td>\n",
       "      <td>1920</td>\n",
       "      <td>0.0936</td>\n",
       "      <td>149.976</td>\n",
       "      <td>0.634</td>\n",
       "      <td>1920</td>\n",
       "    </tr>\n",
       "    <tr>\n",
       "      <th>1</th>\n",
       "      <td>0.643000</td>\n",
       "      <td>\"[\"\"Screamin' Jay Hawkins\"\"]\"</td>\n",
       "      <td>0.852</td>\n",
       "      <td>150200</td>\n",
       "      <td>0.517</td>\n",
       "      <td>0</td>\n",
       "      <td>0hbkKFIJm7Z05H8Zl9w30f</td>\n",
       "      <td>0.0264</td>\n",
       "      <td>5</td>\n",
       "      <td>0.0809</td>\n",
       "      <td>-7.261</td>\n",
       "      <td>0</td>\n",
       "      <td>I Put A Spell On You</td>\n",
       "      <td>7</td>\n",
       "      <td>1920-01-05</td>\n",
       "      <td>0.0534</td>\n",
       "      <td>86.889</td>\n",
       "      <td>0.95</td>\n",
       "      <td>1920</td>\n",
       "    </tr>\n",
       "    <tr>\n",
       "      <th>2</th>\n",
       "      <td>0.993000</td>\n",
       "      <td>['Mamie Smith']</td>\n",
       "      <td>0.647</td>\n",
       "      <td>163827</td>\n",
       "      <td>0.18600000000000005</td>\n",
       "      <td>0</td>\n",
       "      <td>11m7laMUgmOKqI3oYzuhne</td>\n",
       "      <td>1.76e-05</td>\n",
       "      <td>0</td>\n",
       "      <td>0.519</td>\n",
       "      <td>-12.097999999999999</td>\n",
       "      <td>1</td>\n",
       "      <td>Golfing Papa</td>\n",
       "      <td>4</td>\n",
       "      <td>1920</td>\n",
       "      <td>0.174</td>\n",
       "      <td>97.6</td>\n",
       "      <td>0.6890000000000001</td>\n",
       "      <td>1920</td>\n",
       "    </tr>\n",
       "    <tr>\n",
       "      <th>3</th>\n",
       "      <td>0.000173</td>\n",
       "      <td>['Oscar Velazquez']</td>\n",
       "      <td>0.73</td>\n",
       "      <td>422087</td>\n",
       "      <td>0.7979999999999999</td>\n",
       "      <td>0</td>\n",
       "      <td>19Lc5SfJJ5O1oaxY0fpwfh</td>\n",
       "      <td>0.8009999999999999</td>\n",
       "      <td>2</td>\n",
       "      <td>0.128</td>\n",
       "      <td>-7.311</td>\n",
       "      <td>1</td>\n",
       "      <td>True House Music - Xavier Santos &amp; Carlos Gomi...</td>\n",
       "      <td>17</td>\n",
       "      <td>1920-01-01</td>\n",
       "      <td>0.0425</td>\n",
       "      <td>127.99700000000001</td>\n",
       "      <td>0.0422</td>\n",
       "      <td>1920</td>\n",
       "    </tr>\n",
       "    <tr>\n",
       "      <th>4</th>\n",
       "      <td>0.295000</td>\n",
       "      <td>['Mixe']</td>\n",
       "      <td>0.7040000000000001</td>\n",
       "      <td>165224</td>\n",
       "      <td>0.7070000000000001</td>\n",
       "      <td>1</td>\n",
       "      <td>2hJjbsLCytGsnAHfdsLejp</td>\n",
       "      <td>0.000246</td>\n",
       "      <td>10</td>\n",
       "      <td>0.402</td>\n",
       "      <td>-6.0360000000000005</td>\n",
       "      <td>0</td>\n",
       "      <td>Xuniverxe</td>\n",
       "      <td>2</td>\n",
       "      <td>1920-10-01</td>\n",
       "      <td>0.0768</td>\n",
       "      <td>122.07600000000001</td>\n",
       "      <td>0.299</td>\n",
       "      <td>1920</td>\n",
       "    </tr>\n",
       "    <tr>\n",
       "      <th>...</th>\n",
       "      <td>...</td>\n",
       "      <td>...</td>\n",
       "      <td>...</td>\n",
       "      <td>...</td>\n",
       "      <td>...</td>\n",
       "      <td>...</td>\n",
       "      <td>...</td>\n",
       "      <td>...</td>\n",
       "      <td>...</td>\n",
       "      <td>...</td>\n",
       "      <td>...</td>\n",
       "      <td>...</td>\n",
       "      <td>...</td>\n",
       "      <td>...</td>\n",
       "      <td>...</td>\n",
       "      <td>...</td>\n",
       "      <td>...</td>\n",
       "      <td>...</td>\n",
       "      <td>...</td>\n",
       "    </tr>\n",
       "    <tr>\n",
       "      <th>174384</th>\n",
       "      <td>0.009170</td>\n",
       "      <td>['DJ Combo', 'Sander-7', 'Tony T']</td>\n",
       "      <td>0.792</td>\n",
       "      <td>147615</td>\n",
       "      <td>0.866</td>\n",
       "      <td>0</td>\n",
       "      <td>46LhBf6TvYjZU2SMvGZAbn</td>\n",
       "      <td>5.99e-05</td>\n",
       "      <td>6</td>\n",
       "      <td>0.17800000000000002</td>\n",
       "      <td>-5.0889999999999995</td>\n",
       "      <td>0</td>\n",
       "      <td>The One</td>\n",
       "      <td>0</td>\n",
       "      <td>2020-12-25</td>\n",
       "      <td>0.0356</td>\n",
       "      <td>125.97200000000001</td>\n",
       "      <td>0.18600000000000005</td>\n",
       "      <td>2020</td>\n",
       "    </tr>\n",
       "    <tr>\n",
       "      <th>174385</th>\n",
       "      <td>0.795000</td>\n",
       "      <td>['Alessia Cara']</td>\n",
       "      <td>0.429</td>\n",
       "      <td>144720</td>\n",
       "      <td>0.21100000000000002</td>\n",
       "      <td>0</td>\n",
       "      <td>7tue2Wemjd0FZzRtDrQFZd</td>\n",
       "      <td>0.0</td>\n",
       "      <td>4</td>\n",
       "      <td>0.196</td>\n",
       "      <td>-11.665</td>\n",
       "      <td>1</td>\n",
       "      <td>A Little More</td>\n",
       "      <td>0</td>\n",
       "      <td>2021-01-22</td>\n",
       "      <td>0.036000000000000004</td>\n",
       "      <td>94.71</td>\n",
       "      <td>0.228</td>\n",
       "      <td>2021</td>\n",
       "    </tr>\n",
       "    <tr>\n",
       "      <th>174386</th>\n",
       "      <td>0.806000</td>\n",
       "      <td>['Roger Fly']</td>\n",
       "      <td>0.6709999999999999</td>\n",
       "      <td>218147</td>\n",
       "      <td>0.589</td>\n",
       "      <td>0</td>\n",
       "      <td>48Qj61hOdYmUCFJbpQ29Ob</td>\n",
       "      <td>0.92</td>\n",
       "      <td>4</td>\n",
       "      <td>0.113</td>\n",
       "      <td>-12.392999999999999</td>\n",
       "      <td>0</td>\n",
       "      <td>Together</td>\n",
       "      <td>0</td>\n",
       "      <td>2020-12-09</td>\n",
       "      <td>0.0282</td>\n",
       "      <td>108.05799999999999</td>\n",
       "      <td>0.7140000000000001</td>\n",
       "      <td>2020</td>\n",
       "    </tr>\n",
       "    <tr>\n",
       "      <th>174387</th>\n",
       "      <td>0.920000</td>\n",
       "      <td>['Taylor Swift']</td>\n",
       "      <td>0.462</td>\n",
       "      <td>244000</td>\n",
       "      <td>0.24</td>\n",
       "      <td>1</td>\n",
       "      <td>1gcyHQpBQ1lfXGdhZmWrHP</td>\n",
       "      <td>0.0</td>\n",
       "      <td>0</td>\n",
       "      <td>0.113</td>\n",
       "      <td>-12.077</td>\n",
       "      <td>1</td>\n",
       "      <td>champagne problems</td>\n",
       "      <td>69</td>\n",
       "      <td>2021-01-07</td>\n",
       "      <td>0.0377</td>\n",
       "      <td>171.31900000000005</td>\n",
       "      <td>0.32</td>\n",
       "      <td>2021</td>\n",
       "    </tr>\n",
       "    <tr>\n",
       "      <th>174388</th>\n",
       "      <td>0.239000</td>\n",
       "      <td>['Roger Fly']</td>\n",
       "      <td>0.677</td>\n",
       "      <td>197710</td>\n",
       "      <td>0.46</td>\n",
       "      <td>0</td>\n",
       "      <td>57tgYkWQTNHVFEt6xDKKZj</td>\n",
       "      <td>0.8909999999999999</td>\n",
       "      <td>7</td>\n",
       "      <td>0.215</td>\n",
       "      <td>-12.237</td>\n",
       "      <td>1</td>\n",
       "      <td>Improvisations</td>\n",
       "      <td>0</td>\n",
       "      <td>2020-12-09</td>\n",
       "      <td>0.0258</td>\n",
       "      <td>112.208</td>\n",
       "      <td>0.747</td>\n",
       "      <td>2020</td>\n",
       "    </tr>\n",
       "  </tbody>\n",
       "</table>\n",
       "<p>174389 rows × 19 columns</p>\n",
       "</div>"
      ],
      "text/plain": [
       "        acousticness                             artists        danceability  \\\n",
       "0           0.991000                     ['Mamie Smith']               0.598   \n",
       "1           0.643000       \"[\"\"Screamin' Jay Hawkins\"\"]\"               0.852   \n",
       "2           0.993000                     ['Mamie Smith']               0.647   \n",
       "3           0.000173                 ['Oscar Velazquez']                0.73   \n",
       "4           0.295000                            ['Mixe']  0.7040000000000001   \n",
       "...              ...                                 ...                 ...   \n",
       "174384      0.009170  ['DJ Combo', 'Sander-7', 'Tony T']               0.792   \n",
       "174385      0.795000                    ['Alessia Cara']               0.429   \n",
       "174386      0.806000                       ['Roger Fly']  0.6709999999999999   \n",
       "174387      0.920000                    ['Taylor Swift']               0.462   \n",
       "174388      0.239000                       ['Roger Fly']               0.677   \n",
       "\n",
       "       duration_ms               energy explicit                      id  \\\n",
       "0           168333  0.22399999999999998        0  0cS0A1fUEUd1EW3FcF8AEI   \n",
       "1           150200                0.517        0  0hbkKFIJm7Z05H8Zl9w30f   \n",
       "2           163827  0.18600000000000005        0  11m7laMUgmOKqI3oYzuhne   \n",
       "3           422087   0.7979999999999999        0  19Lc5SfJJ5O1oaxY0fpwfh   \n",
       "4           165224   0.7070000000000001        1  2hJjbsLCytGsnAHfdsLejp   \n",
       "...            ...                  ...      ...                     ...   \n",
       "174384      147615                0.866        0  46LhBf6TvYjZU2SMvGZAbn   \n",
       "174385      144720  0.21100000000000002        0  7tue2Wemjd0FZzRtDrQFZd   \n",
       "174386      218147                0.589        0  48Qj61hOdYmUCFJbpQ29Ob   \n",
       "174387      244000                 0.24        1  1gcyHQpBQ1lfXGdhZmWrHP   \n",
       "174388      197710                 0.46        0  57tgYkWQTNHVFEt6xDKKZj   \n",
       "\n",
       "          instrumentalness key             liveness             loudness mode  \\\n",
       "0                 0.000522   5                0.379              -12.628    0   \n",
       "1                   0.0264   5               0.0809               -7.261    0   \n",
       "2                 1.76e-05   0                0.519  -12.097999999999999    1   \n",
       "3       0.8009999999999999   2                0.128               -7.311    1   \n",
       "4                 0.000246  10                0.402  -6.0360000000000005    0   \n",
       "...                    ...  ..                  ...                  ...  ...   \n",
       "174384            5.99e-05   6  0.17800000000000002  -5.0889999999999995    0   \n",
       "174385                 0.0   4                0.196              -11.665    1   \n",
       "174386                0.92   4                0.113  -12.392999999999999    0   \n",
       "174387                 0.0   0                0.113              -12.077    1   \n",
       "174388  0.8909999999999999   7                0.215              -12.237    1   \n",
       "\n",
       "                                                     name popularity  \\\n",
       "0                                Keep A Song In Your Soul         12   \n",
       "1                                    I Put A Spell On You          7   \n",
       "2                                            Golfing Papa          4   \n",
       "3       True House Music - Xavier Santos & Carlos Gomi...         17   \n",
       "4                                               Xuniverxe          2   \n",
       "...                                                   ...        ...   \n",
       "174384                                            The One          0   \n",
       "174385                                      A Little More          0   \n",
       "174386                                           Together          0   \n",
       "174387                                 champagne problems         69   \n",
       "174388                                     Improvisations          0   \n",
       "\n",
       "       release_date           speechiness               tempo  \\\n",
       "0              1920                0.0936             149.976   \n",
       "1        1920-01-05                0.0534              86.889   \n",
       "2              1920                 0.174                97.6   \n",
       "3        1920-01-01                0.0425  127.99700000000001   \n",
       "4        1920-10-01                0.0768  122.07600000000001   \n",
       "...             ...                   ...                 ...   \n",
       "174384   2020-12-25                0.0356  125.97200000000001   \n",
       "174385   2021-01-22  0.036000000000000004               94.71   \n",
       "174386   2020-12-09                0.0282  108.05799999999999   \n",
       "174387   2021-01-07                0.0377  171.31900000000005   \n",
       "174388   2020-12-09                0.0258             112.208   \n",
       "\n",
       "                    valence  year  \n",
       "0                     0.634  1920  \n",
       "1                      0.95  1920  \n",
       "2        0.6890000000000001  1920  \n",
       "3                    0.0422  1920  \n",
       "4                     0.299  1920  \n",
       "...                     ...   ...  \n",
       "174384  0.18600000000000005  2020  \n",
       "174385                0.228  2021  \n",
       "174386   0.7140000000000001  2020  \n",
       "174387                 0.32  2021  \n",
       "174388                0.747  2020  \n",
       "\n",
       "[174389 rows x 19 columns]"
      ]
     },
     "execution_count": 6,
     "metadata": {},
     "output_type": "execute_result"
    }
   ],
   "source": [
    "df.toPandas()"
   ]
  },
  {
   "cell_type": "code",
   "execution_count": 7,
   "metadata": {},
   "outputs": [
    {
     "data": {
      "text/html": [
       "<div>\n",
       "<style scoped>\n",
       "    .dataframe tbody tr th:only-of-type {\n",
       "        vertical-align: middle;\n",
       "    }\n",
       "\n",
       "    .dataframe tbody tr th {\n",
       "        vertical-align: top;\n",
       "    }\n",
       "\n",
       "    .dataframe thead th {\n",
       "        text-align: right;\n",
       "    }\n",
       "</style>\n",
       "<table border=\"1\" class=\"dataframe\">\n",
       "  <thead>\n",
       "    <tr style=\"text-align: right;\">\n",
       "      <th></th>\n",
       "      <th>summary</th>\n",
       "      <th>acousticness</th>\n",
       "      <th>artists</th>\n",
       "      <th>danceability</th>\n",
       "      <th>duration_ms</th>\n",
       "      <th>energy</th>\n",
       "      <th>explicit</th>\n",
       "      <th>id</th>\n",
       "      <th>instrumentalness</th>\n",
       "      <th>key</th>\n",
       "      <th>liveness</th>\n",
       "      <th>loudness</th>\n",
       "      <th>mode</th>\n",
       "      <th>name</th>\n",
       "      <th>popularity</th>\n",
       "      <th>release_date</th>\n",
       "      <th>speechiness</th>\n",
       "      <th>tempo</th>\n",
       "      <th>valence</th>\n",
       "      <th>year</th>\n",
       "    </tr>\n",
       "  </thead>\n",
       "  <tbody>\n",
       "    <tr>\n",
       "      <th>0</th>\n",
       "      <td>count</td>\n",
       "      <td>174389</td>\n",
       "      <td>174389</td>\n",
       "      <td>174389</td>\n",
       "      <td>174389</td>\n",
       "      <td>174389</td>\n",
       "      <td>174389</td>\n",
       "      <td>174389</td>\n",
       "      <td>174389</td>\n",
       "      <td>174389</td>\n",
       "      <td>174389</td>\n",
       "      <td>174389</td>\n",
       "      <td>174389</td>\n",
       "      <td>174389</td>\n",
       "      <td>174389</td>\n",
       "      <td>174389</td>\n",
       "      <td>174389</td>\n",
       "      <td>174389</td>\n",
       "      <td>174389</td>\n",
       "      <td>174389</td>\n",
       "    </tr>\n",
       "    <tr>\n",
       "      <th>1</th>\n",
       "      <td>mean</td>\n",
       "      <td>0.49922848176599777</td>\n",
       "      <td>None</td>\n",
       "      <td>0.537052399555819</td>\n",
       "      <td>232284.03395898818</td>\n",
       "      <td>518.237162647031</td>\n",
       "      <td>174.14162696798323</td>\n",
       "      <td>14927.623620614037</td>\n",
       "      <td>32.94695299805784</td>\n",
       "      <td>21.388088201474535</td>\n",
       "      <td>1.6630117344574085</td>\n",
       "      <td>-11.69811535144116</td>\n",
       "      <td>5.675269737753431</td>\n",
       "      <td>Infinity</td>\n",
       "      <td>25.786782620242132</td>\n",
       "      <td>1934.6745386555776</td>\n",
       "      <td>4.98328823546577</td>\n",
       "      <td>118.34591427078323</td>\n",
       "      <td>2.0089549379621587</td>\n",
       "      <td>1963.0436765477561</td>\n",
       "    </tr>\n",
       "    <tr>\n",
       "      <th>2</th>\n",
       "      <td>stddev</td>\n",
       "      <td>0.3799358418737283</td>\n",
       "      <td>None</td>\n",
       "      <td>0.175836738374211</td>\n",
       "      <td>148621.5373503552</td>\n",
       "      <td>13208.067809184804</td>\n",
       "      <td>7675.583758722504</td>\n",
       "      <td>67101.99688124633</td>\n",
       "      <td>2935.1728771896787</td>\n",
       "      <td>2243.652976382432</td>\n",
       "      <td>601.9192341606167</td>\n",
       "      <td>5.724540360638468</td>\n",
       "      <td>1728.940868803489</td>\n",
       "      <td>NaN</td>\n",
       "      <td>21.87570035131842</td>\n",
       "      <td>1380.5691563993419</td>\n",
       "      <td>97.29810079523327</td>\n",
       "      <td>66.3925520799001</td>\n",
       "      <td>44.69391809178354</td>\n",
       "      <td>167.8027917286958</td>\n",
       "    </tr>\n",
       "    <tr>\n",
       "      <th>3</th>\n",
       "      <td>min</td>\n",
       "      <td>0.0</td>\n",
       "      <td>\"[\"\"'In The Heights' Original Broadway Company\"\"</td>\n",
       "      <td>\"\"Kamehameha Schools Children's Chorus\"\"]\"</td>\n",
       "      <td>\"\"Boys' Choir Of Ipswich School Preparatory D...</td>\n",
       "      <td>\"\"Lidija Kaz'mina\"\"</td>\n",
       "      <td>\"\"Bobby D'Ambrosio\"\"]\"</td>\n",
       "      <td>\"\"Orchestra Sinfonica dell'EIAR di Torino\"\"]\"</td>\n",
       "      <td>'Benjamin Schrader'</td>\n",
       "      <td>'J. Robert Spencer'</td>\n",
       "      <td>'Jason Michael Snow']\"</td>\n",
       "      <td>'David Baxter']\"</td>\n",
       "      <td>'Peter Gregus'</td>\n",
       "      <td>'Richard Hester']\"</td>\n",
       "      <td>1944\"</td>\n",
       "      <td>\"\"L'amour est un oiseau rebelle\"\" (Carmen</td>\n",
       "      <td>\"\"Venezianisches Gondellied\"\" (arr. A. Segovia)\"</td>\n",
       "      <td>Abdallo]\"</td>\n",
       "      <td>Alcade</td>\n",
       "      <td>Alcade</td>\n",
       "    </tr>\n",
       "    <tr>\n",
       "      <th>4</th>\n",
       "      <td>max</td>\n",
       "      <td>0.996</td>\n",
       "      <td>['조정현']</td>\n",
       "      <td>0.988</td>\n",
       "      <td>99997</td>\n",
       "      <td>99093</td>\n",
       "      <td>900000</td>\n",
       "      <td>95160</td>\n",
       "      <td>9e-06</td>\n",
       "      <td>95361</td>\n",
       "      <td>9.53e-06</td>\n",
       "      <td>9</td>\n",
       "      <td>9</td>\n",
       "      <td>텅 빈 마음 Empty Heart</td>\n",
       "      <td>You Turned The Tables On Me</td>\n",
       "      <td>Want Love - Club Mix</td>\n",
       "      <td>You Did It</td>\n",
       "      <td>When Your Lover Has Gone</td>\n",
       "      <td>What A Woman</td>\n",
       "      <td>Incredible Phat (The Coldest Night of the Year...</td>\n",
       "    </tr>\n",
       "  </tbody>\n",
       "</table>\n",
       "</div>"
      ],
      "text/plain": [
       "  summary         acousticness  \\\n",
       "0   count               174389   \n",
       "1    mean  0.49922848176599777   \n",
       "2  stddev   0.3799358418737283   \n",
       "3     min                  0.0   \n",
       "4     max                0.996   \n",
       "\n",
       "                                            artists  \\\n",
       "0                                            174389   \n",
       "1                                              None   \n",
       "2                                              None   \n",
       "3  \"[\"\"'In The Heights' Original Broadway Company\"\"   \n",
       "4                                           ['조정현']   \n",
       "\n",
       "                                  danceability  \\\n",
       "0                                       174389   \n",
       "1                            0.537052399555819   \n",
       "2                            0.175836738374211   \n",
       "3   \"\"Kamehameha Schools Children's Chorus\"\"]\"   \n",
       "4                                        0.988   \n",
       "\n",
       "                                         duration_ms                energy  \\\n",
       "0                                             174389                174389   \n",
       "1                                 232284.03395898818      518.237162647031   \n",
       "2                                  148621.5373503552    13208.067809184804   \n",
       "3   \"\"Boys' Choir Of Ipswich School Preparatory D...   \"\"Lidija Kaz'mina\"\"   \n",
       "4                                              99997                 99093   \n",
       "\n",
       "                  explicit                                              id  \\\n",
       "0                   174389                                          174389   \n",
       "1       174.14162696798323                              14927.623620614037   \n",
       "2        7675.583758722504                               67101.99688124633   \n",
       "3   \"\"Bobby D'Ambrosio\"\"]\"   \"\"Orchestra Sinfonica dell'EIAR di Torino\"\"]\"   \n",
       "4                   900000                                           95160   \n",
       "\n",
       "       instrumentalness                   key                 liveness  \\\n",
       "0                174389                174389                   174389   \n",
       "1     32.94695299805784    21.388088201474535       1.6630117344574085   \n",
       "2    2935.1728771896787     2243.652976382432        601.9192341606167   \n",
       "3   'Benjamin Schrader'   'J. Robert Spencer'   'Jason Michael Snow']\"   \n",
       "4                 9e-06                 95361                 9.53e-06   \n",
       "\n",
       "             loudness               mode                 name  \\\n",
       "0              174389             174389               174389   \n",
       "1  -11.69811535144116  5.675269737753431             Infinity   \n",
       "2   5.724540360638468  1728.940868803489                  NaN   \n",
       "3    'David Baxter']\"     'Peter Gregus'   'Richard Hester']\"   \n",
       "4                   9                  9   텅 빈 마음 Empty Heart   \n",
       "\n",
       "                    popularity                                release_date  \\\n",
       "0                       174389                                      174389   \n",
       "1           25.786782620242132                          1934.6745386555776   \n",
       "2            21.87570035131842                          1380.5691563993419   \n",
       "3                        1944\"   \"\"L'amour est un oiseau rebelle\"\" (Carmen   \n",
       "4  You Turned The Tables On Me                        Want Love - Club Mix   \n",
       "\n",
       "                                         speechiness  \\\n",
       "0                                             174389   \n",
       "1                                   4.98328823546577   \n",
       "2                                  97.29810079523327   \n",
       "3   \"\"Venezianisches Gondellied\"\" (arr. A. Segovia)\"   \n",
       "4                                         You Did It   \n",
       "\n",
       "                      tempo             valence  \\\n",
       "0                    174389              174389   \n",
       "1        118.34591427078323  2.0089549379621587   \n",
       "2          66.3925520799001   44.69391809178354   \n",
       "3                 Abdallo]\"              Alcade   \n",
       "4  When Your Lover Has Gone        What A Woman   \n",
       "\n",
       "                                                year  \n",
       "0                                             174389  \n",
       "1                                 1963.0436765477561  \n",
       "2                                  167.8027917286958  \n",
       "3                                             Alcade  \n",
       "4  Incredible Phat (The Coldest Night of the Year...  "
      ]
     },
     "execution_count": 7,
     "metadata": {},
     "output_type": "execute_result"
    }
   ],
   "source": [
    "df.describe().toPandas()"
   ]
  },
  {
   "cell_type": "markdown",
   "metadata": {},
   "source": [
    "**Drop Variables**"
   ]
  },
  {
   "cell_type": "code",
   "execution_count": 8,
   "metadata": {},
   "outputs": [],
   "source": [
    "# Variables id, name, release_date are not related to our question.\n",
    "# Thus, droping all three.\n",
    "df = df.drop(\"id\", \"name\", \"release_date\",\"key\",\"explicit\",\"mode\")"
   ]
  },
  {
   "cell_type": "markdown",
   "metadata": {},
   "source": [
    "**Convert Data Type**"
   ]
  },
  {
   "cell_type": "code",
   "execution_count": 9,
   "metadata": {},
   "outputs": [],
   "source": [
    "floats = [\"acousticness\", \"danceability\", \"energy\", \"instrumentalness\", \"liveness\", \"loudness\",\n",
    "         \"speechiness\", \"tempo\", \"valence\"]\n",
    "for i in floats:\n",
    "        df = df.withColumn(i, df[i].cast(FloatType()))\n",
    "\n",
    "ints = [\"duration_ms\", \"popularity\", \"year\"]\n",
    "for i in ints:\n",
    "    df = df.withColumn(i, df[i].cast(IntegerType()))"
   ]
  },
  {
   "cell_type": "code",
   "execution_count": 10,
   "metadata": {},
   "outputs": [
    {
     "name": "stdout",
     "output_type": "stream",
     "text": [
      "+------------+--------------------+------------+-----------+------+----------------+--------+--------+----------+-----------+-------+-------+----+\n",
      "|acousticness|             artists|danceability|duration_ms|energy|instrumentalness|liveness|loudness|popularity|speechiness|  tempo|valence|year|\n",
      "+------------+--------------------+------------+-----------+------+----------------+--------+--------+----------+-----------+-------+-------+----+\n",
      "|       0.991|     ['Mamie Smith']|       0.598|     168333| 0.224|         5.22E-4|   0.379| -12.628|        12|     0.0936|149.976|  0.634|1920|\n",
      "|       0.643|\"[\"\"Screamin' Jay...|       0.852|     150200| 0.517|          0.0264|  0.0809|  -7.261|         7|     0.0534| 86.889|   0.95|1920|\n",
      "|       0.993|     ['Mamie Smith']|       0.647|     163827| 0.186|         1.76E-5|   0.519| -12.098|         4|      0.174|   97.6|  0.689|1920|\n",
      "|     1.73E-4| ['Oscar Velazquez']|        0.73|     422087| 0.798|           0.801|   0.128|  -7.311|        17|     0.0425|127.997| 0.0422|1920|\n",
      "|       0.295|            ['Mixe']|       0.704|     165224| 0.707|         2.46E-4|   0.402|  -6.036|         2|     0.0768|122.076|  0.299|1920|\n",
      "+------------+--------------------+------------+-----------+------+----------------+--------+--------+----------+-----------+-------+-------+----+\n",
      "only showing top 5 rows\n",
      "\n"
     ]
    }
   ],
   "source": [
    "# With Correct Variable Type\n",
    "df.createOrReplaceTempView(\"df\")\n",
    "spark.sql(\"select * from df\").show(5)"
   ]
  },
  {
   "cell_type": "code",
   "execution_count": 11,
   "metadata": {},
   "outputs": [
    {
     "name": "stdout",
     "output_type": "stream",
     "text": [
      "root\n",
      " |-- acousticness: float (nullable = true)\n",
      " |-- artists: string (nullable = true)\n",
      " |-- danceability: float (nullable = true)\n",
      " |-- duration_ms: integer (nullable = true)\n",
      " |-- energy: float (nullable = true)\n",
      " |-- instrumentalness: float (nullable = true)\n",
      " |-- liveness: float (nullable = true)\n",
      " |-- loudness: float (nullable = true)\n",
      " |-- popularity: integer (nullable = true)\n",
      " |-- speechiness: float (nullable = true)\n",
      " |-- tempo: float (nullable = true)\n",
      " |-- valence: float (nullable = true)\n",
      " |-- year: integer (nullable = true)\n",
      "\n"
     ]
    }
   ],
   "source": [
    "df.printSchema()"
   ]
  },
  {
   "cell_type": "markdown",
   "metadata": {},
   "source": [
    "**Duplicates & Nulls**"
   ]
  },
  {
   "cell_type": "code",
   "execution_count": 12,
   "metadata": {},
   "outputs": [
    {
     "name": "stdout",
     "output_type": "stream",
     "text": [
      "Rows = 174389\n",
      "Distinct Rows = 170929\n"
     ]
    }
   ],
   "source": [
    "# Count rows and unique rows\n",
    "print('Rows = {}'.format(df.count()))\n",
    "print('Distinct Rows = {}'.format(df.distinct().count()))"
   ]
  },
  {
   "cell_type": "code",
   "execution_count": 13,
   "metadata": {},
   "outputs": [
    {
     "name": "stdout",
     "output_type": "stream",
     "text": [
      "The number of rows with duplicate data removed = 170929\n"
     ]
    }
   ],
   "source": [
    "# Check\n",
    "# Drop all duplicates \n",
    "df = df.dropDuplicates()\n",
    "print('The number of rows with duplicate data removed = {}'.format(df.count()))"
   ]
  },
  {
   "cell_type": "code",
   "execution_count": 14,
   "metadata": {
    "scrolled": true
   },
   "outputs": [
    {
     "name": "stdout",
     "output_type": "stream",
     "text": [
      "+------------+-------+------------+-----------+------+----------------+--------+--------+----------+-----------+-----+-------+----+\n",
      "|acousticness|artists|danceability|duration_ms|energy|instrumentalness|liveness|loudness|popularity|speechiness|tempo|valence|year|\n",
      "+------------+-------+------------+-----------+------+----------------+--------+--------+----------+-----------+-----+-------+----+\n",
      "|           0|      0|           0|          0|     0|               0|       0|       0|         0|          0|    0|      0|   0|\n",
      "+------------+-------+------------+-----------+------+----------------+--------+--------+----------+-----------+-----+-------+----+\n",
      "\n"
     ]
    }
   ],
   "source": [
    "# Check for NULL\n",
    "df.select([count(when(isnan(c), c)).alias(c) for c in df.columns]).show()"
   ]
  },
  {
   "cell_type": "code",
   "execution_count": 15,
   "metadata": {},
   "outputs": [],
   "source": [
    "df = df.dropna()"
   ]
  },
  {
   "cell_type": "code",
   "execution_count": 16,
   "metadata": {},
   "outputs": [],
   "source": [
    "df = df.where((df.popularity > 0))\n",
    "df = df.where((df.year > 1950))"
   ]
  },
  {
   "cell_type": "markdown",
   "metadata": {},
   "source": [
    "**Numeric Variables & Categorical Variables**"
   ]
  },
  {
   "cell_type": "code",
   "execution_count": 17,
   "metadata": {},
   "outputs": [],
   "source": [
    "num_cols = []\n",
    "cat_cols = []\n",
    "\n",
    "for s in df.schema:\n",
    "    data_type = str(s.dataType)\n",
    "    if data_type == \"StringType\":\n",
    "        cat_cols.append(s.name)\n",
    "    \n",
    "    #if data_type == \"FloatType\" or data_type == \"IntType\" or data_type ==\"String\":\n",
    "    else:\n",
    "        num_cols.append(s.name)"
   ]
  },
  {
   "cell_type": "code",
   "execution_count": 18,
   "metadata": {},
   "outputs": [
    {
     "name": "stdout",
     "output_type": "stream",
     "text": [
      "['acousticness', 'danceability', 'duration_ms', 'energy', 'instrumentalness', 'liveness', 'loudness', 'popularity', 'speechiness', 'tempo', 'valence', 'year']\n",
      "['artists']\n"
     ]
    }
   ],
   "source": [
    "print(num_cols)\n",
    "print(cat_cols)"
   ]
  },
  {
   "cell_type": "code",
   "execution_count": 19,
   "metadata": {},
   "outputs": [
    {
     "name": "stdout",
     "output_type": "stream",
     "text": [
      "Correlation to popularity for  acousticness -0.3027898785940276\n",
      "Correlation to popularity for  danceability 0.19697086166969177\n",
      "Correlation to popularity for  duration_ms 0.025572110281104416\n",
      "Correlation to popularity for  energy 0.21770844824875615\n",
      "Correlation to popularity for  instrumentalness -0.22471373935088373\n",
      "Correlation to popularity for  liveness -0.09836944674863707\n",
      "Correlation to popularity for  loudness 0.2892525963148474\n",
      "Correlation to popularity for  popularity 1.0\n",
      "Correlation to popularity for  speechiness 0.036576991018957575\n",
      "Correlation to popularity for  tempo 0.04520927436031898\n",
      "Correlation to popularity for  valence 0.02814491902318553\n",
      "Correlation to popularity for  year 0.4794162718456752\n"
     ]
    }
   ],
   "source": [
    "# Correlation\n",
    "import six\n",
    "for i in df.columns:\n",
    "    if not(isinstance(df.select(i).take(1)[0][0], six.string_types)):\n",
    "        print( \"Correlation to popularity for \", i, df.stat.corr('popularity',i))"
   ]
  },
  {
   "cell_type": "markdown",
   "metadata": {},
   "source": [
    "## EDA"
   ]
  },
  {
   "cell_type": "code",
   "execution_count": 20,
   "metadata": {
    "scrolled": true
   },
   "outputs": [
    {
     "data": {
      "text/html": [
       "<div>\n",
       "<style scoped>\n",
       "    .dataframe tbody tr th:only-of-type {\n",
       "        vertical-align: middle;\n",
       "    }\n",
       "\n",
       "    .dataframe tbody tr th {\n",
       "        vertical-align: top;\n",
       "    }\n",
       "\n",
       "    .dataframe thead th {\n",
       "        text-align: right;\n",
       "    }\n",
       "</style>\n",
       "<table border=\"1\" class=\"dataframe\">\n",
       "  <thead>\n",
       "    <tr style=\"text-align: right;\">\n",
       "      <th></th>\n",
       "      <th>acousticness</th>\n",
       "      <th>artists</th>\n",
       "      <th>danceability</th>\n",
       "      <th>duration_ms</th>\n",
       "      <th>energy</th>\n",
       "      <th>instrumentalness</th>\n",
       "      <th>liveness</th>\n",
       "      <th>loudness</th>\n",
       "      <th>popularity</th>\n",
       "      <th>speechiness</th>\n",
       "      <th>tempo</th>\n",
       "      <th>valence</th>\n",
       "      <th>year</th>\n",
       "    </tr>\n",
       "  </thead>\n",
       "  <tbody>\n",
       "    <tr>\n",
       "      <th>0</th>\n",
       "      <td>0.991</td>\n",
       "      <td>['Ahmad Jamal']</td>\n",
       "      <td>0.690</td>\n",
       "      <td>174573</td>\n",
       "      <td>0.1640</td>\n",
       "      <td>0.886000</td>\n",
       "      <td>0.1290</td>\n",
       "      <td>-18.657</td>\n",
       "      <td>23</td>\n",
       "      <td>0.0451</td>\n",
       "      <td>80.099998</td>\n",
       "      <td>0.579</td>\n",
       "      <td>1951</td>\n",
       "    </tr>\n",
       "    <tr>\n",
       "      <th>1</th>\n",
       "      <td>0.981</td>\n",
       "      <td>['Ahmad Jamal']</td>\n",
       "      <td>0.781</td>\n",
       "      <td>173987</td>\n",
       "      <td>0.1390</td>\n",
       "      <td>0.895000</td>\n",
       "      <td>0.1130</td>\n",
       "      <td>-18.382</td>\n",
       "      <td>14</td>\n",
       "      <td>0.0442</td>\n",
       "      <td>116.013000</td>\n",
       "      <td>0.331</td>\n",
       "      <td>1951</td>\n",
       "    </tr>\n",
       "    <tr>\n",
       "      <th>2</th>\n",
       "      <td>0.897</td>\n",
       "      <td>['Doris Day']</td>\n",
       "      <td>0.697</td>\n",
       "      <td>146333</td>\n",
       "      <td>0.3290</td>\n",
       "      <td>0.000000</td>\n",
       "      <td>0.1910</td>\n",
       "      <td>-10.142</td>\n",
       "      <td>19</td>\n",
       "      <td>0.0420</td>\n",
       "      <td>97.853996</td>\n",
       "      <td>0.749</td>\n",
       "      <td>1951</td>\n",
       "    </tr>\n",
       "    <tr>\n",
       "      <th>3</th>\n",
       "      <td>0.875</td>\n",
       "      <td>['Les Paul', 'Mary Ford']</td>\n",
       "      <td>0.300</td>\n",
       "      <td>179467</td>\n",
       "      <td>0.3790</td>\n",
       "      <td>0.000136</td>\n",
       "      <td>0.2060</td>\n",
       "      <td>-9.741</td>\n",
       "      <td>44</td>\n",
       "      <td>0.0503</td>\n",
       "      <td>71.308998</td>\n",
       "      <td>0.221</td>\n",
       "      <td>1952</td>\n",
       "    </tr>\n",
       "    <tr>\n",
       "      <th>4</th>\n",
       "      <td>0.889</td>\n",
       "      <td>['Cuco Sánchez']</td>\n",
       "      <td>0.569</td>\n",
       "      <td>194200</td>\n",
       "      <td>0.0507</td>\n",
       "      <td>0.000000</td>\n",
       "      <td>0.0679</td>\n",
       "      <td>-17.021</td>\n",
       "      <td>41</td>\n",
       "      <td>0.0540</td>\n",
       "      <td>117.579002</td>\n",
       "      <td>0.298</td>\n",
       "      <td>1954</td>\n",
       "    </tr>\n",
       "  </tbody>\n",
       "</table>\n",
       "</div>"
      ],
      "text/plain": [
       "   acousticness                    artists  danceability  duration_ms  energy  \\\n",
       "0         0.991            ['Ahmad Jamal']         0.690       174573  0.1640   \n",
       "1         0.981            ['Ahmad Jamal']         0.781       173987  0.1390   \n",
       "2         0.897              ['Doris Day']         0.697       146333  0.3290   \n",
       "3         0.875  ['Les Paul', 'Mary Ford']         0.300       179467  0.3790   \n",
       "4         0.889           ['Cuco Sánchez']         0.569       194200  0.0507   \n",
       "\n",
       "   instrumentalness  liveness  loudness  popularity  speechiness       tempo  \\\n",
       "0          0.886000    0.1290   -18.657          23       0.0451   80.099998   \n",
       "1          0.895000    0.1130   -18.382          14       0.0442  116.013000   \n",
       "2          0.000000    0.1910   -10.142          19       0.0420   97.853996   \n",
       "3          0.000136    0.2060    -9.741          44       0.0503   71.308998   \n",
       "4          0.000000    0.0679   -17.021          41       0.0540  117.579002   \n",
       "\n",
       "   valence  year  \n",
       "0    0.579  1951  \n",
       "1    0.331  1951  \n",
       "2    0.749  1951  \n",
       "3    0.221  1952  \n",
       "4    0.298  1954  "
      ]
     },
     "execution_count": 20,
     "metadata": {},
     "output_type": "execute_result"
    }
   ],
   "source": [
    "df_pandas = df.toPandas()\n",
    "df_pandas.head()"
   ]
  },
  {
   "cell_type": "markdown",
   "metadata": {},
   "source": [
    "### Examining Different Metrics Over the Years"
   ]
  },
  {
   "cell_type": "code",
   "execution_count": 21,
   "metadata": {},
   "outputs": [
    {
     "data": {
      "text/html": [
       "<div>\n",
       "<style scoped>\n",
       "    .dataframe tbody tr th:only-of-type {\n",
       "        vertical-align: middle;\n",
       "    }\n",
       "\n",
       "    .dataframe tbody tr th {\n",
       "        vertical-align: top;\n",
       "    }\n",
       "\n",
       "    .dataframe thead th {\n",
       "        text-align: right;\n",
       "    }\n",
       "</style>\n",
       "<table border=\"1\" class=\"dataframe\">\n",
       "  <thead>\n",
       "    <tr style=\"text-align: right;\">\n",
       "      <th></th>\n",
       "      <th>danceability</th>\n",
       "      <th>instrumentalness</th>\n",
       "      <th>loudness</th>\n",
       "      <th>tempo</th>\n",
       "    </tr>\n",
       "    <tr>\n",
       "      <th>year</th>\n",
       "      <th></th>\n",
       "      <th></th>\n",
       "      <th></th>\n",
       "      <th></th>\n",
       "    </tr>\n",
       "  </thead>\n",
       "  <tbody>\n",
       "    <tr>\n",
       "      <th>1951</th>\n",
       "      <td>0.490494</td>\n",
       "      <td>0.292065</td>\n",
       "      <td>-14.767863</td>\n",
       "      <td>112.525696</td>\n",
       "    </tr>\n",
       "    <tr>\n",
       "      <th>1952</th>\n",
       "      <td>0.488723</td>\n",
       "      <td>0.236367</td>\n",
       "      <td>-14.562872</td>\n",
       "      <td>111.201584</td>\n",
       "    </tr>\n",
       "    <tr>\n",
       "      <th>1953</th>\n",
       "      <td>0.462916</td>\n",
       "      <td>0.394446</td>\n",
       "      <td>-15.076856</td>\n",
       "      <td>113.514893</td>\n",
       "    </tr>\n",
       "    <tr>\n",
       "      <th>1954</th>\n",
       "      <td>0.466878</td>\n",
       "      <td>0.296898</td>\n",
       "      <td>-14.769774</td>\n",
       "      <td>108.901169</td>\n",
       "    </tr>\n",
       "    <tr>\n",
       "      <th>1955</th>\n",
       "      <td>0.492357</td>\n",
       "      <td>0.231569</td>\n",
       "      <td>-13.848489</td>\n",
       "      <td>111.257248</td>\n",
       "    </tr>\n",
       "  </tbody>\n",
       "</table>\n",
       "</div>"
      ],
      "text/plain": [
       "      danceability  instrumentalness   loudness       tempo\n",
       "year                                                       \n",
       "1951      0.490494          0.292065 -14.767863  112.525696\n",
       "1952      0.488723          0.236367 -14.562872  111.201584\n",
       "1953      0.462916          0.394446 -15.076856  113.514893\n",
       "1954      0.466878          0.296898 -14.769774  108.901169\n",
       "1955      0.492357          0.231569 -13.848489  111.257248"
      ]
     },
     "execution_count": 21,
     "metadata": {},
     "output_type": "execute_result"
    }
   ],
   "source": [
    "df_agg = df_pandas.groupby('year').agg({'danceability':'mean', 'instrumentalness':'mean', 'loudness':'mean', 'tempo':'mean'})\n",
    "df_agg.head()"
   ]
  },
  {
   "cell_type": "code",
   "execution_count": 22,
   "metadata": {},
   "outputs": [
    {
     "data": {
      "image/png": "[encoded data removed]",
      "text/plain": [
       "<Figure size 432x288 with 4 Axes>"
      ]
     },
     "metadata": {
      "needs_background": "light"
     },
     "output_type": "display_data"
    }
   ],
   "source": [
    "import seaborn as sns\n",
    "import matplotlib.pyplot as plt\n",
    "\n",
    "fig, axs = plt.subplots(2, 2)\n",
    "axs[0, 0].plot(df_agg.index, df_agg['danceability'])\n",
    "axs[0, 0].set_title('Danceability vs Year')\n",
    "axs[0, 1].plot(df_agg.index, df_agg['instrumentalness'], 'tab:orange')\n",
    "axs[0, 1].set_title('Instrumentalness vs Year')\n",
    "axs[1, 0].plot(df_agg.index, df_agg['loudness'], 'tab:green')\n",
    "axs[1, 0].set_title('Loudness vs Year')\n",
    "axs[1, 1].plot(df_agg.index, df_agg['tempo'], 'tab:red')\n",
    "axs[1, 1].set_title('Tempo vs Year')\n",
    "\n",
    "for ax in axs.flat:\n",
    "    ax.set(xlabel='Year', ylabel='Measure')\n",
    "\n",
    "# Hide x labels and tick labels for top plots and y ticks for right plots.\n",
    "for ax in axs.flat:\n",
    "    ax.label_outer()"
   ]
  },
  {
   "cell_type": "markdown",
   "metadata": {},
   "source": [
    "### Exploring Distribution of Popularity"
   ]
  },
  {
   "cell_type": "code",
   "execution_count": 23,
   "metadata": {},
   "outputs": [
    {
     "name": "stderr",
     "output_type": "stream",
     "text": [
      "C:\\ProgramData\\Anaconda3\\lib\\site-packages\\seaborn\\distributions.py:2557: FutureWarning: `distplot` is a deprecated function and will be removed in a future version. Please adapt your code to use either `displot` (a figure-level function with similar flexibility) or `histplot` (an axes-level function for histograms).\n",
      "  warnings.warn(msg, FutureWarning)\n"
     ]
    },
    {
     "data": {
      "image/png": "[encoded data removed]",
      "text/plain": [
       "<Figure size 432x288 with 1 Axes>"
      ]
     },
     "metadata": {
      "needs_background": "light"
     },
     "output_type": "display_data"
    }
   ],
   "source": [
    "sample_df = df.select(['popularity']).sample(False, 0.5, 42)\n",
    "sample_df = sample_df.toPandas()\n",
    "\n",
    "sns.distplot(sample_df)\n",
    "plt.xlabel('popularity') \n",
    "plt.show()"
   ]
  },
  {
   "cell_type": "code",
   "execution_count": 24,
   "metadata": {},
   "outputs": [
    {
     "data": {
      "image/png": "[encoded data removed]",
      "text/plain": [
       "<Figure size 446.625x360 with 1 Axes>"
      ]
     },
     "metadata": {
      "needs_background": "light"
     },
     "output_type": "display_data"
    }
   ],
   "source": [
    "sns.displot(sample_df, kde=True)\n",
    "plt.xlabel('popularity') \n",
    "plt.show()"
   ]
  },
  {
   "cell_type": "markdown",
   "metadata": {},
   "source": [
    "## Linear Regression Model"
   ]
  },
  {
   "cell_type": "markdown",
   "metadata": {},
   "source": [
    "**SCALING**"
   ]
  },
  {
   "cell_type": "code",
   "execution_count": 25,
   "metadata": {},
   "outputs": [],
   "source": [
    "import pyspark.sql.functions as func\n",
    "# Scale popularity\n",
    "df1 = df.withColumn('popularity_final',\n",
    "                   func.round(df['popularity']/100, 2)) \\\n",
    "        .withColumn('duration_min',\n",
    "                   func.round(df['duration_ms']/60000, 2))\\\n",
    "        .withColumn('instrumentalness_final',\n",
    "                   func.round(df['instrumentalness'] *1000, 2))"
   ]
  },
  {
   "cell_type": "markdown",
   "metadata": {},
   "source": [
    "**SELECT AND STANDARDIZE FEATURES**"
   ]
  },
  {
   "cell_type": "code",
   "execution_count": 26,
   "metadata": {},
   "outputs": [
    {
     "name": "stdout",
     "output_type": "stream",
     "text": [
      "+----------------+------------+------------+------------+------+----------------------+--------+--------+-----------+-----+-------+----+\n",
      "|popularity_final|acousticness|danceability|duration_min|energy|instrumentalness_final|liveness|loudness|speechiness|tempo|valence|year|\n",
      "+----------------+------------+------------+------------+------+----------------------+--------+--------+-----------+-----+-------+----+\n",
      "|            0.23|       0.991|        0.69|        2.91| 0.164|                 886.0|   0.129| -18.657|     0.0451| 80.1|  0.579|1951|\n",
      "+----------------+------------+------------+------------+------+----------------------+--------+--------+-----------+-----+-------+----+\n",
      "only showing top 1 row\n",
      "\n"
     ]
    }
   ],
   "source": [
    "vars_to_keep = ['popularity_final',\n",
    "                'acousticness',\n",
    "                'danceability',\n",
    "                'duration_min', \n",
    "                'energy',\n",
    "                'instrumentalness_final',\n",
    "                'liveness',\n",
    "                'loudness',\n",
    "                'speechiness',\n",
    "                'tempo',\n",
    "                'valence',\n",
    "                'year']\n",
    "\n",
    "# subset the dataframe on these predictors\n",
    "df1 = df1.select(vars_to_keep)\n",
    "df1.show(1)"
   ]
  },
  {
   "cell_type": "code",
   "execution_count": 27,
   "metadata": {},
   "outputs": [],
   "source": [
    "# Popularity_final V.S. Features\n",
    "features= ['acousticness',\n",
    "           'danceability',\n",
    "           'duration_min',\n",
    "           'energy', \n",
    "           'instrumentalness_final',\n",
    "           'liveness',\n",
    "           'loudness', \n",
    "           'speechiness',\n",
    "           'tempo',\n",
    "           'valence',\n",
    "           'year']\n",
    "\n",
    "assembler = VectorAssembler(\n",
    "    inputCols = features, \n",
    "    outputCol = \"features\") \n",
    "df1 = assembler.transform(df1)"
   ]
  },
  {
   "cell_type": "code",
   "execution_count": 28,
   "metadata": {},
   "outputs": [
    {
     "name": "stdout",
     "output_type": "stream",
     "text": [
      "+-----+--------------------+\n",
      "|label|            features|\n",
      "+-----+--------------------+\n",
      "| 0.23|[0.99099999666213...|\n",
      "| 0.14|[0.98100000619888...|\n",
      "| 0.19|[0.89700001478195...|\n",
      "| 0.44|[0.875,0.30000001...|\n",
      "| 0.41|[0.88899999856948...|\n",
      "+-----+--------------------+\n",
      "only showing top 5 rows\n",
      "\n"
     ]
    }
   ],
   "source": [
    "df1 = df1.select([\"popularity_final\",'features']) \\\n",
    "       .withColumnRenamed(\"popularity_final\", 'label')\n",
    "df1.show(5)"
   ]
  },
  {
   "cell_type": "code",
   "execution_count": 29,
   "metadata": {},
   "outputs": [],
   "source": [
    "## Feature scaling\n",
    "# Initialize the `standardScaler`\n",
    "standardScaler = StandardScaler(inputCol=\"features\", outputCol=\"features_scaled\", \n",
    "                                withStd=True, withMean=False)\n",
    "\n",
    "# Fit the DataFrame to the scaler; this computes the mean, standard deviation of each feature\n",
    "scaler = standardScaler.fit(df1)\n",
    "\n",
    "# Transform the data in `df2` with the scaler\n",
    "scaled_df = scaler.transform(df1)"
   ]
  },
  {
   "cell_type": "code",
   "execution_count": 30,
   "metadata": {},
   "outputs": [],
   "source": [
    "# Split data into train set (80%), test set (20%) \n",
    "seed = 314\n",
    "train_test = [0.8, 0.2]\n",
    "train_data, test_data = scaled_df.randomSplit(train_test, seed)"
   ]
  },
  {
   "cell_type": "code",
   "execution_count": 31,
   "metadata": {},
   "outputs": [
    {
     "name": "stdout",
     "output_type": "stream",
     "text": [
      "+-----+--------------------+--------------------+\n",
      "|label|            features|     features_scaled|\n",
      "+-----+--------------------+--------------------+\n",
      "| 0.01|[1.17000001864653...|[3.33226606158317...|\n",
      "| 0.01|[3.76999996660742...|[1.07373014877625...|\n",
      "| 0.01|[9.31999995373189...|[0.00265442043118...|\n",
      "+-----+--------------------+--------------------+\n",
      "only showing top 3 rows\n",
      "\n"
     ]
    }
   ],
   "source": [
    "train_data.show(3)"
   ]
  },
  {
   "cell_type": "code",
   "execution_count": 32,
   "metadata": {},
   "outputs": [],
   "source": [
    "train_df1 = train_data"
   ]
  },
  {
   "cell_type": "code",
   "execution_count": 33,
   "metadata": {},
   "outputs": [
    {
     "name": "stdout",
     "output_type": "stream",
     "text": [
      "Coefficients: [-0.048423005315974876,0.053585576203364585,0.0024520166813973613,-0.07543727966950034,-9.940147463971283e-05,-0.09401758861975337,0.0032800158118553003,-0.04129346658544222,-4.8409029946641355e-05,-0.009394179752213811,0.003979083508673188]\n",
      "Intercept: -7.436779139865779\n"
     ]
    }
   ],
   "source": [
    "lr = LinearRegression(featuresCol = 'features', labelCol='label',\n",
    "                      maxIter=10, regParam=0.0, elasticNetParam=0 )\n",
    "model = lr.fit(train_df1)\n",
    "prediction = model.transform(test_data)\n",
    "\n",
    "print(\"Coefficients: \" + str(model.coefficients))\n",
    "print(\"Intercept: \" + str(model.intercept))"
   ]
  },
  {
   "cell_type": "code",
   "execution_count": 34,
   "metadata": {},
   "outputs": [
    {
     "name": "stdout",
     "output_type": "stream",
     "text": [
      "RMSE: 0.152632\n",
      "r2: 0.290996\n"
     ]
    }
   ],
   "source": [
    "trainingSummary = model.summary\n",
    "print(\"RMSE: %f\" % trainingSummary.rootMeanSquaredError)\n",
    "print(\"r2: %f\" % trainingSummary.r2)"
   ]
  },
  {
   "cell_type": "code",
   "execution_count": 35,
   "metadata": {},
   "outputs": [
    {
     "data": {
      "text/html": [
       "<div>\n",
       "<style scoped>\n",
       "    .dataframe tbody tr th:only-of-type {\n",
       "        vertical-align: middle;\n",
       "    }\n",
       "\n",
       "    .dataframe tbody tr th {\n",
       "        vertical-align: top;\n",
       "    }\n",
       "\n",
       "    .dataframe thead th {\n",
       "        text-align: right;\n",
       "    }\n",
       "</style>\n",
       "<table border=\"1\" class=\"dataframe\">\n",
       "  <thead>\n",
       "    <tr style=\"text-align: right;\">\n",
       "      <th></th>\n",
       "      <th>summary</th>\n",
       "      <th>label</th>\n",
       "    </tr>\n",
       "  </thead>\n",
       "  <tbody>\n",
       "    <tr>\n",
       "      <th>0</th>\n",
       "      <td>count</td>\n",
       "      <td>98598</td>\n",
       "    </tr>\n",
       "    <tr>\n",
       "      <th>1</th>\n",
       "      <td>mean</td>\n",
       "      <td>0.35590894338627593</td>\n",
       "    </tr>\n",
       "    <tr>\n",
       "      <th>2</th>\n",
       "      <td>stddev</td>\n",
       "      <td>0.18126865478510026</td>\n",
       "    </tr>\n",
       "    <tr>\n",
       "      <th>3</th>\n",
       "      <td>min</td>\n",
       "      <td>0.01</td>\n",
       "    </tr>\n",
       "    <tr>\n",
       "      <th>4</th>\n",
       "      <td>max</td>\n",
       "      <td>1.0</td>\n",
       "    </tr>\n",
       "  </tbody>\n",
       "</table>\n",
       "</div>"
      ],
      "text/plain": [
       "  summary                label\n",
       "0   count                98598\n",
       "1    mean  0.35590894338627593\n",
       "2  stddev  0.18126865478510026\n",
       "3     min                 0.01\n",
       "4     max                  1.0"
      ]
     },
     "execution_count": 35,
     "metadata": {},
     "output_type": "execute_result"
    }
   ],
   "source": [
    "train_data.describe().toPandas()"
   ]
  },
  {
   "cell_type": "code",
   "execution_count": 36,
   "metadata": {},
   "outputs": [
    {
     "name": "stdout",
     "output_type": "stream",
     "text": [
      "+-------------------+-----+--------------------+\n",
      "|         prediction|label|            features|\n",
      "+-------------------+-----+--------------------+\n",
      "| 0.5334659929483632| 0.01|[0.00875000003725...|\n",
      "|0.39934351784347655| 0.01|[0.37099999189376...|\n",
      "|0.05602891256215603| 0.01|[0.99500000476837...|\n",
      "| 0.3230987250848294| 0.04|[0.00190999999176...|\n",
      "| 0.2628214048333817| 0.04|[0.75300002098083...|\n",
      "+-------------------+-----+--------------------+\n",
      "only showing top 5 rows\n",
      "\n"
     ]
    }
   ],
   "source": [
    "prediction = model.transform(test_data)\n",
    "prediction.select(\"prediction\",\"label\",\"features\").show(5)"
   ]
  },
  {
   "cell_type": "code",
   "execution_count": 37,
   "metadata": {},
   "outputs": [
    {
     "name": "stdout",
     "output_type": "stream",
     "text": [
      "R Squared (R2) on test data = 0.284324\n"
     ]
    }
   ],
   "source": [
    "lr_evaluator = RegressionEvaluator(predictionCol=\"prediction\", \\\n",
    "                 labelCol=\"label\",metricName=\"r2\")\n",
    "print(\"R Squared (R2) on test data = %g\" % lr_evaluator.evaluate(prediction))"
   ]
  },
  {
   "cell_type": "code",
   "execution_count": 38,
   "metadata": {},
   "outputs": [
    {
     "name": "stdout",
     "output_type": "stream",
     "text": [
      "numIterations: 0\n",
      "objectiveHistory: [0.0]\n",
      "+--------------------+\n",
      "|           residuals|\n",
      "+--------------------+\n",
      "|-0.34565671028587075|\n",
      "| -0.4687169337735966|\n",
      "| -0.4052326978144849|\n",
      "|-0.38291023004942804|\n",
      "|-0.37663218114532504|\n",
      "| -0.4144099164494708|\n",
      "| -0.2111391876461146|\n",
      "| -0.4382435570950798|\n",
      "|-0.21602513561266481|\n",
      "|-0.21442958451647923|\n",
      "|-0.10719016559768547|\n",
      "|-0.10738891599069202|\n",
      "|-0.38737165537939444|\n",
      "|-0.42395814426570966|\n",
      "| -0.4373727327169903|\n",
      "|-0.46068986084240415|\n",
      "| -0.5023621026602723|\n",
      "|-0.43962249471960857|\n",
      "|-0.34426553497459805|\n",
      "| -0.4748502144478551|\n",
      "+--------------------+\n",
      "only showing top 20 rows\n",
      "\n"
     ]
    }
   ],
   "source": [
    "print(\"numIterations: %d\" % trainingSummary.totalIterations)\n",
    "print(\"objectiveHistory: %s\" % str(trainingSummary.objectiveHistory))\n",
    "trainingSummary.residuals.show()"
   ]
  },
  {
   "cell_type": "markdown",
   "metadata": {},
   "source": [
    "## Random Forest"
   ]
  },
  {
   "cell_type": "code",
   "execution_count": 39,
   "metadata": {},
   "outputs": [],
   "source": [
    "# IMPORT\n",
    "import numpy\n",
    "from numpy import allclose\n",
    "from pyspark.ml.linalg import Vectors\n",
    "from pyspark.ml.feature import StringIndexer\n",
    "from pyspark.ml.classification import RandomForestClassifier"
   ]
  },
  {
   "cell_type": "code",
   "execution_count": 40,
   "metadata": {},
   "outputs": [],
   "source": [
    "# PREPARE DATA\n",
    "stringIndexer = StringIndexer(inputCol=\"label\", outputCol=\"indexed\")\n",
    "si_model = stringIndexer.fit(df1)\n",
    "td = si_model.transform(df1)"
   ]
  },
  {
   "cell_type": "code",
   "execution_count": 41,
   "metadata": {},
   "outputs": [],
   "source": [
    "# BUILD THE MODEL\n",
    "rf = RandomForestClassifier(numTrees=11, maxDepth=2, labelCol=\"indexed\", seed=314)\n",
    "model = rf.fit(td)"
   ]
  },
  {
   "cell_type": "code",
   "execution_count": 42,
   "metadata": {},
   "outputs": [
    {
     "name": "stdout",
     "output_type": "stream",
     "text": [
      "(11,[0,3,4,6,7,10],[0.14972685915008468,0.09442190396143224,0.023789289206230333,0.07286467765959422,0.0032631725900500535,0.6559340974326084])\n"
     ]
    }
   ],
   "source": [
    "# FEATURE IMPORTANCES\n",
    "print(model.featureImportances)"
   ]
  },
  {
   "cell_type": "markdown",
   "metadata": {},
   "source": [
    "///////////////////////////////////////////////////////////////////////////////////////////////////////////////////////////////////////////////////////////////////////"
   ]
  },
  {
   "cell_type": "code",
   "execution_count": 43,
   "metadata": {},
   "outputs": [],
   "source": [
    "from pyspark.ml import Pipeline\n",
    "from pyspark.ml.regression import RandomForestRegressor\n",
    "from pyspark.ml.feature import VectorIndexer\n",
    "from pyspark.ml.evaluation import RegressionEvaluator\n",
    "from pyspark.mllib.util import MLUtils"
   ]
  },
  {
   "cell_type": "code",
   "execution_count": 44,
   "metadata": {},
   "outputs": [
    {
     "name": "stdout",
     "output_type": "stream",
     "text": [
      "+-------------------+-----+--------------------+\n",
      "|         prediction|label|            features|\n",
      "+-------------------+-----+--------------------+\n",
      "|0.47909013615121704| 0.01|[0.00875000003725...|\n",
      "|0.14264778931547298| 0.01|[0.99500000476837...|\n",
      "|0.26880168288613215| 0.03|[1.44999998155981...|\n",
      "|0.42567317427084916| 0.03|[0.00602999981492...|\n",
      "|0.44548909335972253| 0.03|[0.02960000000894...|\n",
      "+-------------------+-----+--------------------+\n",
      "only showing top 5 rows\n",
      "\n",
      "Root Mean Squared Error (RMSE) on test data = 0.142262\n",
      "R Squared (R2) on test data = 0.381659\n",
      "RandomForestRegressionModel: uid=RandomForestRegressor_3ebc38efc829, numTrees=20, numFeatures=11\n"
     ]
    }
   ],
   "source": [
    "# Automatically identify categorical features, and index them.\n",
    "# Set maxCategories so features with > 4 distinct values are treated as continuous.\n",
    "featureIndexer = VectorIndexer(inputCol=\"features\", outputCol=\"indexedFeatures\", maxCategories=4).fit(df1)\n",
    "\n",
    "# Split the data into training and test sets (20% held out for testing)\n",
    "(trainingData, testData) = df1.randomSplit([0.8, 0.2])\n",
    "\n",
    "# Train a RandomForest model.\n",
    "rf = RandomForestRegressor(featuresCol=\"indexedFeatures\")\n",
    "\n",
    "# Chain indexer and forest in a Pipeline\n",
    "pipeline = Pipeline(stages=[featureIndexer, rf])\n",
    "\n",
    "# Train model.  This also runs the indexer.\n",
    "model = pipeline.fit(trainingData)\n",
    "\n",
    "# Make predictions.\n",
    "predictions = model.transform(testData)\n",
    "\n",
    "# Select example rows to display.\n",
    "predictions.select(\"prediction\", \"label\", \"features\").show(5)\n",
    "\n",
    "# Select (prediction, true label) and compute test error\n",
    "evaluator = RegressionEvaluator(\n",
    "    labelCol=\"label\", predictionCol=\"prediction\", metricName=\"rmse\")\n",
    "rmse = evaluator.evaluate(predictions)\n",
    "print (\"Root Mean Squared Error (RMSE) on test data = %g\" % rmse)\n",
    "\n",
    "\n",
    "r2_evaluator = RegressionEvaluator(predictionCol=\"prediction\", \\\n",
    "                 labelCol=\"label\",metricName=\"r2\")\n",
    "print(\"R Squared (R2) on test data = %g\" % r2_evaluator.evaluate(predictions))\n",
    "\n",
    "rfModel = model.stages[1]\n",
    "print (rfModel) # summary only"
   ]
  },
  {
   "cell_type": "markdown",
   "metadata": {},
   "source": [
    "## Decision Tree"
   ]
  },
  {
   "cell_type": "code",
   "execution_count": 45,
   "metadata": {},
   "outputs": [
    {
     "name": "stdout",
     "output_type": "stream",
     "text": [
      "Root Mean Squared Error (RMSE) on test data = 0.142488\n"
     ]
    }
   ],
   "source": [
    "from pyspark.ml.regression import DecisionTreeRegressor\n",
    "dt = DecisionTreeRegressor(featuresCol ='features', labelCol = 'label')\n",
    "model = dt.fit(train_data)\n",
    "prediction = model.transform(test_data)\n",
    "evaluator = RegressionEvaluator(\n",
    "    labelCol=\"label\", predictionCol=\"prediction\", metricName=\"rmse\")\n",
    "rmse = evaluator.evaluate(prediction)\n",
    "print(\"Root Mean Squared Error (RMSE) on test data = %g\" % rmse)"
   ]
  },
  {
   "cell_type": "code",
   "execution_count": 46,
   "metadata": {},
   "outputs": [
    {
     "data": {
      "text/plain": [
       "SparseVector(11, {0: 0.0242, 1: 0.0001, 2: 0.0047, 3: 0.0002, 4: 0.1216, 5: 0.0229, 6: 0.0013, 7: 0.0009, 10: 0.8242})"
      ]
     },
     "execution_count": 46,
     "metadata": {},
     "output_type": "execute_result"
    }
   ],
   "source": [
    "model.featureImportances"
   ]
  },
  {
   "cell_type": "code",
   "execution_count": 47,
   "metadata": {},
   "outputs": [
    {
     "data": {
      "text/plain": [
       "[Row(label=0.23, features=DenseVector([0.991, 0.69, 2.91, 0.164, 886.0, 0.129, -18.657, 0.0451, 80.1, 0.579, 1951.0]))]"
      ]
     },
     "execution_count": 47,
     "metadata": {},
     "output_type": "execute_result"
    }
   ],
   "source": [
    "df1.take(1)"
   ]
  },
  {
   "cell_type": "markdown",
   "metadata": {},
   "source": [
    "///////////////////////////////////////////////////////////////////////////////////////////////////////////////////////////////////////////////////////////////////////"
   ]
  },
  {
   "cell_type": "code",
   "execution_count": 48,
   "metadata": {},
   "outputs": [],
   "source": [
    "featureIndexer = VectorIndexer(inputCol = \"features\", outputCol = \"indexedFeatures\").fit(df1)\n",
    "\n",
    "(trainingData, testData) = df1.randomSplit([0.8, 0.2])\n",
    "\n",
    "dt = DecisionTreeRegressor(featuresCol ='features', labelCol = 'label')\n",
    "\n",
    "pipeline = Pipeline(stages =[featureIndexer, dt])\n",
    "\n",
    "model = pipeline.fit(trainingData)\n",
    "\n",
    "predictions = model.transform(testData)"
   ]
  },
  {
   "cell_type": "code",
   "execution_count": 49,
   "metadata": {},
   "outputs": [
    {
     "name": "stdout",
     "output_type": "stream",
     "text": [
      "+-------------------+-----+--------------------+\n",
      "|         prediction|label|            features|\n",
      "+-------------------+-----+--------------------+\n",
      "|0.44909825242718454| 0.01|[0.37099999189376...|\n",
      "|0.44909825242718454| 0.01|[0.59700000286102...|\n",
      "|0.09518153846153846| 0.02|[0.98900002241134...|\n",
      "|0.44909825242718454| 0.03|[0.02960000000894...|\n",
      "|0.32250487329434696| 0.04|[0.0625,0.8690000...|\n",
      "|0.11947574334898278| 0.05|[0.59700000286102...|\n",
      "|0.09518153846153846| 0.05|[0.98699998855590...|\n",
      "|0.11867324561403501| 0.06|[0.86199998855590...|\n",
      "| 0.2134504059301094| 0.07|[0.72399997711181...|\n",
      "|0.44909825242718454| 0.08|[8.82999971508979...|\n",
      "+-------------------+-----+--------------------+\n",
      "only showing top 10 rows\n",
      "\n",
      "Root Mean Squared Error (RMSE) on test data = 0.142166\n",
      "R Squared (R2) on test data = 0.385266\n",
      "DecisionTreeRegressionModel: uid=DecisionTreeRegressor_9454c96408c2, depth=5, numNodes=63, numFeatures=11\n"
     ]
    }
   ],
   "source": [
    "predictions.select(\"prediction\", \"label\", \"features\").show(10)\n",
    "\n",
    "# Select (prediction, true label) and compute test error\n",
    "evaluator = RegressionEvaluator(\n",
    "    labelCol=\"label\", predictionCol=\"prediction\", metricName=\"rmse\")\n",
    "rmse = evaluator.evaluate(predictions)\n",
    "print(\"Root Mean Squared Error (RMSE) on test data = %g\" % rmse)\n",
    "\n",
    "r2_evaluator = RegressionEvaluator(predictionCol=\"prediction\", \\\n",
    "                 labelCol=\"label\",metricName=\"r2\")\n",
    "print(\"R Squared (R2) on test data = %g\" % r2_evaluator.evaluate(predictions))\n",
    "\n",
    "treeModel = model.stages[1]\n",
    "# summary only\n",
    "print(treeModel)"
   ]
  },
  {
   "cell_type": "markdown",
   "metadata": {},
   "source": [
    "## Gradient-boosted Tree Regression"
   ]
  },
  {
   "cell_type": "code",
   "execution_count": 50,
   "metadata": {},
   "outputs": [
    {
     "name": "stdout",
     "output_type": "stream",
     "text": [
      "+-------------------+-----+--------------------+\n",
      "|         prediction|label|            features|\n",
      "+-------------------+-----+--------------------+\n",
      "|  0.456775378263556| 0.01|[0.00875000003725...|\n",
      "|0.25701466283122226| 0.01|[0.37099999189376...|\n",
      "|0.07890919444706769| 0.01|[0.99500000476837...|\n",
      "|0.38539002853362453| 0.04|[0.00190999999176...|\n",
      "|0.12416666744779405| 0.04|[0.75300002098083...|\n",
      "+-------------------+-----+--------------------+\n",
      "only showing top 5 rows\n",
      "\n"
     ]
    }
   ],
   "source": [
    "from pyspark.ml.regression import GBTRegressor\n",
    "gbt = GBTRegressor(featuresCol = 'features', labelCol = 'label', maxIter=10,\n",
    "                   maxDepth=5, )\n",
    "gbt_model = gbt.fit(train_data)\n",
    "gbt_predictions = gbt_model.transform(test_data)\n",
    "gbt_predictions.select('prediction', 'label', 'features').show(5)"
   ]
  },
  {
   "cell_type": "code",
   "execution_count": 51,
   "metadata": {},
   "outputs": [
    {
     "name": "stdout",
     "output_type": "stream",
     "text": [
      "Root Mean Squared Error (RMSE) on test data = 0.13613\n"
     ]
    }
   ],
   "source": [
    "gbt_evaluator = RegressionEvaluator(\n",
    "    labelCol=\"label\", predictionCol=\"prediction\", metricName=\"rmse\")\n",
    "rmse = gbt_evaluator.evaluate(gbt_predictions)\n",
    "print(\"Root Mean Squared Error (RMSE) on test data = %g\" % rmse)"
   ]
  },
  {
   "cell_type": "markdown",
   "metadata": {},
   "source": [
    "///////////////////////////////////////////////////////////////////////////////////////////////////////////////////////////////////////////////////////////////////////"
   ]
  },
  {
   "cell_type": "code",
   "execution_count": 52,
   "metadata": {},
   "outputs": [],
   "source": [
    "featureIndexer = VectorIndexer(inputCol = \"features\", outputCol = \"indexedFeatures\").fit(df1)\n",
    "\n",
    "(trainingData, testData) = df1.randomSplit([0.8, 0.2])\n",
    "\n",
    "gbt = GBTRegressor(featuresCol = 'features', labelCol = 'label', maxIter=10, maxDepth = 10)\n",
    "\n",
    "pipeline = Pipeline(stages =[featureIndexer, gbt])\n",
    "\n",
    "model = pipeline.fit(trainingData)\n",
    "\n",
    "predictions = model.transform(testData)"
   ]
  },
  {
   "cell_type": "code",
   "execution_count": 53,
   "metadata": {},
   "outputs": [
    {
     "name": "stdout",
     "output_type": "stream",
     "text": [
      "+--------------------+-----+--------------------+\n",
      "|          prediction|label|            features|\n",
      "+--------------------+-----+--------------------+\n",
      "| 0.22654058417253187| 0.01|[0.01090000011026...|\n",
      "|-0.13088698434640783| 0.01|[0.37099999189376...|\n",
      "| 0.05095156562769044| 0.01|[0.98600000143051...|\n",
      "| 0.15904638038503935| 0.04|[0.75300002098083...|\n",
      "| 0.43714162775131604| 0.05|[0.00255999993532...|\n",
      "|  0.2848186981091478| 0.06|[1.15000000278087...|\n",
      "| 0.14915895393142237| 0.07|[0.00400000018998...|\n",
      "| 0.24473772491506562| 0.07|[0.72399997711181...|\n",
      "| 0.12623816040799526| 0.08|[0.82499998807907...|\n",
      "| 0.15867217797208258| 0.09|[0.23999999463558...|\n",
      "+--------------------+-----+--------------------+\n",
      "only showing top 10 rows\n",
      "\n",
      "Root Mean Squared Error (RMSE) on test data = 0.132238\n",
      "R Squared (R2) on test data = 0.465968\n"
     ]
    }
   ],
   "source": [
    "predictions.select(\"prediction\", \"label\", \"features\").show(10)\n",
    "\n",
    "# Select (prediction, true label) and compute test error\n",
    "evaluator = RegressionEvaluator(\n",
    "    labelCol=\"label\", predictionCol=\"prediction\", metricName=\"rmse\")\n",
    "rmse = evaluator.evaluate(predictions)\n",
    "print(\"Root Mean Squared Error (RMSE) on test data = %g\" % rmse)\n",
    "\n",
    "r2_evaluator = RegressionEvaluator(predictionCol=\"prediction\", \\\n",
    "                 labelCol=\"label\",metricName=\"r2\")\n",
    "print(\"R Squared (R2) on test data = %g\" % r2_evaluator.evaluate(predictions))"
   ]
  },
  {
   "cell_type": "code",
   "execution_count": null,
   "metadata": {},
   "outputs": [],
   "source": []
  }
 ],
 "metadata": {
  "kernelspec": {
   "display_name": "Python 3",
   "language": "python",
   "name": "python3"
  },
  "language_info": {
   "codemirror_mode": {
    "name": "ipython",
    "version": 3
   },
   "file_extension": ".py",
   "mimetype": "text/x-python",
   "name": "python",
   "nbconvert_exporter": "python",
   "pygments_lexer": "ipython3",
   "version": "3.7.9"
  }
 },
 "nbformat": 4,
 "nbformat_minor": 4
}
